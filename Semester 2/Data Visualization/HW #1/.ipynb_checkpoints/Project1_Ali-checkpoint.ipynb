{
 "cells": [
  {
   "cell_type": "markdown",
   "metadata": {
    "collapsed": true
   },
   "source": [
    "<p class=\"pull-left\">\n",
    "ANLT 212 - Analytics Computing\n",
    "</p>\n",
    "<div class=\"pull-right\">\n",
    "<ul class=\"list-inline\">\n",
    "Copyright © Dana Nehoran 2017\n",
    "</ul>\n",
    "</div>"
   ]
  },
  {
   "cell_type": "markdown",
   "metadata": {},
   "source": [
    "<div style=\"background-color: #F378AA; border:1px solid #000; margin-left: 2px; margin-right: 2px; \n",
    "\n",
    "padding-bottom: 2px; padding-left: 2px; padding-right: 1px; padding-top: 10px;\">\n",
    "<center><b><font size=\"6\">Group Project 1 - R Project</font></b></center>\n",
    "</div>"
   ]
  },
  {
   "cell_type": "markdown",
   "metadata": {
    "collapsed": true
   },
   "source": [
    "## Wine Quality Dataset\n",
    " Ali Taheri "
   ]
  },
  {
   "cell_type": "markdown",
   "metadata": {},
   "source": [
    "<blockquote style=\"border: 2px solid #666; padding: 10px; background-color: #acc;\"><b>Question 1:</b> Project Definition</blockquote> "
   ]
  },
  {
   "cell_type": "markdown",
   "metadata": {
    "collapsed": true
   },
   "source": [
    "<font color=\"blue\", size = 4><b>a)</b></font> <b>Data Selection</b>: Explain why this data was selected. What are the overall characteristics of the data."
   ]
  },
  {
   "cell_type": "markdown",
   "metadata": {},
   "source": [
    "<span style=\"background-color: #FFFF00\">Your answer here</span>"
   ]
  },
  {
   "cell_type": "markdown",
   "metadata": {
    "collapsed": true
   },
   "source": [
    "At this document we investigate the relationship between the ranking of red wine quality by three experts\n",
    "and 11 variables resulting from physicochemical tests carried out against the wines.\n",
    "Dataset is related to red variant of the Portuguese \"Vinho Verde\" wine. For more details, please see: http://www.vinhoverde.pt/en/ or the reference [Cortez et al., 2009]. \n",
    "Due to privacy  issues, only physicochemical (inputs) and sensory (the output) variables are available (e.g. there is no data about grape types, wine brand, wine selling price, etc.)"
   ]
  },
  {
   "cell_type": "markdown",
   "metadata": {
    "collapsed": true
   },
   "source": [
    "<font color=\"blue\", size = 4><b>b)</b></font> <b>Stakeholder</b>: Describe your stakeholder. Who is the potential sponsor of your project? For example: a real estate investor, the police department, a city mayor, etc. "
   ]
  },
  {
   "cell_type": "markdown",
   "metadata": {},
   "source": [
    "<span style=\"background-color: #FFFF00\">Your answer here</span>"
   ]
  },
  {
   "cell_type": "markdown",
   "metadata": {
    "collapsed": true
   },
   "source": [
    "Wine industry is gowing because social drinking is on the rise.The price of wine depends on concept of ranking by wine tasters. Producing a wine with high ranking is very important for investors of this field.Stakeholder is a new investor in business of “Vinho Verde” wine that wants to gather detailed information for producing wine with high rank. \n",
    "We must make a report for them based on analysis. He asked us: “Which chemical properties influence the quality of red wines?”. "
   ]
  },
  {
   "cell_type": "markdown",
   "metadata": {
    "collapsed": true
   },
   "source": [
    "<font color=\"blue\", size = 4><b>c)</b></font> <b>Objective</b>: Project objective, justification, expected outcome"
   ]
  },
  {
   "cell_type": "markdown",
   "metadata": {},
   "source": [
    "<span style=\"background-color: #FFFF00\">Your answer here</span>"
   ]
  },
  {
   "cell_type": "markdown",
   "metadata": {
    "collapsed": true
   },
   "source": [
    "This dataset provided information for two types of red and wine wines that at this phase we will do analysis on red wine.\n",
    "It has eleven input variables that are different physicochemical parameteres of wine and one output variable that is quality of \n",
    "wine thave been provided by wine experts.\n",
    "Stakeholder asked us to find optimized values of different parameters for the best  wine of this type.\n",
    "It is important to have a thorough analysis of all parameters and find expected information for stakeholder.\n",
    "We must find relation between input parameters and find relation of output parameter with input parameters.\n"
   ]
  },
  {
   "cell_type": "markdown",
   "metadata": {},
   "source": [
    "<blockquote style=\"border: 2px solid #666; padding: 10px; background-color: #acc;\"><b>Question 2:</b> Exploratory Data Analysis</blockquote> "
   ]
  },
  {
   "cell_type": "markdown",
   "metadata": {},
   "source": [
    "Create some exploratory analysis on your data using core R functions and visualizations. Cluster the information into different groups to explore the possibilities for your proposed project. Summarize your data and conduct some statistics. Explain your findings in English."
   ]
  },
  {
   "cell_type": "markdown",
   "metadata": {
    "collapsed": true
   },
   "source": [
    "<font color=\"blue\", size = 4><b>a)</b></font> <b>Data Summary</b>: Show summary information of the different variables. Select the columns you are interested in. Explain each column, its range and purpose"
   ]
  },
  {
   "cell_type": "markdown",
   "metadata": {},
   "source": [
    "<span style=\"background-color: #FFFF00\">Your answer here</span>"
   ]
  },
  {
   "cell_type": "markdown",
   "metadata": {
    "collapsed": true
   },
   "source": [
    "### Input Variables\n",
    "\n",
    "There are 11 inputs (explanatory) variables that were collected as measurements through a variety of tests on the wines:\n",
    "\n",
    "1 - <b>fixed acidity</b>: most acids involved with wine or fixed or nonvolatile (do not evaporate readily)\n",
    "\n",
    "2 - <b>volatile acidity</b>: the amount of acetic acid in wine, which at too high of levels can lead to an unpleasant, vinegar taste <br>\n",
    "\n",
    "3 - <b>citric acid</b>: found in small quantities, citric acid can add 'freshness' and flavor to wines <br>\n",
    "\n",
    "4 - <b>residual sugar</b>: the amount of sugar remaining after fermentation stops, it's rare to find wines with less than 1 gram/liter and wines with greater than 45 grams/liter are considered sweet <br>\n",
    "\n",
    "5 - <b>chlorides</b>: the amount of salt in the wine <br>\n",
    "\n",
    "6 - <b>free sulfur dioxide</b>: the free form of SO2 exists in equilibrium between molecular SO2 (as a dissolved gas) and \n",
    "    bisulfiteion; it prevents microbial growth and the oxidation of wine <br>\n",
    "    \n",
    "7 - <b>total sulfur dioxide</b>: amount of free and bound forms of S02; in low concentrations, SO2 is mostly undetectable in wine, but at free SO2 concentrations over 50 ppm, SO2 becomes evident in the nose and taste of wine <br>\n",
    "\n",
    "8 - <b>density</b>: the density of water is close to that of water depending on the percent alcohol and sugar content <br>\n",
    "\n",
    "9 - <b>pH</b>: describes how acidic or basic a wine is on a scale from 0 (very acidic) to 14 (very basic); most wines are between 3-4 on the pH scale <br>\n",
    "\n",
    "10 - <b>sulphates</b>: a wine additive which can contribute to sulfur dioxide gas (S02) levels, wich acts as an antimicrobial and antioxidant <br>\n",
    "\n",
    "11 - <b>alcohol</b>: the percent alcohol content of the wine\n",
    "\n",
    "All input variables are  <b> continuous </b> variables.\n",
    "\n",
    "### Output Variable\n",
    "\n",
    "The output variable is the quality ranking of wine. This is an integer in the range 0 (very bad) to 10 (very excellent). For the purpose of this investigation we will treat the quality response variable as a continuous variable to allow us to use simple linear modelling techniques.\n",
    "\n",
    "### Data\n",
    "\n",
    "We have 1599 samples of all input and output variables with no missing data.\n",
    "\n"
   ]
  },
  {
   "cell_type": "code",
   "execution_count": 2,
   "metadata": {},
   "outputs": [
    {
     "data": {
      "text/html": [
       "<table>\n",
       "<thead><tr><th scope=col>fixed.acidity</th><th scope=col>volatile.acidity</th><th scope=col>citric.acid</th><th scope=col>residual.sugar</th><th scope=col>chlorides</th><th scope=col>free.sulfur.dioxide</th><th scope=col>total.sulfur.dioxide</th><th scope=col>density</th><th scope=col>pH</th><th scope=col>sulphates</th><th scope=col>alcohol</th><th scope=col>quality</th></tr></thead>\n",
       "<tbody>\n",
       "\t<tr><td> 7.4  </td><td>0.70  </td><td>0.00  </td><td>1.9   </td><td>0.076 </td><td>11    </td><td> 34   </td><td>0.9978</td><td>3.51  </td><td>0.56  </td><td> 9.4  </td><td>5     </td></tr>\n",
       "\t<tr><td> 7.8  </td><td>0.88  </td><td>0.00  </td><td>2.6   </td><td>0.098 </td><td>25    </td><td> 67   </td><td>0.9968</td><td>3.20  </td><td>0.68  </td><td> 9.8  </td><td>5     </td></tr>\n",
       "\t<tr><td> 7.8  </td><td>0.76  </td><td>0.04  </td><td>2.3   </td><td>0.092 </td><td>15    </td><td> 54   </td><td>0.9970</td><td>3.26  </td><td>0.65  </td><td> 9.8  </td><td>5     </td></tr>\n",
       "\t<tr><td>11.2  </td><td>0.28  </td><td>0.56  </td><td>1.9   </td><td>0.075 </td><td>17    </td><td> 60   </td><td>0.9980</td><td>3.16  </td><td>0.58  </td><td> 9.8  </td><td>6     </td></tr>\n",
       "\t<tr><td> 7.4  </td><td>0.70  </td><td>0.00  </td><td>1.9   </td><td>0.076 </td><td>11    </td><td> 34   </td><td>0.9978</td><td>3.51  </td><td>0.56  </td><td> 9.4  </td><td>5     </td></tr>\n",
       "\t<tr><td> 7.4  </td><td>0.66  </td><td>0.00  </td><td>1.8   </td><td>0.075 </td><td>13    </td><td> 40   </td><td>0.9978</td><td>3.51  </td><td>0.56  </td><td> 9.4  </td><td>5     </td></tr>\n",
       "\t<tr><td> 7.9  </td><td>0.60  </td><td>0.06  </td><td>1.6   </td><td>0.069 </td><td>15    </td><td> 59   </td><td>0.9964</td><td>3.30  </td><td>0.46  </td><td> 9.4  </td><td>5     </td></tr>\n",
       "\t<tr><td> 7.3  </td><td>0.65  </td><td>0.00  </td><td>1.2   </td><td>0.065 </td><td>15    </td><td> 21   </td><td>0.9946</td><td>3.39  </td><td>0.47  </td><td>10.0  </td><td>7     </td></tr>\n",
       "\t<tr><td> 7.8  </td><td>0.58  </td><td>0.02  </td><td>2.0   </td><td>0.073 </td><td> 9    </td><td> 18   </td><td>0.9968</td><td>3.36  </td><td>0.57  </td><td> 9.5  </td><td>7     </td></tr>\n",
       "\t<tr><td> 7.5  </td><td>0.50  </td><td>0.36  </td><td>6.1   </td><td>0.071 </td><td>17    </td><td>102   </td><td>0.9978</td><td>3.35  </td><td>0.80  </td><td>10.5  </td><td>5     </td></tr>\n",
       "</tbody>\n",
       "</table>\n"
      ],
      "text/latex": [
       "\\begin{tabular}{r|llllllllllll}\n",
       " fixed.acidity & volatile.acidity & citric.acid & residual.sugar & chlorides & free.sulfur.dioxide & total.sulfur.dioxide & density & pH & sulphates & alcohol & quality\\\\\n",
       "\\hline\n",
       "\t  7.4   & 0.70   & 0.00   & 1.9    & 0.076  & 11     &  34    & 0.9978 & 3.51   & 0.56   &  9.4   & 5     \\\\\n",
       "\t  7.8   & 0.88   & 0.00   & 2.6    & 0.098  & 25     &  67    & 0.9968 & 3.20   & 0.68   &  9.8   & 5     \\\\\n",
       "\t  7.8   & 0.76   & 0.04   & 2.3    & 0.092  & 15     &  54    & 0.9970 & 3.26   & 0.65   &  9.8   & 5     \\\\\n",
       "\t 11.2   & 0.28   & 0.56   & 1.9    & 0.075  & 17     &  60    & 0.9980 & 3.16   & 0.58   &  9.8   & 6     \\\\\n",
       "\t  7.4   & 0.70   & 0.00   & 1.9    & 0.076  & 11     &  34    & 0.9978 & 3.51   & 0.56   &  9.4   & 5     \\\\\n",
       "\t  7.4   & 0.66   & 0.00   & 1.8    & 0.075  & 13     &  40    & 0.9978 & 3.51   & 0.56   &  9.4   & 5     \\\\\n",
       "\t  7.9   & 0.60   & 0.06   & 1.6    & 0.069  & 15     &  59    & 0.9964 & 3.30   & 0.46   &  9.4   & 5     \\\\\n",
       "\t  7.3   & 0.65   & 0.00   & 1.2    & 0.065  & 15     &  21    & 0.9946 & 3.39   & 0.47   & 10.0   & 7     \\\\\n",
       "\t  7.8   & 0.58   & 0.02   & 2.0    & 0.073  &  9     &  18    & 0.9968 & 3.36   & 0.57   &  9.5   & 7     \\\\\n",
       "\t  7.5   & 0.50   & 0.36   & 6.1    & 0.071  & 17     & 102    & 0.9978 & 3.35   & 0.80   & 10.5   & 5     \\\\\n",
       "\\end{tabular}\n"
      ],
      "text/markdown": [
       "\n",
       "fixed.acidity | volatile.acidity | citric.acid | residual.sugar | chlorides | free.sulfur.dioxide | total.sulfur.dioxide | density | pH | sulphates | alcohol | quality | \n",
       "|---|---|---|---|---|---|---|---|---|---|\n",
       "|  7.4   | 0.70   | 0.00   | 1.9    | 0.076  | 11     |  34    | 0.9978 | 3.51   | 0.56   |  9.4   | 5      | \n",
       "|  7.8   | 0.88   | 0.00   | 2.6    | 0.098  | 25     |  67    | 0.9968 | 3.20   | 0.68   |  9.8   | 5      | \n",
       "|  7.8   | 0.76   | 0.04   | 2.3    | 0.092  | 15     |  54    | 0.9970 | 3.26   | 0.65   |  9.8   | 5      | \n",
       "| 11.2   | 0.28   | 0.56   | 1.9    | 0.075  | 17     |  60    | 0.9980 | 3.16   | 0.58   |  9.8   | 6      | \n",
       "|  7.4   | 0.70   | 0.00   | 1.9    | 0.076  | 11     |  34    | 0.9978 | 3.51   | 0.56   |  9.4   | 5      | \n",
       "|  7.4   | 0.66   | 0.00   | 1.8    | 0.075  | 13     |  40    | 0.9978 | 3.51   | 0.56   |  9.4   | 5      | \n",
       "|  7.9   | 0.60   | 0.06   | 1.6    | 0.069  | 15     |  59    | 0.9964 | 3.30   | 0.46   |  9.4   | 5      | \n",
       "|  7.3   | 0.65   | 0.00   | 1.2    | 0.065  | 15     |  21    | 0.9946 | 3.39   | 0.47   | 10.0   | 7      | \n",
       "|  7.8   | 0.58   | 0.02   | 2.0    | 0.073  |  9     |  18    | 0.9968 | 3.36   | 0.57   |  9.5   | 7      | \n",
       "|  7.5   | 0.50   | 0.36   | 6.1    | 0.071  | 17     | 102    | 0.9978 | 3.35   | 0.80   | 10.5   | 5      | \n",
       "\n",
       "\n"
      ],
      "text/plain": [
       "   fixed.acidity volatile.acidity citric.acid residual.sugar chlorides\n",
       "1   7.4          0.70             0.00        1.9            0.076    \n",
       "2   7.8          0.88             0.00        2.6            0.098    \n",
       "3   7.8          0.76             0.04        2.3            0.092    \n",
       "4  11.2          0.28             0.56        1.9            0.075    \n",
       "5   7.4          0.70             0.00        1.9            0.076    \n",
       "6   7.4          0.66             0.00        1.8            0.075    \n",
       "7   7.9          0.60             0.06        1.6            0.069    \n",
       "8   7.3          0.65             0.00        1.2            0.065    \n",
       "9   7.8          0.58             0.02        2.0            0.073    \n",
       "10  7.5          0.50             0.36        6.1            0.071    \n",
       "   free.sulfur.dioxide total.sulfur.dioxide density pH   sulphates alcohol\n",
       "1  11                   34                  0.9978  3.51 0.56       9.4   \n",
       "2  25                   67                  0.9968  3.20 0.68       9.8   \n",
       "3  15                   54                  0.9970  3.26 0.65       9.8   \n",
       "4  17                   60                  0.9980  3.16 0.58       9.8   \n",
       "5  11                   34                  0.9978  3.51 0.56       9.4   \n",
       "6  13                   40                  0.9978  3.51 0.56       9.4   \n",
       "7  15                   59                  0.9964  3.30 0.46       9.4   \n",
       "8  15                   21                  0.9946  3.39 0.47      10.0   \n",
       "9   9                   18                  0.9968  3.36 0.57       9.5   \n",
       "10 17                  102                  0.9978  3.35 0.80      10.5   \n",
       "   quality\n",
       "1  5      \n",
       "2  5      \n",
       "3  5      \n",
       "4  6      \n",
       "5  5      \n",
       "6  5      \n",
       "7  5      \n",
       "8  7      \n",
       "9  7      \n",
       "10 5      "
      ]
     },
     "metadata": {},
     "output_type": "display_data"
    }
   ],
   "source": [
    "# load  the red wine data from website of UCI\n",
    "rwfulldata=read.csv('http://archive.ics.uci.edu/ml/machine-learning-databases/wine-quality/winequality-red.csv',sep=';')\n",
    "\n",
    "# fast look of first 10 rows of dataset\n",
    "head(rwfulldata,10)"
   ]
  },
  {
   "cell_type": "code",
   "execution_count": 3,
   "metadata": {},
   "outputs": [
    {
     "data": {
      "text/plain": [
       " fixed.acidity   volatile.acidity  citric.acid    residual.sugar  \n",
       " Min.   : 4.60   Min.   :0.1200   Min.   :0.000   Min.   : 0.900  \n",
       " 1st Qu.: 7.10   1st Qu.:0.3900   1st Qu.:0.090   1st Qu.: 1.900  \n",
       " Median : 7.90   Median :0.5200   Median :0.260   Median : 2.200  \n",
       " Mean   : 8.32   Mean   :0.5278   Mean   :0.271   Mean   : 2.539  \n",
       " 3rd Qu.: 9.20   3rd Qu.:0.6400   3rd Qu.:0.420   3rd Qu.: 2.600  \n",
       " Max.   :15.90   Max.   :1.5800   Max.   :1.000   Max.   :15.500  \n",
       "   chlorides       free.sulfur.dioxide total.sulfur.dioxide    density      \n",
       " Min.   :0.01200   Min.   : 1.00       Min.   :  6.00       Min.   :0.9901  \n",
       " 1st Qu.:0.07000   1st Qu.: 7.00       1st Qu.: 22.00       1st Qu.:0.9956  \n",
       " Median :0.07900   Median :14.00       Median : 38.00       Median :0.9968  \n",
       " Mean   :0.08747   Mean   :15.87       Mean   : 46.47       Mean   :0.9967  \n",
       " 3rd Qu.:0.09000   3rd Qu.:21.00       3rd Qu.: 62.00       3rd Qu.:0.9978  \n",
       " Max.   :0.61100   Max.   :72.00       Max.   :289.00       Max.   :1.0037  \n",
       "       pH          sulphates         alcohol         quality     \n",
       " Min.   :2.740   Min.   :0.3300   Min.   : 8.40   Min.   :3.000  \n",
       " 1st Qu.:3.210   1st Qu.:0.5500   1st Qu.: 9.50   1st Qu.:5.000  \n",
       " Median :3.310   Median :0.6200   Median :10.20   Median :6.000  \n",
       " Mean   :3.311   Mean   :0.6581   Mean   :10.42   Mean   :5.636  \n",
       " 3rd Qu.:3.400   3rd Qu.:0.7300   3rd Qu.:11.10   3rd Qu.:6.000  \n",
       " Max.   :4.010   Max.   :2.0000   Max.   :14.90   Max.   :8.000  "
      ]
     },
     "metadata": {},
     "output_type": "display_data"
    }
   ],
   "source": [
    "# have a summary of all information for red wine\n",
    "summary(rwfulldata)"
   ]
  },
  {
   "cell_type": "markdown",
   "metadata": {},
   "source": [
    "We can see that quality range is between 3 and 8. It means that there is not any with with very low or high quality,so whether experts are conservative or wines are not very diverse.\n"
   ]
  },
  {
   "cell_type": "code",
   "execution_count": 4,
   "metadata": {},
   "outputs": [
    {
     "data": {
      "image/png": "[encoded data removed]",
      "text/plain": [
       "plot without title"
      ]
     },
     "metadata": {},
     "output_type": "display_data"
    }
   ],
   "source": [
    "library(psych)\n",
    "pairs.panels(rwfulldata)"
   ]
  },
  {
   "cell_type": "markdown",
   "metadata": {
    "collapsed": true
   },
   "source": [
    "<font color=\"blue\", size = 4><b>b)</b></font> <b>Data Cleaning</b>: Clean the data, removing rows and columns that have no useful information or no information at all"
   ]
  },
  {
   "cell_type": "markdown",
   "metadata": {},
   "source": [
    "<span style=\"background-color: #FFFF00\">Your answer here</span>"
   ]
  },
  {
   "cell_type": "markdown",
   "metadata": {
    "collapsed": true
   },
   "source": [
    "Based on background information and correlation of above charts, there are some special parameters that are more important about quality of red wine.\n",
    "They are <b>volatile acidity</b> ,<b> citric.acid </b> , <b> sulphates </b> and <b> alcohol </b>. <br>\n",
    "We make a new data frame with mentioned parameters beside quality for simplicity of our analysis.\n"
   ]
  },
  {
   "cell_type": "code",
   "execution_count": 121,
   "metadata": {},
   "outputs": [
    {
     "data": {
      "text/html": [
       "<table>\n",
       "<thead><tr><th scope=col>volatile.acidity</th><th scope=col>citric.acid</th><th scope=col>sulphates</th><th scope=col>alcohol</th><th scope=col>quality</th></tr></thead>\n",
       "<tbody>\n",
       "\t<tr><td>0.70</td><td>0.00</td><td>0.56</td><td> 9.4</td><td>5   </td></tr>\n",
       "\t<tr><td>0.88</td><td>0.00</td><td>0.68</td><td> 9.8</td><td>5   </td></tr>\n",
       "\t<tr><td>0.76</td><td>0.04</td><td>0.65</td><td> 9.8</td><td>5   </td></tr>\n",
       "\t<tr><td>0.28</td><td>0.56</td><td>0.58</td><td> 9.8</td><td>6   </td></tr>\n",
       "\t<tr><td>0.70</td><td>0.00</td><td>0.56</td><td> 9.4</td><td>5   </td></tr>\n",
       "\t<tr><td>0.66</td><td>0.00</td><td>0.56</td><td> 9.4</td><td>5   </td></tr>\n",
       "\t<tr><td>0.60</td><td>0.06</td><td>0.46</td><td> 9.4</td><td>5   </td></tr>\n",
       "\t<tr><td>0.65</td><td>0.00</td><td>0.47</td><td>10.0</td><td>7   </td></tr>\n",
       "\t<tr><td>0.58</td><td>0.02</td><td>0.57</td><td> 9.5</td><td>7   </td></tr>\n",
       "\t<tr><td>0.50</td><td>0.36</td><td>0.80</td><td>10.5</td><td>5   </td></tr>\n",
       "</tbody>\n",
       "</table>\n"
      ],
      "text/latex": [
       "\\begin{tabular}{r|lllll}\n",
       " volatile.acidity & citric.acid & sulphates & alcohol & quality\\\\\n",
       "\\hline\n",
       "\t 0.70 & 0.00 & 0.56 &  9.4 & 5   \\\\\n",
       "\t 0.88 & 0.00 & 0.68 &  9.8 & 5   \\\\\n",
       "\t 0.76 & 0.04 & 0.65 &  9.8 & 5   \\\\\n",
       "\t 0.28 & 0.56 & 0.58 &  9.8 & 6   \\\\\n",
       "\t 0.70 & 0.00 & 0.56 &  9.4 & 5   \\\\\n",
       "\t 0.66 & 0.00 & 0.56 &  9.4 & 5   \\\\\n",
       "\t 0.60 & 0.06 & 0.46 &  9.4 & 5   \\\\\n",
       "\t 0.65 & 0.00 & 0.47 & 10.0 & 7   \\\\\n",
       "\t 0.58 & 0.02 & 0.57 &  9.5 & 7   \\\\\n",
       "\t 0.50 & 0.36 & 0.80 & 10.5 & 5   \\\\\n",
       "\\end{tabular}\n"
      ],
      "text/markdown": [
       "\n",
       "volatile.acidity | citric.acid | sulphates | alcohol | quality | \n",
       "|---|---|---|---|---|---|---|---|---|---|\n",
       "| 0.70 | 0.00 | 0.56 |  9.4 | 5    | \n",
       "| 0.88 | 0.00 | 0.68 |  9.8 | 5    | \n",
       "| 0.76 | 0.04 | 0.65 |  9.8 | 5    | \n",
       "| 0.28 | 0.56 | 0.58 |  9.8 | 6    | \n",
       "| 0.70 | 0.00 | 0.56 |  9.4 | 5    | \n",
       "| 0.66 | 0.00 | 0.56 |  9.4 | 5    | \n",
       "| 0.60 | 0.06 | 0.46 |  9.4 | 5    | \n",
       "| 0.65 | 0.00 | 0.47 | 10.0 | 7    | \n",
       "| 0.58 | 0.02 | 0.57 |  9.5 | 7    | \n",
       "| 0.50 | 0.36 | 0.80 | 10.5 | 5    | \n",
       "\n",
       "\n"
      ],
      "text/plain": [
       "   volatile.acidity citric.acid sulphates alcohol quality\n",
       "1  0.70             0.00        0.56       9.4    5      \n",
       "2  0.88             0.00        0.68       9.8    5      \n",
       "3  0.76             0.04        0.65       9.8    5      \n",
       "4  0.28             0.56        0.58       9.8    6      \n",
       "5  0.70             0.00        0.56       9.4    5      \n",
       "6  0.66             0.00        0.56       9.4    5      \n",
       "7  0.60             0.06        0.46       9.4    5      \n",
       "8  0.65             0.00        0.47      10.0    7      \n",
       "9  0.58             0.02        0.57       9.5    7      \n",
       "10 0.50             0.36        0.80      10.5    5      "
      ]
     },
     "metadata": {},
     "output_type": "display_data"
    }
   ],
   "source": [
    "rwseldata<-rwfulldata[,c(2,3,10,11,12)]\n",
    "head(rwseldata,10)"
   ]
  },
  {
   "cell_type": "code",
   "execution_count": 118,
   "metadata": {
    "collapsed": true
   },
   "outputs": [],
   "source": [
    "#remove_outliers <- function(x) {\n",
    "#  qnt <- quantile(x)\n",
    "#  H <- 1.5 * IQR(x)\n",
    "# y=x\n",
    "#  y[x < (qnt[2] - H)] <- NA\n",
    "#  y[x > (qnt[4] + H)] <- NA\n",
    "#  return(y)\n",
    "#}\n",
    "\n",
    "# newdata=data.frame(remove_outliers(rwseldata$volatile.acidity),remove_outliers(rwseldata$citric.acid),\n",
    "#                           remove_outliers(rwseldata$sulphates),remove_outliers(rwseldata$alcohol))\n",
    "\n",
    "# rwseldata=na.omit(newdata)"
   ]
  },
  {
   "cell_type": "markdown",
   "metadata": {
    "collapsed": true
   },
   "source": [
    "<font color=\"blue\", size = 4><b>c)</b></font> <b>Adaptation</b>: Create at least two additional columns that are necessary for your study. They can be calculated columns or aggregated columns."
   ]
  },
  {
   "cell_type": "markdown",
   "metadata": {},
   "source": [
    "<span style=\"background-color: #FFFF00\">Your answer here</span>"
   ]
  },
  {
   "cell_type": "markdown",
   "metadata": {
    "collapsed": true
   },
   "source": [
    "We are extrating our required vector for more clarfication of our code"
   ]
  },
  {
   "cell_type": "code",
   "execution_count": 122,
   "metadata": {
    "collapsed": true
   },
   "outputs": [],
   "source": [
    "volatile.acidity <-rwseldata$volatile.acidity\n",
    "citric.acid <-rwseldata$citric.acid\n",
    "sulphates <- rwseldata$sulphates\n",
    "alcohol<-rwseldata$alcohol\n",
    "quality<-rwseldata$quality\n"
   ]
  },
  {
   "cell_type": "markdown",
   "metadata": {},
   "source": [
    "<blockquote style=\"border: 2px solid #666; padding: 10px; background-color: #acc;\"><b>Question 3:</b> Visualization</blockquote> "
   ]
  },
  {
   "cell_type": "markdown",
   "metadata": {
    "collapsed": true
   },
   "source": [
    "<font color=\"blue\", size = 4><b>a)</b></font> <b>Descriptive Analytics</b>: Create at least 5 visualizations that show different aspects of your data related to the research object of your project"
   ]
  },
  {
   "cell_type": "markdown",
   "metadata": {},
   "source": [
    "<span style=\"background-color: #FFFF00\">Your answer here</span>"
   ]
  },
  {
   "cell_type": "code",
   "execution_count": 123,
   "metadata": {},
   "outputs": [
    {
     "data": {
      "image/png": "[encoded data removed]",
      "text/plain": [
       "Plot with title \"Histogram of volatile.acidity\""
      ]
     },
     "metadata": {},
     "output_type": "display_data"
    }
   ],
   "source": [
    "hist(volatile.acidity,col=\"purple\")"
   ]
  },
  {
   "cell_type": "code",
   "execution_count": 124,
   "metadata": {},
   "outputs": [
    {
     "data": {
      "image/png": "[encoded data removed]",
      "text/plain": [
       "Plot with title \"Histogram of citric.acid\""
      ]
     },
     "metadata": {},
     "output_type": "display_data"
    }
   ],
   "source": [
    "hist(citric.acid,col=\"red\")"
   ]
  },
  {
   "cell_type": "code",
   "execution_count": 125,
   "metadata": {},
   "outputs": [
    {
     "data": {
      "image/png": "[encoded data removed]",
      "text/plain": [
       "Plot with title \"Histogram of sulphates\""
      ]
     },
     "metadata": {},
     "output_type": "display_data"
    }
   ],
   "source": [
    "hist(sulphates,col=\"blue\")"
   ]
  },
  {
   "cell_type": "code",
   "execution_count": 126,
   "metadata": {},
   "outputs": [
    {
     "data": {
      "image/png": "[encoded data removed]",
      "text/plain": [
       "Plot with title \"Histogram of alcohol\""
      ]
     },
     "metadata": {},
     "output_type": "display_data"
    }
   ],
   "source": [
    "hist(alcohol,col=\"yellow\")"
   ]
  },
  {
   "cell_type": "code",
   "execution_count": 127,
   "metadata": {},
   "outputs": [
    {
     "data": {
      "image/png": "[encoded data removed]",
      "text/plain": [
       "Plot with title \"Histogram of quality\""
      ]
     },
     "metadata": {},
     "output_type": "display_data"
    }
   ],
   "source": [
    "hist(quality,col=\"green\")"
   ]
  },
  {
   "cell_type": "markdown",
   "metadata": {
    "collapsed": true
   },
   "source": [
    "<font color=\"blue\", size = 4><b>b)</b></font> <b>Outcome</b>: Explain in words the outcome of your descriptive analysis"
   ]
  },
  {
   "cell_type": "markdown",
   "metadata": {},
   "source": [
    "<span style=\"background-color: #FFFF00\">Your answer here</span>"
   ]
  },
  {
   "cell_type": "markdown",
   "metadata": {},
   "source": [
    "Above histograms show observed inputs graphically. We could see  approximate mean value of .5 for volatile.acidity , 0.27 for citric.acid, \n",
    "    .6 for sulphates, 10.5 for alcohol and 5.5 for quality.\n",
    "It seem that number of our obervations for qualities more than 7 is about 200 and maybe it could affect our analysis.\n",
    "\n",
    "\n",
    "It is better to have more observations for high quality wines to better preduction for required parameters of stakeholder."
   ]
  },
  {
   "cell_type": "markdown",
   "metadata": {},
   "source": [
    "<blockquote style=\"border: 2px solid #666; padding: 10px; background-color: #acc;\"><b>Question 4:</b> Predictive Analysis</blockquote> "
   ]
  },
  {
   "cell_type": "markdown",
   "metadata": {},
   "source": [
    "Select one numerical continuous variable as your response variable and run a linear regression on your data."
   ]
  },
  {
   "cell_type": "markdown",
   "metadata": {
    "collapsed": true
   },
   "source": [
    "<font color=\"blue\", size = 4><b>a)</b></font> <b>Response Variable</b>: Explain your numerical continuous response variable. What does it represent?"
   ]
  },
  {
   "cell_type": "markdown",
   "metadata": {},
   "source": [
    "<span style=\"background-color: #FFFF00\">Your answer here</span>"
   ]
  },
  {
   "cell_type": "markdown",
   "metadata": {
    "collapsed": true
   },
   "source": [
    "Our response variable is <b> quality </b> that has been provided by wine experts. It is in arange of 0 to 10. It is a categorical parameter but based on high number of observations we can consider it as continous. Its minimum is 3 and its maximum is 8."
   ]
  },
  {
   "cell_type": "markdown",
   "metadata": {
    "collapsed": true
   },
   "source": [
    "<font color=\"blue\", size = 4><b>b)</b></font> <b>Explore Correlations</b>: Create plots that explain the correlation between your variables, specifically concentrating on your exploratory variable"
   ]
  },
  {
   "cell_type": "markdown",
   "metadata": {},
   "source": [
    "<span style=\"background-color: #FFFF00\">Your answer here</span>"
   ]
  },
  {
   "cell_type": "code",
   "execution_count": 23,
   "metadata": {},
   "outputs": [
    {
     "data": {
      "image/png": "[encoded data removed]",
      "text/plain": [
       "plot without title"
      ]
     },
     "metadata": {},
     "output_type": "display_data"
    }
   ],
   "source": [
    "plot(quality~citric.acid, pch=18, col=\"red\")"
   ]
  },
  {
   "cell_type": "code",
   "execution_count": 14,
   "metadata": {},
   "outputs": [
    {
     "data": {
      "image/png": "[encoded data removed]",
      "text/plain": [
       "plot without title"
      ]
     },
     "metadata": {},
     "output_type": "display_data"
    }
   ],
   "source": [
    "plot(quality~alcohol, pch=18, col=\"yellow\")"
   ]
  },
  {
   "cell_type": "markdown",
   "metadata": {},
   "source": [
    "Above graphs show that quality is not dependent  to only one variable and we must consider more variables to more accurate regression."
   ]
  },
  {
   "cell_type": "markdown",
   "metadata": {
    "collapsed": true
   },
   "source": [
    "<font color=\"blue\", size = 4><b>c)</b></font> <b>Linear Regression</b>: Run linear regressions that predict your variable. Explain your steps."
   ]
  },
  {
   "cell_type": "markdown",
   "metadata": {},
   "source": [
    "<span style=\"background-color: #FFFF00\">Your answer here</span>"
   ]
  },
  {
   "cell_type": "code",
   "execution_count": 128,
   "metadata": {},
   "outputs": [
    {
     "data": {
      "text/plain": [
       "\n",
       "Call:\n",
       "lm(formula = quality ~ ., data = rwseldata)\n",
       "\n",
       "Residuals:\n",
       "     Min       1Q   Median       3Q      Max \n",
       "-2.71408 -0.38590 -0.06402  0.46657  2.20393 \n",
       "\n",
       "Coefficients:\n",
       "                 Estimate Std. Error t value Pr(>|t|)    \n",
       "(Intercept)       2.64592    0.20106  13.160  < 2e-16 ***\n",
       "volatile.acidity -1.26506    0.11266 -11.229  < 2e-16 ***\n",
       "citric.acid      -0.07913    0.10381  -0.762    0.446    \n",
       "sulphates         0.69552    0.10311   6.746 2.12e-11 ***\n",
       "alcohol           0.30908    0.01581  19.553  < 2e-16 ***\n",
       "---\n",
       "Signif. codes:  0 '***' 0.001 '**' 0.01 '*' 0.05 '.' 0.1 ' ' 1\n",
       "\n",
       "Residual standard error: 0.6588 on 1594 degrees of freedom\n",
       "Multiple R-squared:  0.3361,\tAdjusted R-squared:  0.3345 \n",
       "F-statistic: 201.8 on 4 and 1594 DF,  p-value: < 2.2e-16\n"
      ]
     },
     "metadata": {},
     "output_type": "display_data"
    }
   ],
   "source": [
    "fit <-lm(quality~.,data=rwseldata)\n",
    "summary(fit)\n"
   ]
  },
  {
   "cell_type": "markdown",
   "metadata": {},
   "source": [
    "We can see that p-value of citric.acid is very high, so it's better to omit it."
   ]
  },
  {
   "cell_type": "code",
   "execution_count": 129,
   "metadata": {},
   "outputs": [
    {
     "data": {
      "text/plain": [
       "\n",
       "Call:\n",
       "lm(formula = quality ~ . - citric.acid, data = rwseldata)\n",
       "\n",
       "Residuals:\n",
       "    Min      1Q  Median      3Q     Max \n",
       "-2.7186 -0.3820 -0.0641  0.4746  2.1807 \n",
       "\n",
       "Coefficients:\n",
       "                 Estimate Std. Error t value Pr(>|t|)    \n",
       "(Intercept)       2.61083    0.19569  13.342  < 2e-16 ***\n",
       "volatile.acidity -1.22140    0.09701 -12.591  < 2e-16 ***\n",
       "sulphates         0.67903    0.10080   6.737 2.26e-11 ***\n",
       "alcohol           0.30922    0.01580  19.566  < 2e-16 ***\n",
       "---\n",
       "Signif. codes:  0 '***' 0.001 '**' 0.01 '*' 0.05 '.' 0.1 ' ' 1\n",
       "\n",
       "Residual standard error: 0.6587 on 1595 degrees of freedom\n",
       "Multiple R-squared:  0.3359,\tAdjusted R-squared:  0.3346 \n",
       "F-statistic: 268.9 on 3 and 1595 DF,  p-value: < 2.2e-16\n"
      ]
     },
     "metadata": {},
     "output_type": "display_data"
    }
   ],
   "source": [
    "fit <-lm(quality~.-citric.acid,data=rwseldata)\n",
    "summary(fit)\n",
    "equation=fit$coefficients"
   ]
  },
  {
   "cell_type": "markdown",
   "metadata": {},
   "source": [
    "Based on above information,p-values of all parameters are ok,but unfortunately adjusted R-squared is not good. "
   ]
  },
  {
   "cell_type": "markdown",
   "metadata": {},
   "source": [
    "<blockquote style=\"border: 2px solid #666; padding: 10px; background-color: #acc;\"><b>Question 5:</b> Summary</blockquote> "
   ]
  },
  {
   "cell_type": "markdown",
   "metadata": {
    "collapsed": true
   },
   "source": [
    "<font color=\"blue\", size = 4><b>a)</b></font> <b>Project Summary</b>: Write a few sentences about the result of this projec"
   ]
  },
  {
   "cell_type": "markdown",
   "metadata": {},
   "source": [
    "<span style=\"background-color: #FFFF00\">Your answer here</span>"
   ]
  },
  {
   "cell_type": "markdown",
   "metadata": {},
   "source": [
    "Based on above regression, equation of <b> quality </b> would be:\n"
   ]
  },
  {
   "cell_type": "code",
   "execution_count": 131,
   "metadata": {},
   "outputs": [
    {
     "name": "stdout",
     "output_type": "stream",
     "text": [
      "quality= 2.610832 - 1.221404 volatile.acidity+ 0.6790282 sulphates+ 0.3092178 alcohol \n"
     ]
    }
   ],
   "source": [
    "cat(\"quality=\",equation[1],\"-\",-equation[2],\"volatile.acidity+\",equation[3],\"sulphates+\",equation[4],\n",
    "    \"alcohol\",\"\\n\")"
   ]
  },
  {
   "cell_type": "markdown",
   "metadata": {
    "collapsed": true
   },
   "source": [
    "After a fast look and consideration of typical values of above parameters,we can find that quality had a considerable positive relation with alcohol and solphates and negative relation with volatile acidity.\n",
    "This data set have information on 1,599 different red wines from a 2009 study. our target was to find which chemical properties affect wine quality. I started by exploring the distribution of individual variables and looked for unusual behaviors in the histograms. The three variables that had relatively strong correlations were alcohol percentage,volatile acidity and sulphates.\n",
    "Then I had a linear regression that showed the increase in quality by sulphates and alcohol percentage values. One suggestion for this data set is to add other parameters same to storage time and storage method since these factors can influence the quality of wine as well. Also, it would be interesting to evaluate situation about white wine."
   ]
  },
  {
   "cell_type": "markdown",
   "metadata": {
    "collapsed": true
   },
   "source": [
    "<font color=\"blue\", size = 4><b>b)</b></font> <b>Project Report</b>: Write a formal report to your stakeholders with the summary of your report "
   ]
  },
  {
   "cell_type": "markdown",
   "metadata": {},
   "source": [
    "<span style=\"background-color: #FFFF00\">Your answer here</span>"
   ]
  },
  {
   "cell_type": "markdown",
   "metadata": {
    "collapsed": true
   },
   "source": [
    "Dear Sir/Madam;\n",
    "After analysis, we found that it does not look like quality of wine is well related to its chemical properties. At each level of quality, variation of the predictors is high and the groups do not have considerable difference. Maybe our data was not sufficient or accurate. Addition of other parameters same to price and storage time would be helpful. Additionally asking from more wine experts could made better results."
   ]
  },
  {
   "cell_type": "markdown",
   "metadata": {},
   "source": [
    "<blockquote style=\"border: 2px solid #666; padding: 10px; background-color: #acc;\"><b>Section 6:</b> Reference</blockquote> "
   ]
  },
  {
   "cell_type": "markdown",
   "metadata": {},
   "source": [
    "1- P. Cortez, A. Cerdeira, F. Almeida, T. Matos and J. Reis. \n",
    "Modeling wine preferences by data mining from physicochemical properties. In Decision Support Systems, Elsevier, 47(4):547-553, 2009.\n",
    "\n",
    "2- https://www.kaggle.com/piyushgoyal443/red-wine-dataset\n",
    "\n",
    "3- https://rstudio-pubs-static.s3.amazonaws.com/64329_b0ed679e48b04f00a404f6f969d855d7.html"
   ]
  }
 ],
 "metadata": {
  "kernelspec": {
   "display_name": "Python 3",
   "language": "python",
   "name": "python3"
  },
  "language_info": {
   "codemirror_mode": {
    "name": "ipython",
    "version": 3
   },
   "file_extension": ".py",
   "mimetype": "text/x-python",
   "name": "python",
   "nbconvert_exporter": "python",
   "pygments_lexer": "ipython3",
   "version": "3.6.3"
  }
 },
 "nbformat": 4,
 "nbformat_minor": 1
}
