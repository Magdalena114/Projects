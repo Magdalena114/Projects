{
 "cells": [
  {
   "cell_type": "markdown",
   "metadata": {},
   "source": [
    "#  <font color='green' size=5> Assignment #1\n",
    "</font> \n",
    "\n",
    "**Time Series Analysis** <br>\n",
    "**ANLT 207** <br>\n",
    "**November 11, 2018** <br>\n",
    "<br>\n",
    "\n",
    "<font color='green' size=4> By: Ali Taheri</font>"
   ]
  },
  {
   "cell_type": "markdown",
   "metadata": {},
   "source": [
    "At this project, we would try to analyze the trend of religious adherence in all areas of the world from 1945 until now. There is much discussion about the correlation of this adherence with technology (especially the Internet) because some people believe that religious adherence is declining due to the empowering of communication technology and social media. We would evaluate this belief with a detailed inspection of the following dataset."
   ]
  },
  {
   "cell_type": "markdown",
   "metadata": {},
   "source": [
    "##  <font color='blue' size=4> 1. Loading Datasets  </font>"
   ]
  },
  {
   "cell_type": "code",
   "execution_count": 22,
   "metadata": {},
   "outputs": [
    {
     "data": {
      "text/plain": [
       "(1995, 79)"
      ]
     },
     "execution_count": 22,
     "metadata": {},
     "output_type": "execute_result"
    }
   ],
   "source": [
    "import pandas as pd\n",
    "\n",
    "national_df = pd.read_csv('national.csv')\n",
    "\n",
    "national_df.shape"
   ]
  },
  {
   "cell_type": "code",
   "execution_count": 23,
   "metadata": {},
   "outputs": [
    {
     "data": {
      "text/html": [
       "<div>\n",
       "<style scoped>\n",
       "    .dataframe tbody tr th:only-of-type {\n",
       "        vertical-align: middle;\n",
       "    }\n",
       "\n",
       "    .dataframe tbody tr th {\n",
       "        vertical-align: top;\n",
       "    }\n",
       "\n",
       "    .dataframe thead th {\n",
       "        text-align: right;\n",
       "    }\n",
       "</style>\n",
       "<table border=\"1\" class=\"dataframe\">\n",
       "  <thead>\n",
       "    <tr style=\"text-align: right;\">\n",
       "      <th></th>\n",
       "      <th>year</th>\n",
       "      <th>state</th>\n",
       "      <th>code</th>\n",
       "      <th>christianity_protestant</th>\n",
       "      <th>christianity_romancatholic</th>\n",
       "      <th>christianity_easternorthodox</th>\n",
       "      <th>christianity_anglican</th>\n",
       "      <th>christianity_other</th>\n",
       "      <th>christianity_all</th>\n",
       "      <th>judaism_orthodox</th>\n",
       "      <th>...</th>\n",
       "      <th>jainism_percent</th>\n",
       "      <th>confucianism_percent</th>\n",
       "      <th>syncretism_percent</th>\n",
       "      <th>animism_percent</th>\n",
       "      <th>noreligion_percent</th>\n",
       "      <th>otherreligion_percent</th>\n",
       "      <th>religion_sumpercent</th>\n",
       "      <th>total_percent</th>\n",
       "      <th>dual_religion</th>\n",
       "      <th>source_code</th>\n",
       "    </tr>\n",
       "  </thead>\n",
       "  <tbody>\n",
       "    <tr>\n",
       "      <th>0</th>\n",
       "      <td>1945</td>\n",
       "      <td>United States of America</td>\n",
       "      <td>USA</td>\n",
       "      <td>66069671</td>\n",
       "      <td>38716742</td>\n",
       "      <td>1121898</td>\n",
       "      <td>2400000</td>\n",
       "      <td>1956807</td>\n",
       "      <td>110265118</td>\n",
       "      <td>821489</td>\n",
       "      <td>...</td>\n",
       "      <td>0.0</td>\n",
       "      <td>0.0</td>\n",
       "      <td>0.0</td>\n",
       "      <td>0.0</td>\n",
       "      <td>0.1635</td>\n",
       "      <td>0.0039</td>\n",
       "      <td>0.9961</td>\n",
       "      <td>1.0000</td>\n",
       "      <td>0</td>\n",
       "      <td>13</td>\n",
       "    </tr>\n",
       "    <tr>\n",
       "      <th>1</th>\n",
       "      <td>1950</td>\n",
       "      <td>United States of America</td>\n",
       "      <td>USA</td>\n",
       "      <td>73090083</td>\n",
       "      <td>42635882</td>\n",
       "      <td>3045420</td>\n",
       "      <td>3045420</td>\n",
       "      <td>1177214</td>\n",
       "      <td>122994019</td>\n",
       "      <td>1078078</td>\n",
       "      <td>...</td>\n",
       "      <td>0.0</td>\n",
       "      <td>0.0</td>\n",
       "      <td>0.0</td>\n",
       "      <td>0.0</td>\n",
       "      <td>0.1482</td>\n",
       "      <td>0.0041</td>\n",
       "      <td>0.9959</td>\n",
       "      <td>1.0000</td>\n",
       "      <td>0</td>\n",
       "      <td>18</td>\n",
       "    </tr>\n",
       "    <tr>\n",
       "      <th>2</th>\n",
       "      <td>1955</td>\n",
       "      <td>United States of America</td>\n",
       "      <td>USA</td>\n",
       "      <td>79294628</td>\n",
       "      <td>46402368</td>\n",
       "      <td>3454916</td>\n",
       "      <td>2572767</td>\n",
       "      <td>2277091</td>\n",
       "      <td>134001770</td>\n",
       "      <td>944000</td>\n",
       "      <td>...</td>\n",
       "      <td>0.0</td>\n",
       "      <td>0.0</td>\n",
       "      <td>0.0</td>\n",
       "      <td>0.0</td>\n",
       "      <td>0.1404</td>\n",
       "      <td>0.0193</td>\n",
       "      <td>0.9807</td>\n",
       "      <td>0.9999</td>\n",
       "      <td>0</td>\n",
       "      <td>15</td>\n",
       "    </tr>\n",
       "  </tbody>\n",
       "</table>\n",
       "<p>3 rows × 79 columns</p>\n",
       "</div>"
      ],
      "text/plain": [
       "   year                     state code  christianity_protestant  \\\n",
       "0  1945  United States of America  USA                 66069671   \n",
       "1  1950  United States of America  USA                 73090083   \n",
       "2  1955  United States of America  USA                 79294628   \n",
       "\n",
       "   christianity_romancatholic  christianity_easternorthodox  \\\n",
       "0                    38716742                       1121898   \n",
       "1                    42635882                       3045420   \n",
       "2                    46402368                       3454916   \n",
       "\n",
       "   christianity_anglican  christianity_other  christianity_all  \\\n",
       "0                2400000             1956807         110265118   \n",
       "1                3045420             1177214         122994019   \n",
       "2                2572767             2277091         134001770   \n",
       "\n",
       "   judaism_orthodox     ...       jainism_percent  confucianism_percent  \\\n",
       "0            821489     ...                   0.0                   0.0   \n",
       "1           1078078     ...                   0.0                   0.0   \n",
       "2            944000     ...                   0.0                   0.0   \n",
       "\n",
       "   syncretism_percent  animism_percent  noreligion_percent  \\\n",
       "0                 0.0              0.0              0.1635   \n",
       "1                 0.0              0.0              0.1482   \n",
       "2                 0.0              0.0              0.1404   \n",
       "\n",
       "   otherreligion_percent  religion_sumpercent  total_percent  dual_religion  \\\n",
       "0                 0.0039               0.9961         1.0000              0   \n",
       "1                 0.0041               0.9959         1.0000              0   \n",
       "2                 0.0193               0.9807         0.9999              0   \n",
       "\n",
       "   source_code  \n",
       "0           13  \n",
       "1           18  \n",
       "2           15  \n",
       "\n",
       "[3 rows x 79 columns]"
      ]
     },
     "execution_count": 23,
     "metadata": {},
     "output_type": "execute_result"
    }
   ],
   "source": [
    "national_df.head(3)"
   ]
  },
  {
   "cell_type": "code",
   "execution_count": 24,
   "metadata": {},
   "outputs": [
    {
     "data": {
      "text/plain": [
       "year                              int64\n",
       "state                            object\n",
       "code                             object\n",
       "christianity_protestant           int64\n",
       "christianity_romancatholic        int64\n",
       "christianity_easternorthodox      int64\n",
       "christianity_anglican             int64\n",
       "christianity_other                int64\n",
       "christianity_all                  int64\n",
       "judaism_orthodox                  int64\n",
       "judaism_conservative              int64\n",
       "judaism_reform                  float64\n",
       "judaism_other                     int64\n",
       "judaism_all                       int64\n",
       "islam_sunni                       int64\n",
       "islam_shi’a                       int64\n",
       "islam_ibadhi                      int64\n",
       "islam_nationofislam               int64\n",
       "islam_alawite                     int64\n",
       "islam_ahmadiyya                   int64\n",
       "islam_other                     float64\n",
       "islam_all                         int64\n",
       "buddhism_mahayana                 int64\n",
       "buddhism_theravada                int64\n",
       "buddhism_other                    int64\n",
       "buddhism_all                      int64\n",
       "zoroastrianism_all                int64\n",
       "hinduism_all                      int64\n",
       "sikhism_all                       int64\n",
       "shinto_all                        int64\n",
       "                                 ...   \n",
       "otherjudaism_percent            float64\n",
       "judaism_percent                 float64\n",
       "sunni_percent                   float64\n",
       "shi’a_percent                   float64\n",
       "ibadhi_percent                  float64\n",
       "nationofislam_percent             int64\n",
       "alawite_percent                 float64\n",
       "ahmadiyya_percent               float64\n",
       "otherislam_percent              float64\n",
       "islam_percent                   float64\n",
       "mahayana_percent                float64\n",
       "theravada_percent               float64\n",
       "otherbuddhism_percent           float64\n",
       "buddhism_percent                float64\n",
       "zoroastrianism_percent          float64\n",
       "hinduism_percent                float64\n",
       "sikhism_percent                 float64\n",
       "shinto_percent                  float64\n",
       "baha’i_percent                  float64\n",
       "taoism_percent                  float64\n",
       "jainism_percent                 float64\n",
       "confucianism_percent            float64\n",
       "syncretism_percent              float64\n",
       "animism_percent                 float64\n",
       "noreligion_percent              float64\n",
       "otherreligion_percent           float64\n",
       "religion_sumpercent             float64\n",
       "total_percent                   float64\n",
       "dual_religion                     int64\n",
       "source_code                       int64\n",
       "Length: 79, dtype: object"
      ]
     },
     "execution_count": 24,
     "metadata": {},
     "output_type": "execute_result"
    }
   ],
   "source": [
    "national_df.dtypes"
   ]
  },
  {
   "cell_type": "markdown",
   "metadata": {},
   "source": [
    "Fortounately we do not have any datatype problems and it is immediately consumable."
   ]
  },
  {
   "cell_type": "code",
   "execution_count": 25,
   "metadata": {},
   "outputs": [
    {
     "name": "stdout",
     "output_type": "stream",
     "text": [
      "['United States of America' 'Canada' 'Bahamas' 'Cuba' 'Haiti'\n",
      " 'Dominican Republic' 'Jamaica' 'Trinidad and Tobago' 'Barbados'\n",
      " 'Dominica' 'Grenada' 'St. Lucia' 'St. Vincent and the Grenadines'\n",
      " 'Antigua & Barbuda' 'St. Kitts and Nevis' 'Mexico' 'Belize' 'Guatemala'\n",
      " 'Honduras' 'El Salvador' 'Nicaragua' 'Costa Rica' 'Panama' 'Colombia'\n",
      " 'Venezuela' 'Guyana' 'Suriname' 'Ecuador' 'Peru' 'Brazil' 'Bolivia'\n",
      " 'Paraguay' 'Chile' 'Argentina' 'Uruguay' 'United Kingdom' 'Ireland'\n",
      " 'Netherlands' 'Belgium' 'Luxembourg' 'France' 'Monaco' 'Liechtenstein'\n",
      " 'Switzerland' 'Spain' 'Andorra' 'Portugal' 'Germany'\n",
      " 'German Federal Republic' 'German Democratic Republic' 'Poland' 'Austria'\n",
      " 'Hungary' 'Czechoslovakia' 'Czech Republic' 'Slovakia' 'Italy'\n",
      " 'San Marino' 'Malta' 'Albania' 'Montenegro' 'Macedonia' 'Croatia'\n",
      " 'Yugoslavia' 'Bosnia and Herzegovina' 'Kosovo' 'Slovenia' 'Greece'\n",
      " 'Cyprus' 'Bulgaria' 'Moldova' 'Romania' 'Russia' 'Estonia' 'Latvia'\n",
      " 'Lithuania' 'Ukraine' 'Belarus' 'Armenia' 'Georgia' 'Azerbaijan'\n",
      " 'Finland' 'Sweden' 'Norway' 'Denmark' 'Iceland' 'Cape Verde'\n",
      " 'Sao Tome and Principe' 'Guinea-Bissau' 'Equatorial Guinea' 'Gambia'\n",
      " 'Mali' 'Senegal' 'Benin' 'Mauritania' 'Niger' 'Ivory Coast' 'Guinea'\n",
      " 'Burkina Faso' 'Liberia' 'Sierra Leone' 'Ghana' 'Togo' 'Cameroon'\n",
      " 'Nigeria' 'Gabon' 'Central African Republic' 'Chad' 'Congo'\n",
      " 'Democratic Republic of the Congo' 'Uganda' 'Kenya' 'Tanzania' 'Burundi'\n",
      " 'Rwanda' 'Somalia' 'Djibouti' 'Ethiopia' 'Eritrea' 'Angola' 'Mozambique'\n",
      " 'Zambia' 'Zimbabwe' 'Malawi' 'South Africa' 'Namibia' 'Lesotho'\n",
      " 'Botswana' 'Swaziland' 'Madagascar' 'Comoros' 'Mauritius' 'Seychelles'\n",
      " 'Morocco' 'Algeria' 'Tunisia' 'Libya' 'Sudan' 'Iran' 'Turkey' 'Iraq'\n",
      " 'Egypt' 'Syria' 'Lebanon' 'Jordan' 'Israel' 'Saudi Arabia'\n",
      " 'Yemen Arab Republic' 'Yemen' \"Yemen People's Republic\" 'Kuwait'\n",
      " 'Bahrain' 'Qatar' 'United Arab Emirates' 'Oman' 'Afghanistan'\n",
      " 'Turkmenistan' 'Tajikistan' 'Kyrgyzstan' 'Uzbekistan' 'Kazakhstan'\n",
      " 'China' 'Mongolia' 'Taiwan' 'North Korea' 'South Korea' 'Japan' 'India'\n",
      " 'Bhutan' 'Pakistan' 'Bangladesh' 'Myanmar' 'Sri Lanka' 'Maldives' 'Nepal'\n",
      " 'Thailand' 'Cambodia' 'Laos' 'Vietnam' 'Republic of Vietnam' 'Malaysia'\n",
      " 'Singapore' 'Brunei' 'Philippines' 'Indonesia' 'East Timor' 'Australia'\n",
      " 'Papua New Guinea' 'New Zealand' 'Vanuatu' 'Solomon Islands' 'Kiribati'\n",
      " 'Tuvalu' 'Fiji' 'Tonga' 'Nauru' 'Marshall Islands' 'Palau'\n",
      " 'Federated States of Micronesia' 'Samoa']\n"
     ]
    }
   ],
   "source": [
    "print(national_df['state'].unique())"
   ]
  },
  {
   "cell_type": "code",
   "execution_count": 26,
   "metadata": {},
   "outputs": [
    {
     "name": "stdout",
     "output_type": "stream",
     "text": [
      "200\n"
     ]
    }
   ],
   "source": [
    "print(len(national_df['state'].unique()))"
   ]
  },
  {
   "cell_type": "markdown",
   "metadata": {},
   "source": [
    "It has information of about 200 countries of the world."
   ]
  },
  {
   "cell_type": "code",
   "execution_count": 27,
   "metadata": {},
   "outputs": [
    {
     "name": "stdout",
     "output_type": "stream",
     "text": [
      "[1945 1950 1955 1960 1965 1970 1975 1980 1985 1990 1995 2000 2005 2010]\n"
     ]
    }
   ],
   "source": [
    "print(national_df['year'].unique())"
   ]
  },
  {
   "cell_type": "markdown",
   "metadata": {},
   "source": [
    "Our dataset has information from 1945 until 2010."
   ]
  }
 ],
 "metadata": {
  "kernelspec": {
   "display_name": "Python 3",
   "language": "python",
   "name": "python3"
  },
  "language_info": {
   "codemirror_mode": {
    "name": "ipython",
    "version": 3
   },
   "file_extension": ".py",
   "mimetype": "text/x-python",
   "name": "python",
   "nbconvert_exporter": "python",
   "pygments_lexer": "ipython3",
   "version": "3.7.0"
  }
 },
 "nbformat": 4,
 "nbformat_minor": 2
}
