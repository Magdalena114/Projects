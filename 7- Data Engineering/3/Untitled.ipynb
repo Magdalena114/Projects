{
 "cells": [
  {
   "cell_type": "code",
   "execution_count": 8,
   "metadata": {},
   "outputs": [
    {
     "name": "stdout",
     "output_type": "stream",
     "text": [
      "[0, 1, 1, 2, 3, 5, 8, 13, 21, 34, 55, 89, 144]\n"
     ]
    }
   ],
   "source": [
    "def fibonacci(x):\n",
    "\tsequence_list = []\n",
    "\n",
    "\tcurrent = 0\n",
    "\tnext = 1\n",
    "\t\n",
    "\tfor i in range (x):\n",
    "\t\n",
    "\t\tsequence_list.append(current)\n",
    "\t\tcurrent = next\n",
    "\t\tif i > 0:\n",
    "\t\t\tnext = sequence_list[i] + current\n",
    "\t\telse:\n",
    "\t\t\tnext = 1\n",
    "\treturn sequence_list\t\n",
    "\t\n",
    "\n",
    "print(fibonacci(13))"
   ]
  }
 ],
 "metadata": {
  "kernelspec": {
   "display_name": "Python 3",
   "language": "python",
   "name": "python3"
  },
  "language_info": {
   "codemirror_mode": {
    "name": "ipython",
    "version": 3
   },
   "file_extension": ".py",
   "mimetype": "text/x-python",
   "name": "python",
   "nbconvert_exporter": "python",
   "pygments_lexer": "ipython3",
   "version": "3.6.4"
  }
 },
 "nbformat": 4,
 "nbformat_minor": 2
}
