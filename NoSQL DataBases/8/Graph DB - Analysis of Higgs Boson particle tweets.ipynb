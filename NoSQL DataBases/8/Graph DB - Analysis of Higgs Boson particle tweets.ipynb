{
 "cells": [
  {
   "cell_type": "markdown",
   "metadata": {},
   "source": [
    "###  <font color='green' size=5> HW #8: Graph DB : Analysis of Higgs Boson particle tweets\n",
    "Submit Assignment\n",
    "  </font> \n",
    "\n",
    "**NoSQL** <br>\n",
    "**ANLT 243** <br>\n",
    "**September 26, 2018** <br>\n",
    "<br>\n",
    "\n",
    "<font color='green' size=4> By: Ali Taheri</font>"
   ]
  },
  {
   "cell_type": "code",
   "execution_count": 290,
   "metadata": {},
   "outputs": [],
   "source": [
    "from neo4j.v1 import GraphDatabase\n",
    "\n",
    "host = 'ec2-54-67-15-68.us-west-1.compute.amazonaws.com'\n",
    "port = '9232'\n",
    "\n",
    "uri = \"bolt://\" + host + ':' + port\n",
    "\n",
    "driver = GraphDatabase.driver(uri, auth=(\"neo4j\", \"password\"), encrypted=False)\n",
    "\n",
    "session = driver.session()"
   ]
  },
  {
   "cell_type": "markdown",
   "metadata": {},
   "source": [
    "##  <font color='blue' size=4> 1. How many total nodes with Label :User are there in the database?  </font>"
   ]
  },
  {
   "cell_type": "code",
   "execution_count": 291,
   "metadata": {},
   "outputs": [
    {
     "name": "stdout",
     "output_type": "stream",
     "text": [
      "456626\n"
     ]
    }
   ],
   "source": [
    "with session.begin_transaction() as tx:\n",
    "    for record in tx.run('MATCH (:User) \\\n",
    "                          RETURN COUNT(*) as User_Count'):\n",
    "        print(record.value())\n",
    "          "
   ]
  },
  {
   "cell_type": "markdown",
   "metadata": {},
   "source": [
    "##  <font color='blue' size=4> 2. How many Social Network relationships are there in the database ?  </font>"
   ]
  },
  {
   "cell_type": "code",
   "execution_count": 292,
   "metadata": {},
   "outputs": [
    {
     "name": "stdout",
     "output_type": "stream",
     "text": [
      "14855842\n"
     ]
    }
   ],
   "source": [
    "with session.begin_transaction() as tx:\n",
    "    for record in tx.run('MATCH ()-[follows:Follows]->() \\\n",
    "                          RETURN COUNT(follows)'):\n",
    "        print(record.value())\n",
    "    "
   ]
  },
  {
   "cell_type": "markdown",
   "metadata": {},
   "source": [
    "##  <font color='blue' size=4> 3. How many Social Network followers does user 89805 have? </font>"
   ]
  },
  {
   "cell_type": "code",
   "execution_count": 293,
   "metadata": {},
   "outputs": [
    {
     "name": "stdout",
     "output_type": "stream",
     "text": [
      "156\n"
     ]
    }
   ],
   "source": [
    "with session.begin_transaction() as tx:\n",
    "    for record in tx.run('MATCH (follower)-[:Follows]->(:User{user:89805}) \\\n",
    "                          RETURN COUNT(follower)'):\n",
    "        print(record.value())"
   ]
  },
  {
   "cell_type": "markdown",
   "metadata": {},
   "source": [
    "##  <font color='blue' size=4> 4. How many total times did users in this network retweet ?  </font>"
   ]
  },
  {
   "cell_type": "code",
   "execution_count": 294,
   "metadata": {},
   "outputs": [
    {
     "name": "stdout",
     "output_type": "stream",
     "text": [
      "328132\n"
     ]
    }
   ],
   "source": [
    "with session.begin_transaction() as tx:\n",
    "    for record in tx.run('MATCH ()-[retweets:Retweets]->() \\\n",
    "                          RETURN COUNT(retweets)'):\n",
    "        print(record.value())"
   ]
  },
  {
   "cell_type": "markdown",
   "metadata": {},
   "source": [
    "##  <font color='blue' size=4> 5. How many times did users in this network reply to other user's tweets  ?  </font>"
   ]
  },
  {
   "cell_type": "code",
   "execution_count": 295,
   "metadata": {},
   "outputs": [
    {
     "name": "stdout",
     "output_type": "stream",
     "text": [
      "32523\n"
     ]
    }
   ],
   "source": [
    "with session.begin_transaction() as tx:\n",
    "    for record in tx.run('MATCH ()-[replys:Replys]->() \\\n",
    "                          RETURN COUNT(replys)'):\n",
    "        print(record.value())"
   ]
  },
  {
   "cell_type": "markdown",
   "metadata": {},
   "source": [
    "##  <font color='blue' size=4> 6. How many times did users in this network mention other users in their tweets ? </font>"
   ]
  },
  {
   "cell_type": "code",
   "execution_count": 296,
   "metadata": {},
   "outputs": [
    {
     "name": "stdout",
     "output_type": "stream",
     "text": [
      "150818\n"
     ]
    }
   ],
   "source": [
    "with session.begin_transaction() as tx:\n",
    "    for record in tx.run('MATCH ()-[mentions:Mentions]->() \\\n",
    "                          RETURN COUNT(mentions)'):\n",
    "        print(record.value())"
   ]
  },
  {
   "cell_type": "markdown",
   "metadata": {},
   "source": [
    "##  <font color='blue' size=4> 7. How many users follow user 89805 ?  </font>"
   ]
  },
  {
   "cell_type": "code",
   "execution_count": 297,
   "metadata": {},
   "outputs": [
    {
     "name": "stdout",
     "output_type": "stream",
     "text": [
      "156\n"
     ]
    }
   ],
   "source": [
    "with session.begin_transaction() as tx:\n",
    "    for record in tx.run('MATCH (follower)-[:Follows]->(:User{user:89805}) \\\n",
    "                          RETURN COUNT(follower)'):\n",
    "        print(record.value())"
   ]
  },
  {
   "cell_type": "markdown",
   "metadata": {},
   "source": [
    "##  <font color='blue' size=4> 8. How many users does user 89805 follow ? </font>"
   ]
  },
  {
   "cell_type": "code",
   "execution_count": 298,
   "metadata": {},
   "outputs": [
    {
     "name": "stdout",
     "output_type": "stream",
     "text": [
      "171\n"
     ]
    }
   ],
   "source": [
    "with session.begin_transaction() as tx:\n",
    "    for record in tx.run('MATCH (:User{user:89805})-[:Follows]->(followee) \\\n",
    "                          RETURN COUNT(followee)'):\n",
    "        print(record.value())"
   ]
  },
  {
   "cell_type": "markdown",
   "metadata": {},
   "source": [
    "##  <font color='blue' size=4> 9. Did user 14907 ever retweet user 89805? </font>"
   ]
  },
  {
   "cell_type": "code",
   "execution_count": 299,
   "metadata": {},
   "outputs": [
    {
     "name": "stdout",
     "output_type": "stream",
     "text": [
      "No\n"
     ]
    }
   ],
   "source": [
    "with session.begin_transaction() as tx:\n",
    "    for record in tx.run('MATCH (:User{user:14907})-[follows:Follows]->(:User{user:89805}) \\\n",
    "                          RETURN COUNT(follows)'):\n",
    "        if record.value():\n",
    "            print(\"Yes\")\n",
    "        else:\n",
    "            print(\"No\")\n",
    "        "
   ]
  },
  {
   "cell_type": "markdown",
   "metadata": {},
   "source": [
    "##  <font color='blue' size=4> 10. Did user 89805 ever retweet user 14907?  </font>"
   ]
  },
  {
   "cell_type": "code",
   "execution_count": 300,
   "metadata": {},
   "outputs": [
    {
     "name": "stdout",
     "output_type": "stream",
     "text": [
      "Yes\n"
     ]
    }
   ],
   "source": [
    "with session.begin_transaction() as tx:\n",
    "    for record in tx.run('MATCH (:User{user:89805})-[retweets:Retweets]->(:User{user:14907}) \\\n",
    "                          RETURN COUNT(retweets)'):\n",
    "        if record.value():\n",
    "            print(\"Yes\")\n",
    "        else:\n",
    "            print(\"No\")"
   ]
  },
  {
   "cell_type": "markdown",
   "metadata": {},
   "source": [
    "##  <font color='blue' size=4> 11. Find out the top 5 users with the highest number of followers ?  </font>"
   ]
  },
  {
   "cell_type": "code",
   "execution_count": 301,
   "metadata": {},
   "outputs": [
    {
     "name": "stdout",
     "output_type": "stream",
     "text": [
      "User with ID of  1502  has  51386  followers.\n",
      "User with ID of  205  has  48414  followers.\n",
      "User with ID of  87  has  45221  followers.\n",
      "User with ID of  137  has  44188  followers.\n",
      "User with ID of  1061  has  40120  followers.\n"
     ]
    }
   ],
   "source": [
    "with session.begin_transaction() as tx:\n",
    "    for record in tx.run('MATCH (followee:User) \\\n",
    "                          WITH followee, SIZE(()-[:Follows]->(followee)) as followerCnt \\\n",
    "                          RETURN ID(followee),followerCnt \\\n",
    "                          ORDER BY followerCnt DESC LIMIT 5'):\n",
    "        \n",
    "        print(\"User with ID of \",record.values()[0] ,\" has \", record.values()[1] ,\" followers.\")\n",
    "       "
   ]
  },
  {
   "cell_type": "markdown",
   "metadata": {},
   "source": [
    "##  <font color='blue' size=4> 12. What is the total count of followers of followers of user 89805 ?  </font>"
   ]
  },
  {
   "cell_type": "code",
   "execution_count": 302,
   "metadata": {},
   "outputs": [
    {
     "name": "stdout",
     "output_type": "stream",
     "text": [
      "70882\n"
     ]
    }
   ],
   "source": [
    "with session.begin_transaction() as tx:\n",
    "    for record in tx.run('MATCH (follower)-[:Follows]->()-[:Follows]->(:User{user:89805}) \\\n",
    "                          RETURN COUNT(DISTINCT follower)'):\n",
    "        print(record.value())"
   ]
  }
 ],
 "metadata": {
  "kernelspec": {
   "display_name": "Python 3",
   "language": "python",
   "name": "python3"
  },
  "language_info": {
   "codemirror_mode": {
    "name": "ipython",
    "version": 3
   },
   "file_extension": ".py",
   "mimetype": "text/x-python",
   "name": "python",
   "nbconvert_exporter": "python",
   "pygments_lexer": "ipython3",
   "version": "3.6.4"
  }
 },
 "nbformat": 4,
 "nbformat_minor": 2
}
