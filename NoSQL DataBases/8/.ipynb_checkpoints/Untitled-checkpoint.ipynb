{
 "cells": [
  {
   "cell_type": "code",
   "execution_count": 15,
   "metadata": {
    "collapsed": true
   },
   "outputs": [
    {
     "name": "stdout",
     "output_type": "stream",
     "text": [
      "<Record a=<Node id=457046 labels={'City'} properties={'name': 'Walnut Creek', 'population': 70000}> b=<Node id=457049 labels={'Zip'} properties={'zipcode': '94518'}> c=<Node id=457002 labels={'County'} properties={'name': 'Contra Costa'}> d=<Node id=457003 labels={'State'} properties={'name': 'California'}>>\n",
      "<Record zip.zipcode='94518' county.name='Contra Costa' state.name='California'>\n",
      "<Record city=<Node id=457046 labels={'City'} properties={'name': 'Walnut Creek', 'population': 70000}> zip=<Node id=457049 labels={'Zip'} properties={'zipcode': '94518'}> county=<Node id=457002 labels={'County'} properties={'name': 'Contra Costa'}> state=<Node id=457003 labels={'State'} properties={'name': 'California'}>>\n",
      "<Record city=<Node id=457046 labels={'City'} properties={'name': 'Walnut Creek', 'population': 70000}> zip=<Node id=457049 labels={'Zip'} properties={'zipcode': '94518'}> county=<Node id=457002 labels={'County'} properties={'name': 'Contra Costa'}> state=<Node id=457003 labels={'State'} properties={'name': 'California'}>>\n"
     ]
    }
   ],
   "source": [
    "from neo4j.v1 import GraphDatabase\n",
    "\n",
    "host = 'ec2-54-67-15-68.us-west-1.compute.amazonaws.com'\n",
    "port = '9232'\n",
    "\n",
    "uri = \"bolt://\" + host + ':' + port\n",
    "\n",
    "driver = GraphDatabase.driver(uri, auth=(\"neo4j\", \"password\"), encrypted=False)\n",
    "\n",
    "session = driver.session()\n",
    "\n",
    "# Delete the existing index on City nodes. This needs to happen in a separate transaction\n",
    "try:\n",
    "  with session.begin_transaction() as tx:\n",
    "      tx.run('DROP INDEX ON :City(name)')\n",
    "except Exception:\n",
    "  print('ignored exception in drop index')\n",
    "\n",
    "# Create the zip/city/county/state nodes and relationships and then query the data.\n",
    "with session.begin_transaction() as tx:\n",
    "    # Delete the existing nodes\n",
    "    tx.run('MATCH (a:City{name:{city_name}}),(b:Zip{zipcode:{zipcode}}),(c:County{name: {county_name}}),(d:State{name:{state_name}}) DETACH DELETE a,b,c,d', zipcode='94518', city_name='Walnut Creek', county_name='Contra Costa', state_name='California')\n",
    "    # Create new zip, city, county, and state nodes\n",
    "    for record in tx.run('CREATE (a:City{name:{city_name},population:{population}}),(b:Zip{zipcode:{zipcode}}),(c:County{name: {county_name}}),(d:State{name:{state_name}}) return a,b,c,d', zipcode='94518', city_name='Walnut Creek', county_name='Contra Costa', state_name='California', population=70000):\n",
    "        print(record)\n",
    "    # Create the relationships between these nodes\n",
    "    tx.run('MATCH (city:City{name:{city_name}}),(zip:Zip{zipcode:{zipcode}}),(county:County{name: {county_name}}),(state:State{name:{state_name}}) create (zip)-[:in_city]->(city)-[:in_county]->(county)-[:in_state]->(state)', zipcode='94518', city_name='Walnut Creek', county_name='Contra Costa', state_name='California')\n",
    "    # Query the zip, city, county and state where the city.name is Walnut Creek\n",
    "    for record in tx.run('match (zip:Zip)-[:in_city]->(city:City{name:{city_name}})-[:in_county]->(county:County)-[:in_state]->(state:State) return zip.zipcode,county.name,state.name;', city_name='Walnut Creek'):\n",
    "        print(record)\n",
    "    # Query the zip, city, county and state objects where the city.name is Walnut Creek\n",
    "    for record in tx.run('match (zip:Zip)-[:in_city]->(city:City{name:{city_name}})-[:in_county]->(county:County)-[:in_state]->(state:State) return city, zip,county,state;', city_name='Walnut Creek'):\n",
    "        print(record)\n",
    "    # Query the zip, city, county and state objects where the state.name is California\n",
    "    for record in tx.run('match (zip:Zip)-[:in_city]->(city:City)-[:in_county]->(county:County)-[:in_state]->(state:State{name:{state_name}}) return city, zip,county,state;', state_name='California'):\n",
    "        print(record)\n",
    "\n",
    "with session.begin_transaction() as tx:\n",
    "    tx.run('CREATE INDEX ON :City(name)')"
   ]
  },
  {
   "cell_type": "code",
   "execution_count": 2,
   "metadata": {},
   "outputs": [],
   "source": [
    "from neo4j.v1 import GraphDatabase\n",
    "\n",
    "host = 'ec2-54-67-15-68.us-west-1.compute.amazonaws.com'\n",
    "port = '9232'\n",
    "\n",
    "uri = \"bolt://\" + host + ':' + port\n",
    "\n",
    "driver = GraphDatabase.driver(uri, auth=(\"neo4j\", \"password\"), encrypted=False)\n",
    "\n",
    "session = driver.session()"
   ]
  },
  {
   "cell_type": "code",
   "execution_count": null,
   "metadata": {},
   "outputs": [],
   "source": [
    "with session.begin_transaction() as tx:"
   ]
  }
 ],
 "metadata": {
  "kernelspec": {
   "display_name": "Python 3",
   "language": "python",
   "name": "python3"
  },
  "language_info": {
   "codemirror_mode": {
    "name": "ipython",
    "version": 3
   },
   "file_extension": ".py",
   "mimetype": "text/x-python",
   "name": "python",
   "nbconvert_exporter": "python",
   "pygments_lexer": "ipython3",
   "version": "3.6.4"
  }
 },
 "nbformat": 4,
 "nbformat_minor": 2
}
