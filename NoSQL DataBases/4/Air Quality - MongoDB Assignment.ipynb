{
 "cells": [
  {
   "cell_type": "markdown",
   "metadata": {},
   "source": [
    "###  <font color='green' size=5> HW #4: Air Quality - MongoDB Assignment  </font> \n",
    "\n",
    "**NoSQL** <br>\n",
    "**ANLT 243** <br>\n",
    "**September 14, 2018** <br>\n",
    "<br>\n",
    "\n",
    "<font color='green' size=4> By: Ali Taheri</font>"
   ]
  },
  {
   "cell_type": "markdown",
   "metadata": {},
   "source": [
    "At first, we set reqired parameters for accessing \"aq\" collection in mongodb database of \"nosql\" on specified aws server."
   ]
  },
  {
   "cell_type": "code",
   "execution_count": 25,
   "metadata": {
    "scrolled": true
   },
   "outputs": [
    {
     "name": "stdout",
     "output_type": "stream",
     "text": [
      "\n",
      "List of collections in db\n",
      "['population', 'aq', 'population_Ali']\n"
     ]
    }
   ],
   "source": [
    "from pymongo import MongoClient, ASCENDING, DESCENDING\n",
    "import pprint\n",
    "\n",
    "host = 'ec2-54-67-15-68.us-west-1.compute.amazonaws.com'\n",
    "client = MongoClient(host, 9210)\n",
    "\n",
    "db = client.nosql                       # db refers to nosql database\n",
    "db_names = db.list_collection_names()   # accessing name of existing collectiones\n",
    "print('\\nList of collections in db')\n",
    "pprint.pprint(db_names)"
   ]
  },
  {
   "cell_type": "markdown",
   "metadata": {},
   "source": [
    "##  <font color='blue' size=4> 1. How many total records are there in this air quality collection ?  </font>"
   ]
  },
  {
   "cell_type": "markdown",
   "metadata": {},
   "source": [
    "In following part, we access \"aq\" collection and will count number of documents by \"aggregate\" function."
   ]
  },
  {
   "cell_type": "code",
   "execution_count": 26,
   "metadata": {},
   "outputs": [
    {
     "name": "stdout",
     "output_type": "stream",
     "text": [
      "\n",
      "Number of documents in aq collecton is : 218635\n"
     ]
    }
   ],
   "source": [
    "aq=db.aq\n",
    "\n",
    "counting_cursor=aq.aggregate([  \n",
    "  { \n",
    "    \"$group\": {\n",
    "      \"_id\" : None, \n",
    "      \"count\": {\n",
    "        \"$sum\": 1\n",
    "      }\n",
    "    }\n",
    "  }\n",
    "])\n",
    "\n",
    "print('\\nNumber of documents in aq collecton is : ' + str(counting_cursor.next()['count']))\n"
   ]
  },
  {
   "cell_type": "markdown",
   "metadata": {},
   "source": [
    "##  <font color='blue' size=4> 2. What is the data type of the columns StateName, ReportYear, and Value ?  </font>"
   ]
  },
  {
   "cell_type": "markdown",
   "metadata": {},
   "source": [
    "With accessing to a typical record, we extract type of mentioned columns."
   ]
  },
  {
   "cell_type": "code",
   "execution_count": 27,
   "metadata": {},
   "outputs": [
    {
     "name": "stdout",
     "output_type": "stream",
     "text": [
      "\n",
      "Type of StateName column is : <class 'str'>\n",
      "\n",
      "Type of ReportYear column is : <class 'int'>\n",
      "\n",
      "Type of Value column is : <class 'float'>\n"
     ]
    }
   ],
   "source": [
    "typical_document = aq.find_one()\n",
    "\n",
    "for column in ('StateName', 'ReportYear', 'Value'):\n",
    "    print(\"\\nType of \" + column + \" column is : \"+ str(type(typical_document[column])))\n"
   ]
  },
  {
   "cell_type": "markdown",
   "metadata": {},
   "source": [
    "##  <font color='blue' size=4> 3. What was the air quality metric value for MeasureId 83 in the Santa Barbara county in the state of California in 2013 ?  </font>"
   ]
  },
  {
   "cell_type": "markdown",
   "metadata": {},
   "source": [
    "For finding air quality metric value for MeasureId 83 in the Santa Barbara county in the state of California in 2013, we find a record with following matching criteria, we use \"find_one\" function."
   ]
  },
  {
   "cell_type": "code",
   "execution_count": 28,
   "metadata": {},
   "outputs": [
    {
     "name": "stdout",
     "output_type": "stream",
     "text": [
      "\n",
      "Air quality metric value for MeasureId 83 in the Santa Barbara county in the state of California in 2013 was 1.0\n"
     ]
    }
   ],
   "source": [
    "aq_desired_document = aq.find_one({ 'MeasureId': 83 , 'CountyName': 'Santa Barbara',\n",
    "                                'StateName': 'California', 'ReportYear': 2013 })\n",
    "\n",
    "print('\\nAir quality metric value for MeasureId 83 in the Santa Barbara county in the state of California in 2013 was ' \\\n",
    "          + str(aq_desired_document['Value']) )"
   ]
  },
  {
   "cell_type": "markdown",
   "metadata": {},
   "source": [
    "##  <font color='blue' size=4> 4. What is the MeasureName of MeasureId 85 ?  </font>"
   ]
  },
  {
   "cell_type": "markdown",
   "metadata": {},
   "source": [
    "Same to above, we retrieve description for MeasureId of 85."
   ]
  },
  {
   "cell_type": "code",
   "execution_count": 29,
   "metadata": {},
   "outputs": [
    {
     "name": "stdout",
     "output_type": "stream",
     "text": [
      "\n",
      " MeasureName of MeasureId 85 is Percent of days with PM2.5 levels over the National Ambient Air Quality Standard (NAAQS)\n"
     ]
    }
   ],
   "source": [
    "aq_desired_document = aq.find_one({ 'MeasureId': 85 })\n",
    "print('\\n MeasureName of MeasureId 85 is ' + str(aq_desired_document['MeasureName']))"
   ]
  },
  {
   "cell_type": "markdown",
   "metadata": {},
   "source": [
    "##  <font color='blue' size=4> 5. Which state and county have the highest recorded air quality value of MeasureId 85 in any year ?  </font>"
   ]
  },
  {
   "cell_type": "markdown",
   "metadata": {},
   "source": [
    "For finding places with the most value of MeasureId of 85, first we extract years of measuring. Two different approaches have been mentioned below."
   ]
  },
  {
   "cell_type": "code",
   "execution_count": 30,
   "metadata": {},
   "outputs": [
    {
     "name": "stdout",
     "output_type": "stream",
     "text": [
      "\n",
      " Statistics for MeasureId of 85 are for years between 1999 and 2013.\n"
     ]
    }
   ],
   "source": [
    "year_range = aq.aggregate([\n",
    "    { \"$match\" : {'MeasureId': 85} } ,\n",
    "    { \n",
    "    \"$group\": {\n",
    "      \"_id\": None, \n",
    "      \"from_year\": {\"$min\": \"$ReportYear\"} ,\n",
    "      \"to_year\":   {\"$max\": \"$ReportYear\"}\n",
    "    }\n",
    " }\n",
    "]).next()\n",
    "\n",
    "from_year = year_range['from_year']\n",
    "to_year = year_range['to_year']\n",
    "\n",
    "#from_year = aq.find_one({'MeasureId': 85},sort=[(\"ReportYear\", 1)])['ReportYear']\n",
    "#to_year = aq.find_one({'MeasureId': 85},sort=[(\"ReportYear\", -1)])['ReportYear']\n",
    "\n",
    "\n",
    "print('\\n Statistics for MeasureId of 85 are for years between '+ str(from_year) + ' and ' + str(to_year) + '.')\n",
    "\n",
    "#from_year = aq.find_one({'MeasureId': 85},sort=[(\"ReportYear\", 1)])['ReportYear']\n",
    "#to_year = aq.find_one({'MeasureId': 85},sort=[(\"ReportYear\", -1)])['ReportYear']"
   ]
  },
  {
   "cell_type": "markdown",
   "metadata": {},
   "source": [
    "Based on above info, we find the county with the highest value of MeasureId of 85 for each year in a for loop."
   ]
  },
  {
   "cell_type": "code",
   "execution_count": 31,
   "metadata": {},
   "outputs": [
    {
     "name": "stdout",
     "output_type": "stream",
     "text": [
      "\n",
      " Following counties had the highest recorded air quality value of MeasureId 85 at each year:\n",
      "\n",
      " In 1999, Riverside from California\n",
      "\n",
      " In 2000, Riverside from California\n",
      "\n",
      " In 2001, Riverside from California\n",
      "\n",
      " In 2002, San Bernardino from California\n",
      "\n",
      " In 2003, Riverside from California\n",
      "\n",
      " In 2004, Fairbanks North Star from Alaska\n",
      "\n",
      " In 2005, Allegheny from Pennsylvania\n",
      "\n",
      " In 2006, Allegheny from Pennsylvania\n",
      "\n",
      " In 2007, Kings from California\n",
      "\n",
      " In 2008, Kern from California\n",
      "\n",
      " In 2009, Kern from California\n",
      "\n",
      " In 2010, Silver Bow from Montana\n",
      "\n",
      " In 2011, Fresno from California\n",
      "\n",
      " In 2012, Kings from California\n",
      "\n",
      " In 2013, Kings from California\n"
     ]
    }
   ],
   "source": [
    "print('\\n Following counties had the highest recorded air quality value of MeasureId 85 at each year:')\n",
    "\n",
    "for year in range(from_year , to_year+1):\n",
    "    max_record=aq.find_one({'MeasureId': 85 , \"ReportYear\": year},sort=[(\"Value\", -1)])\n",
    "    print(\"\\n In \" + str(year) + \", \" + str(max_record['CountyName']) + ' from ' + str(max_record['StateName']) )\n"
   ]
  },
  {
   "cell_type": "markdown",
   "metadata": {},
   "source": [
    "##  <font color='blue' size=4> 6. Print the average of air quality value and the unit for MeasureId 87, State - Florida, CountyName - Pinellas, for years between 2002 - 2008 ?  </font>"
   ]
  },
  {
   "cell_type": "markdown",
   "metadata": {},
   "source": [
    "Now, for finding the average of air quality value and the unit for MeasureId of 87 in county of Pinellas from Florida,  for years between 2002 - 2008, we use \"aggregate\" function with following matching criteria."
   ]
  },
  {
   "cell_type": "code",
   "execution_count": 32,
   "metadata": {},
   "outputs": [
    {
     "name": "stdout",
     "output_type": "stream",
     "text": [
      "\n",
      "Average of air quality value for MeasureId 87 in Pinellas of Florida between 2001 and 2008 is 8.653 µg/m³\n"
     ]
    }
   ],
   "source": [
    "aq_desired_result = aq.aggregate([\n",
    "    { \"$match\" : {'MeasureId': 87, 'CountyName': 'Pinellas' , 'StateName': 'Florida' , \\\n",
    "                        'ReportYear': { \"$lt\": 2009 } , 'ReportYear': { \"$gt\": 2001 }}} ,\n",
    "    { \n",
    "    \"$group\": {\n",
    "      \"_id\": { \"Unit\": \"$Unit\"},\n",
    "      \"average_value\": {\n",
    "        \"$avg\": \"$Value\"\n",
    "      }\n",
    "    }\n",
    "  }\n",
    "    ]).next()\n",
    "\n",
    "print('\\nAverage of air quality value for MeasureId 87 in Pinellas of Florida between 2001 and 2008 is ' +\n",
    "      str(round(aq_desired_result['average_value'] , 3)) +' ' + aq_desired_result[\"_id\"][\"Unit\"])\n"
   ]
  },
  {
   "cell_type": "markdown",
   "metadata": {},
   "source": [
    "##  <font color='blue' size=4> 7. Based on the data provided in the air quality collection, which state do you believe has better air quality- California or Texas ? Why? Call out any assumptions you make.  </font>"
   ]
  },
  {
   "cell_type": "markdown",
   "metadata": {},
   "source": [
    "For comparison of two states of California and Texas, first we retrieve all years of records."
   ]
  },
  {
   "cell_type": "code",
   "execution_count": 33,
   "metadata": {},
   "outputs": [
    {
     "name": "stdout",
     "output_type": "stream",
     "text": [
      "[1999, 2000, 2001, 2002, 2003, 2004, 2005, 2006, 2007, 2008, 2009, 2010, 2011, 2012, 2013]\n",
      "[1999, 2000, 2001, 2002, 2003, 2004, 2005, 2006, 2007, 2008, 2009, 2010, 2011, 2012, 2013]\n"
     ]
    }
   ],
   "source": [
    "california_docs_years = sorted(aq.find({'StateName': 'California'}).distinct(\"ReportYear\"))\n",
    "texas_docs_years = sorted(aq.find({'StateName': 'Texas'}).distinct(\"ReportYear\"))\n",
    "\n",
    "print(california_docs_years)\n",
    "print(texas_docs_years)\n"
   ]
  },
  {
   "cell_type": "markdown",
   "metadata": {},
   "source": [
    "We see that we have records for both states between 1999 and 2013. <br>\n",
    "For a decent comparison, we could consider last two years of 2012 and 2013. It's time to know which parameters have been measured at these days."
   ]
  },
  {
   "cell_type": "code",
   "execution_count": 34,
   "metadata": {},
   "outputs": [
    {
     "name": "stdout",
     "output_type": "stream",
     "text": [
      "[83, 84, 85, 86, 87]\n",
      "[83, 84, 85, 86, 87]\n"
     ]
    }
   ],
   "source": [
    "#All documents of California for 2012 and 2013\n",
    "\n",
    "california_docs_2012_2013 = aq.find({'StateName': 'California','ReportYear': {\"$gt\" : 2011}})\n",
    "\n",
    "#All documents of Texas for 2012 and 2013\n",
    "\n",
    "texas_docs_2012_2013 = aq.find({'StateName': 'Texas' ,'ReportYear': {\"$gt\" : 2011}})\n",
    "\n",
    "print(sorted(california_docs_2012_2013.distinct(\"MeasureId\")))  #sorte list of measure ids of CA in 2012 and 2013\n",
    "print(sorted(texas_docs_2012_2013.distinct(\"MeasureId\")))       #sorte list of measure ids of TX in 2012 and 2013\n"
   ]
  },
  {
   "cell_type": "markdown",
   "metadata": {},
   "source": [
    "So, we would calculate average of above parameters for two states in 2012 and 2013."
   ]
  },
  {
   "cell_type": "code",
   "execution_count": 35,
   "metadata": {},
   "outputs": [
    {
     "name": "stdout",
     "output_type": "stream",
     "text": [
      "[9.89, 22567535.98, 2.8, 8368825.59, 0.06]\n"
     ]
    }
   ],
   "source": [
    "measure_ids = sorted(california_docs_2012_2013.distinct(\"MeasureId\")) # 5 measure ids\n",
    "\n",
    "california_aq_2012_2013=[]   #list of average of parameters for CA in 2012 and 2013\n",
    "\n",
    "for Measure_ID in measure_ids:\n",
    "    aq_desired_result = aq.aggregate([\n",
    "    { \"$match\" : {'MeasureId': Measure_ID,'StateName': 'California' , 'ReportYear': {\"$gt\" : 2011} }} ,\n",
    "    { \n",
    "    \"$group\": {\n",
    "      \"_id\": None,\n",
    "      \"average_value\": {\n",
    "        \"$avg\": \"$Value\"\n",
    "      }\n",
    "    }\n",
    "    }\n",
    "    ]).next()\n",
    "    \n",
    "    california_aq_2012_2013.append(round(aq_desired_result[\"average_value\"] ,2)) #appending averages to list\n",
    "    \n",
    "\n",
    "texas_aq_2012_2013=[]    #list of average of parameters for TX in 2012 and 2013\n",
    "\n",
    "for Measure_ID in measure_ids:\n",
    "    aq_desired_result = aq.aggregate([\n",
    "    { \"$match\" : {'MeasureId': Measure_ID,'StateName': 'Texas' , 'ReportYear': {\"$gt\" : 2011} }} ,\n",
    "    { \n",
    "    \"$group\": {\n",
    "      \"_id\": None,\n",
    "      \"average_value\": {\n",
    "        \"$avg\": \"$Value\"\n",
    "      }\n",
    "    }\n",
    "    }\n",
    "    ]).next()\n",
    "    \n",
    "    texas_aq_2012_2013.append(round(aq_desired_result[\"average_value\"] ,2))  #appending averages to list\n",
    "    \n",
    "#Subtraction of averages in CA and TX\n",
    "print([round(x - y,2) for x, y in zip(california_aq_2012_2013, texas_aq_2012_2013)])\n"
   ]
  },
  {
   "cell_type": "markdown",
   "metadata": {},
   "source": [
    "It is obvious that air pollution in California is higher than Texas and it's main reason could be a lot of wild fires in California. "
   ]
  }
 ],
 "metadata": {
  "kernelspec": {
   "display_name": "Python 3",
   "language": "python",
   "name": "python3"
  },
  "language_info": {
   "codemirror_mode": {
    "name": "ipython",
    "version": 3
   },
   "file_extension": ".py",
   "mimetype": "text/x-python",
   "name": "python",
   "nbconvert_exporter": "python",
   "pygments_lexer": "ipython3",
   "version": "3.6.4"
  }
 },
 "nbformat": 4,
 "nbformat_minor": 2
}
