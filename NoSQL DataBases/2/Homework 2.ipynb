{
 "cells": [
  {
   "cell_type": "code",
   "execution_count": 104,
   "metadata": {},
   "outputs": [],
   "source": [
    "from memcache import Client\n",
    "import pandas as pd\n",
    "\n",
    "memcached_port = '9150'\n",
    "hostname = 'ec2-54-183-15-168.us-west-1.compute.amazonaws.com'\n",
    "\n",
    "mc = Client([hostname + ':' + memcached_port], debug=0)      #defining memcached client\n",
    "\n",
    "df = pd.read_csv(\"SO2 Emissions Key Value Cache.csv\")       # reading csv file to a pandas dataframe\n",
    "\n",
    "for key in range(len(df)):\n",
    "    mc.set(str(key) + 'Ali', df.loc[key,])                #writing each row of a dataframe as key-value pair in memcached\n",
    "    \n",
    "\n",
    "read_df=pd.DataFrame(mc.get('0Ali')).transpose()        #reading first item of database in a new pandas dataframe\n",
    "\n",
    "for key in range(1,len(df)):\n",
    "    read_df=read_df.append(mc.get(str(key) + 'Ali'))    #reading all remaining items in respective dataframe\n",
    "    \n",
    "\n",
    "read_df.to_csv(\"New_SO2 Emissions Key Value Cache.csv\")  #writling new dataframe into a new csv file"
   ]
  }
 ],
 "metadata": {
  "kernelspec": {
   "display_name": "Python 3",
   "language": "python",
   "name": "python3"
  },
  "language_info": {
   "codemirror_mode": {
    "name": "ipython",
    "version": 3
   },
   "file_extension": ".py",
   "mimetype": "text/x-python",
   "name": "python",
   "nbconvert_exporter": "python",
   "pygments_lexer": "ipython3",
   "version": "3.6.4"
  }
 },
 "nbformat": 4,
 "nbformat_minor": 2
}
