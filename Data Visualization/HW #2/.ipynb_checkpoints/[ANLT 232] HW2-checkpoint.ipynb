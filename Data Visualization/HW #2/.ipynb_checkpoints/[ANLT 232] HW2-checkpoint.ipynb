{
 "cells": [
  {
   "cell_type": "code",
   "execution_count": 397,
   "metadata": {
    "collapsed": true
   },
   "outputs": [],
   "source": [
    "# Import necessary packages\n",
    "#\n",
    "import pandas as pd\n",
    "import random\n",
    "import numpy as np\n",
    "import matplotlib.pyplot as plt\n",
    "import datetime as dt\n",
    "import statsmodels.api as sm\n",
    "from matplotlib import style\n",
    "from sklearn.linear_model import LinearRegression\n",
    "from sklearn.preprocessing import LabelEncoder\n",
    "from sklearn.ensemble import RandomForestClassifier\n",
    "style.use('fivethirtyeight')\n",
    "#\n",
    "import seaborn as sns\n",
    "#\n",
    "import sklearn.metrics as skm\n",
    "#\n",
    "from pandas import DataFrame, Series\n",
    "from datetime import datetime\n",
    "from matplotlib.colors import ListedColormap\n",
    "from sklearn import datasets\n",
    "from sklearn.cluster import KMeans\n",
    "from scipy.cluster.hierarchy import dendrogram, linkage, leaves_list\n",
    "#\n",
    "# Pandas settings - initially as per lecture notes - modify as needed\n",
    "#\n",
    "pd.set_option('display.notebook_repr_html', True)\n",
    "pd.set_option('display.max_rows', 100)\n",
    "pd.set_option('display.max_columns', None)\n",
    "pd.set_option('display.width', None)\n",
    "#\n",
    "%matplotlib inline  \n",
    "#\n",
    "import warnings\n",
    "warnings.filterwarnings('ignore')"
   ]
  },
  {
   "cell_type": "code",
   "execution_count": 118,
   "metadata": {
    "collapsed": true
   },
   "outputs": [],
   "source": [
    "# Import raw data from .csv files\n",
    "#\n",
    "# Skip the first line of each file as it contains unnecessary text instead of the column/attribute names\n",
    "# Otherwise, this first line would prevent the data to be parsed into pandas data frame properly\n",
    "#\n",
    "# Data 2007 to 2015\n",
    "d01 = DataFrame(pd.read_csv('LoanStats3a.csv', skiprows=1, low_memory=False))\n",
    "d02 = DataFrame(pd.read_csv('LoanStats3b.csv', skiprows=1, low_memory=False))\n",
    "d03 = DataFrame(pd.read_csv('LoanStats3c.csv', skiprows=1, low_memory=False))\n",
    "d04 = DataFrame(pd.read_csv('LoanStats3d.csv', skiprows=1, low_memory=False))\n",
    "# Data 2016 \n",
    "d05 = DataFrame(pd.read_csv('LoanStats_2016Q1.csv', skiprows=1, low_memory=False))\n",
    "d06 = DataFrame(pd.read_csv('LoanStats_2016Q2.csv', skiprows=1, low_memory=False))\n",
    "d07 = DataFrame(pd.read_csv('LoanStats_2016Q3.csv', skiprows=1, low_memory=False))\n",
    "d08 = DataFrame(pd.read_csv('LoanStats_2016Q4.csv', skiprows=1, low_memory=False))\n",
    "# Data 2017\n",
    "d09 = DataFrame(pd.read_csv('LoanStats_2017Q1.csv', skiprows=1, low_memory=False))\n",
    "d10 = DataFrame(pd.read_csv('LoanStats_2017Q2.csv', skiprows=1, low_memory=False))"
   ]
  },
  {
   "cell_type": "code",
   "execution_count": 172,
   "metadata": {
    "collapsed": true
   },
   "outputs": [],
   "source": [
    "# Combine individual data frames into a single data frame\n",
    "#\n",
    "loans_raw = pd.concat([d01, d02, d03, d04, d05, d06, d07, d08, d09, d10])\n",
    "loans_raw['year'] = pd.to_datetime(loans_raw['settlement_date']).dt.year"
   ]
  },
  {
   "cell_type": "code",
   "execution_count": 316,
   "metadata": {
    "collapsed": true
   },
   "outputs": [],
   "source": [
    "loans = loans_raw[['id', 'grade', 'int_rate', 'year', 'annual_inc', 'dti', 'home_ownership']]"
   ]
  },
  {
   "cell_type": "code",
   "execution_count": 317,
   "metadata": {
    "collapsed": true
   },
   "outputs": [],
   "source": [
    "# Loan id column is all null so let us update it with integers and set this column as the index column\n",
    "#\n",
    "loans.loc[loans['id'].isnull(), 'id'] = loans.loc[loans['id'].isnull()].index"
   ]
  },
  {
   "cell_type": "code",
   "execution_count": 318,
   "metadata": {
    "scrolled": true
   },
   "outputs": [
    {
     "data": {
      "text/html": [
       "<div>\n",
       "<style>\n",
       "    .dataframe thead tr:only-child th {\n",
       "        text-align: right;\n",
       "    }\n",
       "\n",
       "    .dataframe thead th {\n",
       "        text-align: left;\n",
       "    }\n",
       "\n",
       "    .dataframe tbody tr th {\n",
       "        vertical-align: top;\n",
       "    }\n",
       "</style>\n",
       "<table border=\"1\" class=\"dataframe\">\n",
       "  <thead>\n",
       "    <tr style=\"text-align: right;\">\n",
       "      <th></th>\n",
       "      <th>grade</th>\n",
       "      <th>int_rate</th>\n",
       "      <th>year</th>\n",
       "      <th>annual_inc</th>\n",
       "      <th>dti</th>\n",
       "      <th>home_ownership</th>\n",
       "    </tr>\n",
       "    <tr>\n",
       "      <th>id</th>\n",
       "      <th></th>\n",
       "      <th></th>\n",
       "      <th></th>\n",
       "      <th></th>\n",
       "      <th></th>\n",
       "      <th></th>\n",
       "    </tr>\n",
       "  </thead>\n",
       "  <tbody>\n",
       "    <tr>\n",
       "      <th>105</th>\n",
       "      <td>D</td>\n",
       "      <td>16.77%</td>\n",
       "      <td>2015.0</td>\n",
       "      <td>38000.0</td>\n",
       "      <td>23.18</td>\n",
       "      <td>RENT</td>\n",
       "    </tr>\n",
       "    <tr>\n",
       "      <th>188</th>\n",
       "      <td>B</td>\n",
       "      <td>12.69%</td>\n",
       "      <td>2013.0</td>\n",
       "      <td>58500.0</td>\n",
       "      <td>20.64</td>\n",
       "      <td>RENT</td>\n",
       "    </tr>\n",
       "    <tr>\n",
       "      <th>255</th>\n",
       "      <td>B</td>\n",
       "      <td>12.42%</td>\n",
       "      <td>2014.0</td>\n",
       "      <td>39000.0</td>\n",
       "      <td>18.31</td>\n",
       "      <td>RENT</td>\n",
       "    </tr>\n",
       "    <tr>\n",
       "      <th>362</th>\n",
       "      <td>E</td>\n",
       "      <td>19.42%</td>\n",
       "      <td>2015.0</td>\n",
       "      <td>60000.0</td>\n",
       "      <td>20.04</td>\n",
       "      <td>RENT</td>\n",
       "    </tr>\n",
       "    <tr>\n",
       "      <th>430</th>\n",
       "      <td>C</td>\n",
       "      <td>13.49%</td>\n",
       "      <td>2014.0</td>\n",
       "      <td>75000.0</td>\n",
       "      <td>25.71</td>\n",
       "      <td>MORTGAGE</td>\n",
       "    </tr>\n",
       "  </tbody>\n",
       "</table>\n",
       "</div>"
      ],
      "text/plain": [
       "    grade int_rate    year  annual_inc    dti home_ownership\n",
       "id                                                          \n",
       "105     D   16.77%  2015.0     38000.0  23.18           RENT\n",
       "188     B   12.69%  2013.0     58500.0  20.64           RENT\n",
       "255     B   12.42%  2014.0     39000.0  18.31           RENT\n",
       "362     E   19.42%  2015.0     60000.0  20.04           RENT\n",
       "430     C   13.49%  2014.0     75000.0  25.71       MORTGAGE"
      ]
     },
     "execution_count": 318,
     "metadata": {},
     "output_type": "execute_result"
    }
   ],
   "source": [
    "loans = loans.dropna()\n",
    "loans.set_index('id').head()"
   ]
  },
  {
   "cell_type": "code",
   "execution_count": 319,
   "metadata": {
    "collapsed": true
   },
   "outputs": [],
   "source": [
    "# Change objects to float type\n",
    "#\n",
    "loans['int_rate'] = loans['int_rate'].str.rstrip('%').astype('float')\n",
    "loans['annual_inc'] = loans['annual_inc'].astype('float')\n",
    "loans['dti'] = loans['dti'].astype('float')"
   ]
  },
  {
   "cell_type": "code",
   "execution_count": 332,
   "metadata": {
    "collapsed": true
   },
   "outputs": [],
   "source": [
    "# Convert categorical data to numerical\n",
    "# \n",
    "# Grade\n",
    "number = LabelEncoder()\n",
    "loans['number_grade'] = number.fit_transform(loans['grade'].astype('str'))\n",
    "\n",
    "# Home ownership\n",
    "#\n",
    "loans['number_home_ownership'] = number.fit_transform(loans['home_ownership'].astype('str'))"
   ]
  },
  {
   "cell_type": "code",
   "execution_count": 333,
   "metadata": {},
   "outputs": [
    {
     "data": {
      "text/plain": [
       "(14775, 9)"
      ]
     },
     "execution_count": 333,
     "metadata": {},
     "output_type": "execute_result"
    }
   ],
   "source": [
    "loans.shape"
   ]
  },
  {
   "cell_type": "code",
   "execution_count": 334,
   "metadata": {},
   "outputs": [
    {
     "data": {
      "text/plain": [
       "year\n",
       "2009.0        1\n",
       "2010.0        1\n",
       "2011.0        5\n",
       "2012.0       26\n",
       "2013.0       90\n",
       "2014.0      335\n",
       "2015.0     1217\n",
       "2016.0     1743\n",
       "2017.0    10470\n",
       "2018.0      887\n",
       "Name: id, dtype: int64"
      ]
     },
     "execution_count": 334,
     "metadata": {},
     "output_type": "execute_result"
    }
   ],
   "source": [
    "loans.groupby(loans.year)['id'].count()"
   ]
  },
  {
   "cell_type": "code",
   "execution_count": 335,
   "metadata": {
    "collapsed": true
   },
   "outputs": [],
   "source": [
    "# Training set1: year 2009 - 2015\n",
    "#\n",
    "tr_15prev = loans[loans['year'].between(2009.0, 2015.0)]\n",
    "\n",
    "# Training set2: year 2016\n",
    "#\n",
    "tr_16 = loans[loans['year'] == 2016.0]"
   ]
  },
  {
   "cell_type": "code",
   "execution_count": 336,
   "metadata": {},
   "outputs": [
    {
     "data": {
      "text/html": [
       "<div>\n",
       "<style>\n",
       "    .dataframe thead tr:only-child th {\n",
       "        text-align: right;\n",
       "    }\n",
       "\n",
       "    .dataframe thead th {\n",
       "        text-align: left;\n",
       "    }\n",
       "\n",
       "    .dataframe tbody tr th {\n",
       "        vertical-align: top;\n",
       "    }\n",
       "</style>\n",
       "<table border=\"1\" class=\"dataframe\">\n",
       "  <thead>\n",
       "    <tr style=\"text-align: right;\">\n",
       "      <th></th>\n",
       "      <th>id</th>\n",
       "      <th>grade</th>\n",
       "      <th>int_rate</th>\n",
       "      <th>year</th>\n",
       "      <th>annual_inc</th>\n",
       "      <th>dti</th>\n",
       "      <th>home_ownership</th>\n",
       "      <th>number_grade</th>\n",
       "      <th>number_home_ownership</th>\n",
       "    </tr>\n",
       "  </thead>\n",
       "  <tbody>\n",
       "    <tr>\n",
       "      <th>105</th>\n",
       "      <td>105</td>\n",
       "      <td>D</td>\n",
       "      <td>16.77</td>\n",
       "      <td>2015.0</td>\n",
       "      <td>38000.0</td>\n",
       "      <td>23.18</td>\n",
       "      <td>RENT</td>\n",
       "      <td>3</td>\n",
       "      <td>5</td>\n",
       "    </tr>\n",
       "    <tr>\n",
       "      <th>188</th>\n",
       "      <td>188</td>\n",
       "      <td>B</td>\n",
       "      <td>12.69</td>\n",
       "      <td>2013.0</td>\n",
       "      <td>58500.0</td>\n",
       "      <td>20.64</td>\n",
       "      <td>RENT</td>\n",
       "      <td>1</td>\n",
       "      <td>5</td>\n",
       "    </tr>\n",
       "    <tr>\n",
       "      <th>255</th>\n",
       "      <td>255</td>\n",
       "      <td>B</td>\n",
       "      <td>12.42</td>\n",
       "      <td>2014.0</td>\n",
       "      <td>39000.0</td>\n",
       "      <td>18.31</td>\n",
       "      <td>RENT</td>\n",
       "      <td>1</td>\n",
       "      <td>5</td>\n",
       "    </tr>\n",
       "    <tr>\n",
       "      <th>362</th>\n",
       "      <td>362</td>\n",
       "      <td>E</td>\n",
       "      <td>19.42</td>\n",
       "      <td>2015.0</td>\n",
       "      <td>60000.0</td>\n",
       "      <td>20.04</td>\n",
       "      <td>RENT</td>\n",
       "      <td>4</td>\n",
       "      <td>5</td>\n",
       "    </tr>\n",
       "    <tr>\n",
       "      <th>430</th>\n",
       "      <td>430</td>\n",
       "      <td>C</td>\n",
       "      <td>13.49</td>\n",
       "      <td>2014.0</td>\n",
       "      <td>75000.0</td>\n",
       "      <td>25.71</td>\n",
       "      <td>MORTGAGE</td>\n",
       "      <td>2</td>\n",
       "      <td>1</td>\n",
       "    </tr>\n",
       "  </tbody>\n",
       "</table>\n",
       "</div>"
      ],
      "text/plain": [
       "      id grade  int_rate    year  annual_inc    dti home_ownership  \\\n",
       "105  105     D     16.77  2015.0     38000.0  23.18           RENT   \n",
       "188  188     B     12.69  2013.0     58500.0  20.64           RENT   \n",
       "255  255     B     12.42  2014.0     39000.0  18.31           RENT   \n",
       "362  362     E     19.42  2015.0     60000.0  20.04           RENT   \n",
       "430  430     C     13.49  2014.0     75000.0  25.71       MORTGAGE   \n",
       "\n",
       "     number_grade  number_home_ownership  \n",
       "105             3                      5  \n",
       "188             1                      5  \n",
       "255             1                      5  \n",
       "362             4                      5  \n",
       "430             2                      1  "
      ]
     },
     "execution_count": 336,
     "metadata": {},
     "output_type": "execute_result"
    }
   ],
   "source": [
    "tr_15prev.head()"
   ]
  },
  {
   "cell_type": "code",
   "execution_count": 345,
   "metadata": {},
   "outputs": [
    {
     "data": {
      "text/html": [
       "<div>\n",
       "<style>\n",
       "    .dataframe thead tr:only-child th {\n",
       "        text-align: right;\n",
       "    }\n",
       "\n",
       "    .dataframe thead th {\n",
       "        text-align: left;\n",
       "    }\n",
       "\n",
       "    .dataframe tbody tr th {\n",
       "        vertical-align: top;\n",
       "    }\n",
       "</style>\n",
       "<table border=\"1\" class=\"dataframe\">\n",
       "  <thead>\n",
       "    <tr style=\"text-align: right;\">\n",
       "      <th></th>\n",
       "      <th>id</th>\n",
       "      <th>grade</th>\n",
       "      <th>int_rate</th>\n",
       "      <th>year</th>\n",
       "      <th>annual_inc</th>\n",
       "      <th>dti</th>\n",
       "      <th>home_ownership</th>\n",
       "      <th>number_grade</th>\n",
       "      <th>number_home_ownership</th>\n",
       "    </tr>\n",
       "  </thead>\n",
       "  <tbody>\n",
       "    <tr>\n",
       "      <th>876</th>\n",
       "      <td>876</td>\n",
       "      <td>B</td>\n",
       "      <td>12.69</td>\n",
       "      <td>2016.0</td>\n",
       "      <td>34000.0</td>\n",
       "      <td>13.41</td>\n",
       "      <td>RENT</td>\n",
       "      <td>1</td>\n",
       "      <td>5</td>\n",
       "    </tr>\n",
       "    <tr>\n",
       "      <th>6469</th>\n",
       "      <td>6469</td>\n",
       "      <td>E</td>\n",
       "      <td>18.64</td>\n",
       "      <td>2016.0</td>\n",
       "      <td>115000.0</td>\n",
       "      <td>11.45</td>\n",
       "      <td>MORTGAGE</td>\n",
       "      <td>4</td>\n",
       "      <td>1</td>\n",
       "    </tr>\n",
       "    <tr>\n",
       "      <th>14822</th>\n",
       "      <td>14822</td>\n",
       "      <td>B</td>\n",
       "      <td>10.59</td>\n",
       "      <td>2016.0</td>\n",
       "      <td>37000.0</td>\n",
       "      <td>15.70</td>\n",
       "      <td>MORTGAGE</td>\n",
       "      <td>1</td>\n",
       "      <td>1</td>\n",
       "    </tr>\n",
       "    <tr>\n",
       "      <th>17564</th>\n",
       "      <td>17564</td>\n",
       "      <td>E</td>\n",
       "      <td>17.14</td>\n",
       "      <td>2016.0</td>\n",
       "      <td>48012.0</td>\n",
       "      <td>13.82</td>\n",
       "      <td>MORTGAGE</td>\n",
       "      <td>4</td>\n",
       "      <td>1</td>\n",
       "    </tr>\n",
       "    <tr>\n",
       "      <th>25069</th>\n",
       "      <td>25069</td>\n",
       "      <td>C</td>\n",
       "      <td>14.72</td>\n",
       "      <td>2016.0</td>\n",
       "      <td>45500.0</td>\n",
       "      <td>21.52</td>\n",
       "      <td>OWN</td>\n",
       "      <td>2</td>\n",
       "      <td>4</td>\n",
       "    </tr>\n",
       "  </tbody>\n",
       "</table>\n",
       "</div>"
      ],
      "text/plain": [
       "          id grade  int_rate    year  annual_inc    dti home_ownership  \\\n",
       "876      876     B     12.69  2016.0     34000.0  13.41           RENT   \n",
       "6469    6469     E     18.64  2016.0    115000.0  11.45       MORTGAGE   \n",
       "14822  14822     B     10.59  2016.0     37000.0  15.70       MORTGAGE   \n",
       "17564  17564     E     17.14  2016.0     48012.0  13.82       MORTGAGE   \n",
       "25069  25069     C     14.72  2016.0     45500.0  21.52            OWN   \n",
       "\n",
       "       number_grade  number_home_ownership  \n",
       "876               1                      5  \n",
       "6469              4                      1  \n",
       "14822             1                      1  \n",
       "17564             4                      1  \n",
       "25069             2                      4  "
      ]
     },
     "execution_count": 345,
     "metadata": {},
     "output_type": "execute_result"
    }
   ],
   "source": [
    "tr_16.head()"
   ]
  },
  {
   "cell_type": "code",
   "execution_count": 361,
   "metadata": {},
   "outputs": [
    {
     "data": {
      "text/plain": [
       "LinearRegression(copy_X=True, fit_intercept=True, n_jobs=1, normalize=False)"
      ]
     },
     "execution_count": 361,
     "metadata": {},
     "output_type": "execute_result"
    }
   ],
   "source": [
    "# Training set1 independent variables (x)\n",
    "#\n",
    "x_15prev = tr_15prev[['int_rate', 'annual_inc', 'dti', 'number_home_ownership']]\n",
    "x1 = sm.add_constant(x_15prev)\n",
    "\n",
    "# Training set1 dependent variables (x)\n",
    "y_15prev = tr_15prev['number_grade']\n",
    "\n",
    "# Model1\n",
    "#\n",
    "model_15prev = LinearRegression()\n",
    "model_15prev.fit(x_15prev, y_15prev)"
   ]
  },
  {
   "cell_type": "code",
   "execution_count": 372,
   "metadata": {},
   "outputs": [
    {
     "data": {
      "text/plain": [
       "LinearRegression(copy_X=True, fit_intercept=True, n_jobs=1, normalize=False)"
      ]
     },
     "execution_count": 372,
     "metadata": {},
     "output_type": "execute_result"
    }
   ],
   "source": [
    "# Training set2 independent variables (x)\n",
    "#\n",
    "x_16 = tr_16[['int_rate', 'annual_inc', 'dti', 'number_home_ownership']]\n",
    "x1 = sm.add_constant(x_16)\n",
    "\n",
    "# Training set2 dependent variables (x)\n",
    "y_16 = tr_16['number_grade']\n",
    "\n",
    "# Model2\n",
    "#\n",
    "model_16 = LinearRegression()\n",
    "model_16.fit(x_16, y_16)"
   ]
  },
  {
   "cell_type": "code",
   "execution_count": 365,
   "metadata": {
    "collapsed": true
   },
   "outputs": [],
   "source": [
    "# Test data\n",
    "#\n",
    "test = loans[loans['year'] == 2017.0]\n",
    "test_x = test[['int_rate', 'annual_inc', 'dti', 'number_home_ownership']]\n",
    "\n",
    "test_y = test['number_grade']"
   ]
  },
  {
   "cell_type": "code",
   "execution_count": 374,
   "metadata": {},
   "outputs": [
    {
     "data": {
      "text/plain": [
       "0.87667311560192684"
      ]
     },
     "execution_count": 374,
     "metadata": {},
     "output_type": "execute_result"
    }
   ],
   "source": [
    "model_15prev.score(test_x, test_y)"
   ]
  },
  {
   "cell_type": "code",
   "execution_count": 373,
   "metadata": {},
   "outputs": [
    {
     "data": {
      "text/plain": [
       "0.91138247900125047"
      ]
     },
     "execution_count": 373,
     "metadata": {},
     "output_type": "execute_result"
    }
   ],
   "source": [
    "model_16.score(test_x, test_y)"
   ]
  },
  {
   "cell_type": "code",
   "execution_count": 370,
   "metadata": {},
   "outputs": [
    {
     "data": {
      "text/html": [
       "<table class=\"simpletable\">\n",
       "<caption>OLS Regression Results</caption>\n",
       "<tr>\n",
       "  <th>Dep. Variable:</th>      <td>number_grade</td>   <th>  R-squared:         </th> <td>   0.957</td> \n",
       "</tr>\n",
       "<tr>\n",
       "  <th>Model:</th>                   <td>OLS</td>       <th>  Adj. R-squared:    </th> <td>   0.957</td> \n",
       "</tr>\n",
       "<tr>\n",
       "  <th>Method:</th>             <td>Least Squares</td>  <th>  F-statistic:       </th> <td>5.799e+04</td>\n",
       "</tr>\n",
       "<tr>\n",
       "  <th>Date:</th>             <td>Fri, 02 Feb 2018</td> <th>  Prob (F-statistic):</th>  <td>  0.00</td>  \n",
       "</tr>\n",
       "<tr>\n",
       "  <th>Time:</th>                 <td>04:25:43</td>     <th>  Log-Likelihood:    </th> <td> -9074.3</td> \n",
       "</tr>\n",
       "<tr>\n",
       "  <th>No. Observations:</th>      <td> 10470</td>      <th>  AIC:               </th> <td>1.816e+04</td>\n",
       "</tr>\n",
       "<tr>\n",
       "  <th>Df Residuals:</th>          <td> 10466</td>      <th>  BIC:               </th> <td>1.819e+04</td>\n",
       "</tr>\n",
       "<tr>\n",
       "  <th>Df Model:</th>              <td>     4</td>      <th>                     </th>     <td> </td>    \n",
       "</tr>\n",
       "<tr>\n",
       "  <th>Covariance Type:</th>      <td>nonrobust</td>    <th>                     </th>     <td> </td>    \n",
       "</tr>\n",
       "</table>\n",
       "<table class=\"simpletable\">\n",
       "<tr>\n",
       "            <td></td>               <th>coef</th>     <th>std err</th>      <th>t</th>      <th>P>|t|</th>  <th>[0.025</th>    <th>0.975]</th>  \n",
       "</tr>\n",
       "<tr>\n",
       "  <th>int_rate</th>              <td>    0.2039</td> <td>    0.001</td> <td>  256.227</td> <td> 0.000</td> <td>    0.202</td> <td>    0.205</td>\n",
       "</tr>\n",
       "<tr>\n",
       "  <th>annual_inc</th>            <td>-7.784e-07</td> <td> 4.44e-08</td> <td>  -17.535</td> <td> 0.000</td> <td>-8.65e-07</td> <td>-6.91e-07</td>\n",
       "</tr>\n",
       "<tr>\n",
       "  <th>dti</th>                   <td>   -0.0122</td> <td>    0.000</td> <td>  -28.302</td> <td> 0.000</td> <td>   -0.013</td> <td>   -0.011</td>\n",
       "</tr>\n",
       "<tr>\n",
       "  <th>number_home_ownership</th> <td>   -0.0885</td> <td>    0.003</td> <td>  -32.527</td> <td> 0.000</td> <td>   -0.094</td> <td>   -0.083</td>\n",
       "</tr>\n",
       "</table>\n",
       "<table class=\"simpletable\">\n",
       "<tr>\n",
       "  <th>Omnibus:</th>       <td>3363.044</td> <th>  Durbin-Watson:     </th> <td>   1.839</td> \n",
       "</tr>\n",
       "<tr>\n",
       "  <th>Prob(Omnibus):</th>  <td> 0.000</td>  <th>  Jarque-Bera (JB):  </th> <td>72226.913</td>\n",
       "</tr>\n",
       "<tr>\n",
       "  <th>Skew:</th>           <td> 1.024</td>  <th>  Prob(JB):          </th> <td>    0.00</td> \n",
       "</tr>\n",
       "<tr>\n",
       "  <th>Kurtosis:</th>       <td>15.703</td>  <th>  Cond. No.          </th> <td>7.01e+04</td> \n",
       "</tr>\n",
       "</table>"
      ],
      "text/plain": [
       "<class 'statsmodels.iolib.summary.Summary'>\n",
       "\"\"\"\n",
       "                            OLS Regression Results                            \n",
       "==============================================================================\n",
       "Dep. Variable:           number_grade   R-squared:                       0.957\n",
       "Model:                            OLS   Adj. R-squared:                  0.957\n",
       "Method:                 Least Squares   F-statistic:                 5.799e+04\n",
       "Date:                Fri, 02 Feb 2018   Prob (F-statistic):               0.00\n",
       "Time:                        04:25:43   Log-Likelihood:                -9074.3\n",
       "No. Observations:               10470   AIC:                         1.816e+04\n",
       "Df Residuals:                   10466   BIC:                         1.819e+04\n",
       "Df Model:                           4                                         \n",
       "Covariance Type:            nonrobust                                         \n",
       "=========================================================================================\n",
       "                            coef    std err          t      P>|t|      [0.025      0.975]\n",
       "-----------------------------------------------------------------------------------------\n",
       "int_rate                  0.2039      0.001    256.227      0.000       0.202       0.205\n",
       "annual_inc            -7.784e-07   4.44e-08    -17.535      0.000   -8.65e-07   -6.91e-07\n",
       "dti                      -0.0122      0.000    -28.302      0.000      -0.013      -0.011\n",
       "number_home_ownership    -0.0885      0.003    -32.527      0.000      -0.094      -0.083\n",
       "==============================================================================\n",
       "Omnibus:                     3363.044   Durbin-Watson:                   1.839\n",
       "Prob(Omnibus):                  0.000   Jarque-Bera (JB):            72226.913\n",
       "Skew:                           1.024   Prob(JB):                         0.00\n",
       "Kurtosis:                      15.703   Cond. No.                     7.01e+04\n",
       "==============================================================================\n",
       "\n",
       "Warnings:\n",
       "[1] Standard Errors assume that the covariance matrix of the errors is correctly specified.\n",
       "[2] The condition number is large, 7.01e+04. This might indicate that there are\n",
       "strong multicollinearity or other numerical problems.\n",
       "\"\"\""
      ]
     },
     "execution_count": 370,
     "metadata": {},
     "output_type": "execute_result"
    }
   ],
   "source": [
    "result = sm.OLS(test_y, test_x).fit()\n",
    "result.summary()"
   ]
  },
  {
   "cell_type": "code",
   "execution_count": 396,
   "metadata": {},
   "outputs": [
    {
     "ename": "ValueError",
     "evalue": "y contains new labels: [ <bound method Series.all of 2335      3.0\n2352      3.0\n3231      2.0\n7855      4.0\n11798     3.0\n13737     2.0\n17372     3.0\n24100     3.0\n25351     3.0\n41622     2.0\n144       3.0\n480       4.0\n834       3.0\n913       4.0\n1047      2.0\n1229      4.0\n1806      4.0\n2172      4.0\n2745      3.0\n2763      2.0\n2830      3.0\n3339      4.0\n3359      1.0\n3482      4.0\n3691      2.0\n3694      3.0\n3775      3.0\n3894      3.0\n4182      4.0\n4536      3.0\n4655      3.0\n4890      4.0\n5134      3.0\n5384      2.0\n5413      3.0\n5631      3.0\n5819      4.0\n6363      2.0\n6489      3.0\n6575      3.0\n6735      3.0\n6743      3.0\n6929      3.0\n6943      3.0\n7135      4.0\n7509      3.0\n7528      4.0\n7768      2.0\n7786      4.0\n7787      3.0\n         ... \n86899     2.0\n87175     2.0\n88351     3.0\n89142     1.0\n89691     2.0\n90015     5.0\n90037     3.0\n90509     3.0\n91097     2.0\n92062     3.0\n92764     4.0\n93276     5.0\n93352     5.0\n94012     5.0\n95026     4.0\n95298     3.0\n95693     3.0\n95875     2.0\n95887     3.0\n1513      3.0\n8822      3.0\n25737     2.0\n31291     2.0\n42382     1.0\n42716     2.0\n43177     6.0\n44275     1.0\n53942     2.0\n54451     4.0\n57359     6.0\n61990     2.0\n69411     2.0\n70281     4.0\n70659     2.0\n77258     2.0\n79430     5.0\n81164     6.0\n82254     4.0\n83264     2.0\n86348     2.0\n87459     2.0\n91452     4.0\n95944     3.0\n96948     3.0\n99066     3.0\n99095     3.0\n101380    2.0\n103494    2.0\n104602    4.0\n105418    3.0\nName: number_prediction, Length: 10470, dtype: float64>]",
     "output_type": "error",
     "traceback": [
      "\u001b[0;31m---------------------------------------------------------------------------\u001b[0m",
      "\u001b[0;31mValueError\u001b[0m                                Traceback (most recent call last)",
      "\u001b[0;32m<ipython-input-396-192ed66f94b0>\u001b[0m in \u001b[0;36m<module>\u001b[0;34m()\u001b[0m\n\u001b[1;32m      2\u001b[0m \u001b[0;34m\u001b[0m\u001b[0m\n\u001b[1;32m      3\u001b[0m \u001b[0mreverse\u001b[0m \u001b[0;34m=\u001b[0m \u001b[0mLabelEncoder\u001b[0m\u001b[0;34m(\u001b[0m\u001b[0;34m)\u001b[0m\u001b[0;34m.\u001b[0m\u001b[0mfit\u001b[0m\u001b[0;34m(\u001b[0m\u001b[0;34m[\u001b[0m\u001b[0;34m'A'\u001b[0m\u001b[0;34m,\u001b[0m \u001b[0;34m'B'\u001b[0m\u001b[0;34m,\u001b[0m \u001b[0;34m'C'\u001b[0m\u001b[0;34m,\u001b[0m \u001b[0;34m'D'\u001b[0m\u001b[0;34m,\u001b[0m \u001b[0;34m'E'\u001b[0m\u001b[0;34m,\u001b[0m \u001b[0;34m'F'\u001b[0m\u001b[0;34m,\u001b[0m \u001b[0;34m'G'\u001b[0m\u001b[0;34m]\u001b[0m\u001b[0;34m)\u001b[0m\u001b[0;34m\u001b[0m\u001b[0m\n\u001b[0;32m----> 4\u001b[0;31m \u001b[0mtest\u001b[0m\u001b[0;34m[\u001b[0m\u001b[0;34m'prediction'\u001b[0m\u001b[0;34m]\u001b[0m \u001b[0;34m=\u001b[0m \u001b[0mreverse\u001b[0m\u001b[0;34m.\u001b[0m\u001b[0minverse_transform\u001b[0m\u001b[0;34m(\u001b[0m\u001b[0mtest\u001b[0m\u001b[0;34m[\u001b[0m\u001b[0;34m'number_prediction'\u001b[0m\u001b[0;34m]\u001b[0m\u001b[0;34m.\u001b[0m\u001b[0mall\u001b[0m\u001b[0;34m)\u001b[0m\u001b[0;34m\u001b[0m\u001b[0m\n\u001b[0m",
      "\u001b[0;32m~/anaconda3/lib/python3.6/site-packages/sklearn/preprocessing/label.py\u001b[0m in \u001b[0;36minverse_transform\u001b[0;34m(self, y)\u001b[0m\n\u001b[1;32m    150\u001b[0m         \u001b[0mdiff\u001b[0m \u001b[0;34m=\u001b[0m \u001b[0mnp\u001b[0m\u001b[0;34m.\u001b[0m\u001b[0msetdiff1d\u001b[0m\u001b[0;34m(\u001b[0m\u001b[0my\u001b[0m\u001b[0;34m,\u001b[0m \u001b[0mnp\u001b[0m\u001b[0;34m.\u001b[0m\u001b[0marange\u001b[0m\u001b[0;34m(\u001b[0m\u001b[0mlen\u001b[0m\u001b[0;34m(\u001b[0m\u001b[0mself\u001b[0m\u001b[0;34m.\u001b[0m\u001b[0mclasses_\u001b[0m\u001b[0;34m)\u001b[0m\u001b[0;34m)\u001b[0m\u001b[0;34m)\u001b[0m\u001b[0;34m\u001b[0m\u001b[0m\n\u001b[1;32m    151\u001b[0m         \u001b[0;32mif\u001b[0m \u001b[0mdiff\u001b[0m\u001b[0;34m:\u001b[0m\u001b[0;34m\u001b[0m\u001b[0m\n\u001b[0;32m--> 152\u001b[0;31m             \u001b[0;32mraise\u001b[0m \u001b[0mValueError\u001b[0m\u001b[0;34m(\u001b[0m\u001b[0;34m\"y contains new labels: %s\"\u001b[0m \u001b[0;34m%\u001b[0m \u001b[0mstr\u001b[0m\u001b[0;34m(\u001b[0m\u001b[0mdiff\u001b[0m\u001b[0;34m)\u001b[0m\u001b[0;34m)\u001b[0m\u001b[0;34m\u001b[0m\u001b[0m\n\u001b[0m\u001b[1;32m    153\u001b[0m         \u001b[0my\u001b[0m \u001b[0;34m=\u001b[0m \u001b[0mnp\u001b[0m\u001b[0;34m.\u001b[0m\u001b[0masarray\u001b[0m\u001b[0;34m(\u001b[0m\u001b[0my\u001b[0m\u001b[0;34m)\u001b[0m\u001b[0;34m\u001b[0m\u001b[0m\n\u001b[1;32m    154\u001b[0m         \u001b[0;32mreturn\u001b[0m \u001b[0mself\u001b[0m\u001b[0;34m.\u001b[0m\u001b[0mclasses_\u001b[0m\u001b[0;34m[\u001b[0m\u001b[0my\u001b[0m\u001b[0;34m]\u001b[0m\u001b[0;34m\u001b[0m\u001b[0m\n",
      "\u001b[0;31mValueError\u001b[0m: y contains new labels: [ <bound method Series.all of 2335      3.0\n2352      3.0\n3231      2.0\n7855      4.0\n11798     3.0\n13737     2.0\n17372     3.0\n24100     3.0\n25351     3.0\n41622     2.0\n144       3.0\n480       4.0\n834       3.0\n913       4.0\n1047      2.0\n1229      4.0\n1806      4.0\n2172      4.0\n2745      3.0\n2763      2.0\n2830      3.0\n3339      4.0\n3359      1.0\n3482      4.0\n3691      2.0\n3694      3.0\n3775      3.0\n3894      3.0\n4182      4.0\n4536      3.0\n4655      3.0\n4890      4.0\n5134      3.0\n5384      2.0\n5413      3.0\n5631      3.0\n5819      4.0\n6363      2.0\n6489      3.0\n6575      3.0\n6735      3.0\n6743      3.0\n6929      3.0\n6943      3.0\n7135      4.0\n7509      3.0\n7528      4.0\n7768      2.0\n7786      4.0\n7787      3.0\n         ... \n86899     2.0\n87175     2.0\n88351     3.0\n89142     1.0\n89691     2.0\n90015     5.0\n90037     3.0\n90509     3.0\n91097     2.0\n92062     3.0\n92764     4.0\n93276     5.0\n93352     5.0\n94012     5.0\n95026     4.0\n95298     3.0\n95693     3.0\n95875     2.0\n95887     3.0\n1513      3.0\n8822      3.0\n25737     2.0\n31291     2.0\n42382     1.0\n42716     2.0\n43177     6.0\n44275     1.0\n53942     2.0\n54451     4.0\n57359     6.0\n61990     2.0\n69411     2.0\n70281     4.0\n70659     2.0\n77258     2.0\n79430     5.0\n81164     6.0\n82254     4.0\n83264     2.0\n86348     2.0\n87459     2.0\n91452     4.0\n95944     3.0\n96948     3.0\n99066     3.0\n99095     3.0\n101380    2.0\n103494    2.0\n104602    4.0\n105418    3.0\nName: number_prediction, Length: 10470, dtype: float64>]"
     ]
    }
   ],
   "source": [
    "test['number_prediction'] = round(result.predict(test_x), 0)\n",
    "\n",
    "x_encoded = number.fit_transform(test['number_prediction'])\n",
    "test['prediction'] = reverse.inverse_transform(test['number_prediction'].all)\n",
    "\n",
    "['A', 'B', 'C', 'D', 'E', 'F', 'G']"
   ]
  },
  {
   "cell_type": "code",
   "execution_count": 391,
   "metadata": {},
   "outputs": [
    {
     "data": {
      "text/html": [
       "<div>\n",
       "<style>\n",
       "    .dataframe thead tr:only-child th {\n",
       "        text-align: right;\n",
       "    }\n",
       "\n",
       "    .dataframe thead th {\n",
       "        text-align: left;\n",
       "    }\n",
       "\n",
       "    .dataframe tbody tr th {\n",
       "        vertical-align: top;\n",
       "    }\n",
       "</style>\n",
       "<table border=\"1\" class=\"dataframe\">\n",
       "  <thead>\n",
       "    <tr style=\"text-align: right;\">\n",
       "      <th></th>\n",
       "      <th>id</th>\n",
       "      <th>grade</th>\n",
       "      <th>int_rate</th>\n",
       "      <th>year</th>\n",
       "      <th>annual_inc</th>\n",
       "      <th>dti</th>\n",
       "      <th>home_ownership</th>\n",
       "      <th>number_grade</th>\n",
       "      <th>number_home_ownership</th>\n",
       "      <th>prediction</th>\n",
       "      <th>number_prediction</th>\n",
       "    </tr>\n",
       "  </thead>\n",
       "  <tbody>\n",
       "    <tr>\n",
       "      <th>2335</th>\n",
       "      <td>2335</td>\n",
       "      <td>D</td>\n",
       "      <td>16.77</td>\n",
       "      <td>2017.0</td>\n",
       "      <td>110000.0</td>\n",
       "      <td>5.50</td>\n",
       "      <td>RENT</td>\n",
       "      <td>3</td>\n",
       "      <td>5</td>\n",
       "      <td>3.0</td>\n",
       "      <td>3.0</td>\n",
       "    </tr>\n",
       "    <tr>\n",
       "      <th>2352</th>\n",
       "      <td>2352</td>\n",
       "      <td>C</td>\n",
       "      <td>14.65</td>\n",
       "      <td>2017.0</td>\n",
       "      <td>43000.0</td>\n",
       "      <td>11.25</td>\n",
       "      <td>MORTGAGE</td>\n",
       "      <td>2</td>\n",
       "      <td>1</td>\n",
       "      <td>3.0</td>\n",
       "      <td>3.0</td>\n",
       "    </tr>\n",
       "    <tr>\n",
       "      <th>3231</th>\n",
       "      <td>3231</td>\n",
       "      <td>B</td>\n",
       "      <td>11.71</td>\n",
       "      <td>2017.0</td>\n",
       "      <td>115000.0</td>\n",
       "      <td>12.27</td>\n",
       "      <td>MORTGAGE</td>\n",
       "      <td>1</td>\n",
       "      <td>1</td>\n",
       "      <td>2.0</td>\n",
       "      <td>2.0</td>\n",
       "    </tr>\n",
       "    <tr>\n",
       "      <th>7855</th>\n",
       "      <td>7855</td>\n",
       "      <td>F</td>\n",
       "      <td>20.25</td>\n",
       "      <td>2017.0</td>\n",
       "      <td>150000.0</td>\n",
       "      <td>4.69</td>\n",
       "      <td>RENT</td>\n",
       "      <td>5</td>\n",
       "      <td>5</td>\n",
       "      <td>4.0</td>\n",
       "      <td>4.0</td>\n",
       "    </tr>\n",
       "    <tr>\n",
       "      <th>11798</th>\n",
       "      <td>11798</td>\n",
       "      <td>D</td>\n",
       "      <td>17.49</td>\n",
       "      <td>2017.0</td>\n",
       "      <td>127000.0</td>\n",
       "      <td>12.84</td>\n",
       "      <td>MORTGAGE</td>\n",
       "      <td>3</td>\n",
       "      <td>1</td>\n",
       "      <td>3.0</td>\n",
       "      <td>3.0</td>\n",
       "    </tr>\n",
       "  </tbody>\n",
       "</table>\n",
       "</div>"
      ],
      "text/plain": [
       "          id grade  int_rate    year  annual_inc    dti home_ownership  \\\n",
       "2335    2335     D     16.77  2017.0    110000.0   5.50           RENT   \n",
       "2352    2352     C     14.65  2017.0     43000.0  11.25       MORTGAGE   \n",
       "3231    3231     B     11.71  2017.0    115000.0  12.27       MORTGAGE   \n",
       "7855    7855     F     20.25  2017.0    150000.0   4.69           RENT   \n",
       "11798  11798     D     17.49  2017.0    127000.0  12.84       MORTGAGE   \n",
       "\n",
       "       number_grade  number_home_ownership  prediction  number_prediction  \n",
       "2335              3                      5         3.0                3.0  \n",
       "2352              2                      1         3.0                3.0  \n",
       "3231              1                      1         2.0                2.0  \n",
       "7855              5                      5         4.0                4.0  \n",
       "11798             3                      1         3.0                3.0  "
      ]
     },
     "execution_count": 391,
     "metadata": {},
     "output_type": "execute_result"
    }
   ],
   "source": [
    "test.head()"
   ]
  },
  {
   "cell_type": "code",
   "execution_count": null,
   "metadata": {
    "collapsed": true
   },
   "outputs": [],
   "source": []
  }
 ],
 "metadata": {
  "kernelspec": {
   "display_name": "Python 3",
   "language": "python",
   "name": "python3"
  },
  "language_info": {
   "codemirror_mode": {
    "name": "ipython",
    "version": 3
   },
   "file_extension": ".py",
   "mimetype": "text/x-python",
   "name": "python",
   "nbconvert_exporter": "python",
   "pygments_lexer": "ipython3",
   "version": "3.6.3"
  }
 },
 "nbformat": 4,
 "nbformat_minor": 2
}
