{
 "cells": [
  {
   "cell_type": "code",
   "execution_count": 24,
   "metadata": {},
   "outputs": [],
   "source": [
    "#!/usr/bin/python\n",
    "import time\n",
    "import datetime\n",
    "\n",
    "struct_time1 = datetime.datetime.strptime(\"25 May 12\", \"%d %b %y\")"
   ]
  },
  {
   "cell_type": "code",
   "execution_count": 25,
   "metadata": {},
   "outputs": [],
   "source": [
    "struct_time2 = datetime.datetime.strptime(\"25 May 1912\", '%d %b %Y')"
   ]
  },
  {
   "cell_type": "code",
   "execution_count": 26,
   "metadata": {},
   "outputs": [
    {
     "data": {
      "text/plain": [
       "[datetime.datetime(1912, 5, 25, 0, 0), datetime.datetime(2012, 5, 25, 0, 0)]"
      ]
     },
     "execution_count": 26,
     "metadata": {},
     "output_type": "execute_result"
    }
   ],
   "source": [
    "sorted([struct_time1,struct_time2])"
   ]
  },
  {
   "cell_type": "code",
   "execution_count": 27,
   "metadata": {},
   "outputs": [
    {
     "data": {
      "text/plain": [
       "'25 May 1912'"
      ]
     },
     "execution_count": 27,
     "metadata": {},
     "output_type": "execute_result"
    }
   ],
   "source": [
    "datetime.datetime.strftime(datetime.datetime(1912, 5, 25, 0, 0),'%d %b %Y')"
   ]
  },
  {
   "cell_type": "code",
   "execution_count": null,
   "metadata": {},
   "outputs": [],
   "source": [
    "#\n",
    "# Complete the 'sortDates' function below.\n",
    "#\n",
    "# The function is expected to return a STRING_ARRAY.\n",
    "# The function accepts STRING_ARRAY dates as parameter.\n",
    "#\n",
    "import datetime\n",
    "\n",
    "def sortDates(dates):\n",
    "    #list for storing sorted dates\n",
    "    sorted_dates=[]\n",
    "    #list for storing sorted struct_dates\n",
    "    struct_dates=[]\n",
    "    #Converting dates to struct_dates \n",
    "    for date in dates:\n",
    "        struct_dates.append(datetime.datetime.strptime(str(date), '%d %b %Y'))\n",
    "        \n",
    "    #sorting struct_dates\n",
    "    sorted_struct_dates=sorted(struct_dates)\n",
    "    \n",
    "    #Converting back to our dates format\n",
    "    for date in sorted_struct_dates:\n",
    "        sorted_dates.append(datetime.datetime.strftime(date, '%d %b %Y'))\n",
    "    return sorted_dates\n",
    "        \n",
    "        \n",
    "        "
   ]
  },
  {
   "cell_type": "code",
   "execution_count": 144,
   "metadata": {},
   "outputs": [
    {
     "data": {
      "text/plain": [
       "False"
      ]
     },
     "execution_count": 144,
     "metadata": {},
     "output_type": "execute_result"
    }
   ],
   "source": [
    " 56 in range(56)\n"
   ]
  },
  {
   "cell_type": "code",
   "execution_count": 180,
   "metadata": {},
   "outputs": [],
   "source": [
    "#\n",
    "# Complete the 'findSchedules' function below.\n",
    "#\n",
    "# The function is expected to return a STRING_ARRAY.\n",
    "# The function accepts following parameters:\n",
    "#  1. INTEGER workHours\n",
    "#  2. INTEGER dayHours\n",
    "#  3. STRING pattern\n",
    "#\n",
    "\n",
    "def findSchedules(workHours, dayHours, pattern):\n",
    "    blanked_spots = 0\n",
    "    current_sum= 0\n",
    "    blanked_schedules=[]\n",
    "    schedules=[]\n",
    "    \n",
    "    for char in list(pattern):\n",
    "        if char == \"?\":\n",
    "            blanked_spots += 1\n",
    "        else:\n",
    "            current_sum += int(char)\n",
    "            \n",
    "    \n",
    "    max_number = 0\n",
    "    for k in range(blanked_spots):\n",
    "        max_number += dayHours * 10**k\n",
    "        \n",
    "    for number in range(max_number+1):\n",
    "        wrong_digits = False\n",
    "        for digit in list(str(number)):\n",
    "            if int(digit) > dayHours :\n",
    "                wrong_digits = True\n",
    "                break\n",
    "        \n",
    "        if not(wrong_digits):\n",
    "            n= number\n",
    "            r = 0\n",
    "            while n:\n",
    "                r, n = r + n % 10, n // 10\n",
    "        \n",
    "            if r == workHours - current_sum:\n",
    "                string=''.join((blanked_spots-len(str(number)))*['0']) + str(number)\n",
    "                blanked_schedules.append(string)\n",
    "            \n",
    "    for index in range(len(blanked_schedules)):\n",
    "        i=0\n",
    "        j=0\n",
    "        charlist=list(\"       \")\n",
    "        for char in list(pattern):\n",
    "            if char == \"?\":\n",
    "                charlist[j]=blanked_schedules[index][i]\n",
    "                i += 1\n",
    "            else:\n",
    "                charlist[j]=pattern[j]\n",
    "            j += 1\n",
    "        new_pattern = ''.join(charlist)        \n",
    "        schedules.append(new_pattern)\n",
    "        \n",
    "        \n",
    "    schedules.sort()\n",
    "    return schedules\n",
    "            \n",
    "               "
   ]
  },
  {
   "cell_type": "code",
   "execution_count": 173,
   "metadata": {},
   "outputs": [
    {
     "data": {
      "text/plain": [
       "\"['0', '0', '0', '0', '0']\""
      ]
     },
     "execution_count": 173,
     "metadata": {},
     "output_type": "execute_result"
    }
   ],
   "source": [
    "str(5*['0'])"
   ]
  },
  {
   "cell_type": "code",
   "execution_count": 133,
   "metadata": {},
   "outputs": [],
   "source": [
    "new_pattern=\"       \"\n",
    "charlist=list(new_pattern)"
   ]
  },
  {
   "cell_type": "code",
   "execution_count": 134,
   "metadata": {},
   "outputs": [
    {
     "data": {
      "text/plain": [
       "[' ', ' ', ' ', ' ', ' ', ' ', ' ']"
      ]
     },
     "execution_count": 134,
     "metadata": {},
     "output_type": "execute_result"
    }
   ],
   "source": [
    "charlist"
   ]
  },
  {
   "cell_type": "code",
   "execution_count": 184,
   "metadata": {},
   "outputs": [
    {
     "name": "stdout",
     "output_type": "stream",
     "text": [
      "['8305888', '8306788', '8307688', '8308588', '8314888', '8315788', '8316688', '8317588', '8318488', '8323888', '8324788', '8325688', '8326588', '8327488', '8328388', '8332888', '8333788', '8334688', '8335588', '8336488', '8337388', '8338288', '8341888', '8342788', '8343688', '8344588', '8345488', '8346388', '8347288', '8348188', '8350888', '8351788', '8352688', '8353588', '8354488', '8355388', '8356288', '8357188', '8358088', '8360788', '8361688', '8362588', '8363488', '8364388', '8365288', '8366188', '8367088', '8370688', '8371588', '8372488', '8373388', '8374288', '8375188', '8376088', '8380588', '8381488', '8382388', '8383288', '8384188', '8385088']\n"
     ]
    }
   ],
   "source": [
    "print(findSchedules(40, 8, \"83???88\"))"
   ]
  },
  {
   "cell_type": "code",
   "execution_count": 151,
   "metadata": {},
   "outputs": [],
   "source": [
    "pattern = \"8888??8\"\n",
    "workHours, dayHours = 45,8"
   ]
  },
  {
   "cell_type": "code",
   "execution_count": 152,
   "metadata": {},
   "outputs": [],
   "source": [
    "    blanked_spots = 0\n",
    "    current_sum= 0\n",
    "    blanked_schedules=[]\n",
    "    schedules=[]\n",
    "    \n",
    "    for char in list(pattern):\n",
    "        if char == \"?\":\n",
    "            blanked_spots += 1\n",
    "        else:\n",
    "            current_sum += int(char)"
   ]
  },
  {
   "cell_type": "code",
   "execution_count": 153,
   "metadata": {},
   "outputs": [
    {
     "data": {
      "text/plain": [
       "2"
      ]
     },
     "execution_count": 153,
     "metadata": {},
     "output_type": "execute_result"
    }
   ],
   "source": [
    "blanked_spots"
   ]
  },
  {
   "cell_type": "code",
   "execution_count": 154,
   "metadata": {},
   "outputs": [
    {
     "data": {
      "text/plain": [
       "40"
      ]
     },
     "execution_count": 154,
     "metadata": {},
     "output_type": "execute_result"
    }
   ],
   "source": [
    "current_sum"
   ]
  },
  {
   "cell_type": "code",
   "execution_count": 155,
   "metadata": {},
   "outputs": [],
   "source": [
    "max_number = 0\n",
    "for k in range(blanked_spots):\n",
    "    max_number += dayHours * 10**k"
   ]
  },
  {
   "cell_type": "code",
   "execution_count": 156,
   "metadata": {},
   "outputs": [
    {
     "data": {
      "text/plain": [
       "88"
      ]
     },
     "execution_count": 156,
     "metadata": {},
     "output_type": "execute_result"
    }
   ],
   "source": [
    "max_number"
   ]
  },
  {
   "cell_type": "code",
   "execution_count": 157,
   "metadata": {},
   "outputs": [],
   "source": [
    "for number in range(max_number+1):\n",
    "        wrong_digits = False\n",
    "        for digit in list(str(number)):\n",
    "            if int(digit) > dayHours :\n",
    "                wrong_digits = True\n",
    "                break\n",
    "        \n",
    "        if not(wrong_digits):\n",
    "            n= number\n",
    "            r = 0\n",
    "            while n:\n",
    "                r, n = r + n % 10, n // 10\n",
    "        \n",
    "            if r == workHours - current_sum:\n",
    "                blanked_schedules.append(number)"
   ]
  },
  {
   "cell_type": "code",
   "execution_count": 158,
   "metadata": {},
   "outputs": [
    {
     "data": {
      "text/plain": [
       "[5, 14, 23, 32, 41, 50]"
      ]
     },
     "execution_count": 158,
     "metadata": {},
     "output_type": "execute_result"
    }
   ],
   "source": [
    "blanked_schedules"
   ]
  },
  {
   "cell_type": "code",
   "execution_count": 114,
   "metadata": {},
   "outputs": [],
   "source": [
    "for index in range(len(blanked_schedules)):\n",
    "        i=0\n",
    "        j=0\n",
    "        new_pattern=\"       \"\n",
    "        charlist=list(new_pattern)\n",
    "        for char in list(pattern):\n",
    "            if char == \"?\":\n",
    "                charlist[j]=str(blanked_schedules[index])[i]\n",
    "                i += 1\n",
    "            else:\n",
    "                charlist[j]=pattern[j]\n",
    "            j += 1\n",
    "        new_pattern = ''.join(charlist)        \n",
    "        schedules.append(new_pattern)"
   ]
  },
  {
   "cell_type": "code",
   "execution_count": 115,
   "metadata": {},
   "outputs": [
    {
     "data": {
      "text/plain": [
       "['8888888']"
      ]
     },
     "execution_count": 115,
     "metadata": {},
     "output_type": "execute_result"
    }
   ],
   "source": [
    "schedules"
   ]
  }
 ],
 "metadata": {
  "kernelspec": {
   "display_name": "Python 3",
   "language": "python",
   "name": "python3"
  },
  "language_info": {
   "codemirror_mode": {
    "name": "ipython",
    "version": 3
   },
   "file_extension": ".py",
   "mimetype": "text/x-python",
   "name": "python",
   "nbconvert_exporter": "python",
   "pygments_lexer": "ipython3",
   "version": "3.6.4"
  }
 },
 "nbformat": 4,
 "nbformat_minor": 2
}
