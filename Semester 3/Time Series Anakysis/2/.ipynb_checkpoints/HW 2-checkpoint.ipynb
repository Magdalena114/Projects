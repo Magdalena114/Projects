{
 "cells": [
  {
   "cell_type": "markdown",
   "metadata": {},
   "source": [
    "#  <font color='green' size=5> Assignment #1\n",
    "</font> \n",
    "\n",
    "**Time Series Analysis** <br>\n",
    "**ANLT 207** <br>\n",
    "**November 11, 2018** <br>\n",
    "<br>\n",
    "\n",
    "<font color='green' size=4> By: Ali Taheri</font>"
   ]
  },
  {
   "cell_type": "markdown",
   "metadata": {},
   "source": [
    "##  <font color='blue' size=4> Number 1 </font>"
   ]
  },
  {
   "cell_type": "code",
   "execution_count": 2,
   "metadata": {},
   "outputs": [],
   "source": [
    "#importing required modules\n",
    "import numpy as np\n",
    "from numpy.polynomial import Polynomial as P\n",
    "from matplotlib import pyplot\n",
    "import cmath"
   ]
  },
  {
   "cell_type": "code",
   "execution_count": 9,
   "metadata": {},
   "outputs": [],
   "source": [
    "import tweepy"
   ]
  },
  {
   "cell_type": "code",
   "execution_count": 24,
   "metadata": {},
   "outputs": [],
   "source": [
    "#defining a function for checking stationarity and converging value of time series\n",
    "def IsStatinary(coef):  #elements of coef are a0,a1,a2,..., ap\n",
    "    p=P([1] + [-num for num in coef[1:]])   #defining polynomial with coefficients of 1,-a1,-a2,...,-ap\n",
    "    d=p.roots()         #roots of polynomial in an array\n",
    "    for root in d:\n",
    "        if (abs(root) <= 1):  #Is root within unit circle?\n",
    "            return \"Time series is not Stationary!\"\n",
    "    #convergence to a0/(1-sum(a1,...,ap))\n",
    "    return (\"Time Series is Stationary and converges to \"+str(round(coef[0]/(1-sum(coef[1:])) ,4))) "
   ]
  },
  {
   "cell_type": "code",
   "execution_count": 35,
   "metadata": {},
   "outputs": [
    {
     "data": {
      "text/plain": [
       "'Time series is not Stationary!'"
      ]
     },
     "execution_count": 35,
     "metadata": {},
     "output_type": "execute_result"
    }
   ],
   "source": [
    "#a\n",
    "coef=[0.5, -1]\n",
    "IsStatinary(coef)"
   ]
  },
  {
   "cell_type": "code",
   "execution_count": 36,
   "metadata": {},
   "outputs": [
    {
     "data": {
      "text/plain": [
       "'Time Series is Stationary and converges to 0.2'"
      ]
     },
     "execution_count": 36,
     "metadata": {},
     "output_type": "execute_result"
    }
   ],
   "source": [
    "#b\n",
    "coef=[0.5, -1 ,-0.5]\n",
    "IsStatinary(coef)"
   ]
  },
  {
   "cell_type": "code",
   "execution_count": 37,
   "metadata": {},
   "outputs": [
    {
     "data": {
      "text/plain": [
       "'Time series is not Stationary!'"
      ]
     },
     "execution_count": 37,
     "metadata": {},
     "output_type": "execute_result"
    }
   ],
   "source": [
    "#c\n",
    "coef=[0.5, -1 ,0.5]\n",
    "IsStatinary(coef)"
   ]
  },
  {
   "cell_type": "code",
   "execution_count": 38,
   "metadata": {},
   "outputs": [
    {
     "data": {
      "text/plain": [
       "'Time series is not Stationary!'"
      ]
     },
     "execution_count": 38,
     "metadata": {},
     "output_type": "execute_result"
    }
   ],
   "source": [
    "#d\n",
    "coef=[ .5, 0 , 1]\n",
    "IsStatinary(coef)"
   ]
  },
  {
   "cell_type": "code",
   "execution_count": 39,
   "metadata": {},
   "outputs": [
    {
     "data": {
      "text/plain": [
       "'Time Series is Stationary and converges to 1.6667'"
      ]
     },
     "execution_count": 39,
     "metadata": {},
     "output_type": "execute_result"
    }
   ],
   "source": [
    "#e\n",
    "coef=[ .5, 1.5 , -.8]\n",
    "IsStatinary(coef)"
   ]
  },
  {
   "cell_type": "code",
   "execution_count": 40,
   "metadata": {},
   "outputs": [
    {
     "data": {
      "text/plain": [
       "'Time series is not Stationary!'"
      ]
     },
     "execution_count": 40,
     "metadata": {},
     "output_type": "execute_result"
    }
   ],
   "source": [
    "#f\n",
    "coef=[.5, 1.5 , .8]\n",
    "IsStatinary(coef)"
   ]
  },
  {
   "cell_type": "code",
   "execution_count": 41,
   "metadata": {},
   "outputs": [
    {
     "data": {
      "text/plain": [
       "'Time Series is Stationary and converges to 1.0'"
      ]
     },
     "execution_count": 41,
     "metadata": {},
     "output_type": "execute_result"
    }
   ],
   "source": [
    "#g\n",
    "coef=[.5, -.5 , .5 , .5]\n",
    "IsStatinary(coef)"
   ]
  },
  {
   "cell_type": "code",
   "execution_count": 42,
   "metadata": {},
   "outputs": [
    {
     "data": {
      "text/plain": [
       "'Time series is not Stationary!'"
      ]
     },
     "execution_count": 42,
     "metadata": {},
     "output_type": "execute_result"
    }
   ],
   "source": [
    "#h\n",
    "coef=[.5 , -.5 , .5, -.5]\n",
    "IsStatinary(coef)"
   ]
  },
  {
   "cell_type": "code",
   "execution_count": 43,
   "metadata": {},
   "outputs": [
    {
     "data": {
      "text/plain": [
       "'Time Series is Stationary and converges to 0.3333'"
      ]
     },
     "execution_count": 43,
     "metadata": {},
     "output_type": "execute_result"
    }
   ],
   "source": [
    "#i\n",
    "coef=[.5 , -1 , 0 , .5]\n",
    "IsStatinary(coef)"
   ]
  },
  {
   "cell_type": "code",
   "execution_count": 44,
   "metadata": {},
   "outputs": [
    {
     "data": {
      "text/plain": [
       "'Time Series is Stationary and converges to 2.5'"
      ]
     },
     "execution_count": 44,
     "metadata": {},
     "output_type": "execute_result"
    }
   ],
   "source": [
    "#j\n",
    "coef=[ .5 , 1 , -1 , .8 ]\n",
    "IsStatinary(coef)"
   ]
  },
  {
   "cell_type": "markdown",
   "metadata": {},
   "source": [
    "##  <font color='blue' size=4> Number 2 </font>"
   ]
  },
  {
   "cell_type": "markdown",
   "metadata": {},
   "source": [
    "Based on equation of AR(1), contribution of each lag to its succesor is with coefficient of a1,so contribution of 5 lags ago would be (.2)^5 = .00032. "
   ]
  },
  {
   "cell_type": "markdown",
   "metadata": {},
   "source": [
    "##  <font color='blue' size=4> Number 3 </font>"
   ]
  },
  {
   "cell_type": "code",
   "execution_count": 57,
   "metadata": {},
   "outputs": [
    {
     "name": "stdout",
     "output_type": "stream",
     "text": [
      "psi[0] =1\n",
      "psi[1] =0.8\n",
      "psi[2] =0.24\n",
      "psi[3] =0.172\n",
      "psi[4] =0.282\n",
      "psi[5] =0.229\n",
      "psi[6] =0.122\n",
      "psi[7] =0.091\n",
      "psi[8] =0.093\n",
      "psi[9] =0.075\n",
      "psi[10] =0.05\n",
      "psi[11] =0.038\n",
      "psi[12] =0.033\n"
     ]
    }
   ],
   "source": [
    "#defining coefficients\n",
    "a=[.3, .8 , -.4 , .3]\n",
    "\n",
    "#defining psi list and initialization\n",
    "psi=[1, .8]\n",
    "psi.append(round(a[1]*psi[1] + a[2] * psi[0] ,3))\n",
    "for i in range(3,13):\n",
    "    psi.append(round(a[1]*psi[i-1] + a[2] * psi[i-2] + a[3] * psi[i-3] ,3))\n",
    "    \n",
    "\n",
    "#printing psi values\n",
    "for i in range(0,13):\n",
    "    print(\"psi[\"+ str(i) + \"] =\" + str(psi[i]))"
   ]
  },
  {
   "cell_type": "code",
   "execution_count": 58,
   "metadata": {},
   "outputs": [
    {
     "data": {
      "text/plain": [
       "[<matplotlib.lines.Line2D at 0x111a1c630>]"
      ]
     },
     "execution_count": 58,
     "metadata": {},
     "output_type": "execute_result"
    },
    {
     "data": {
      "image/png": "[encoded data removed]",
      "text/plain": [
       "<Figure size 432x288 with 1 Axes>"
      ]
     },
     "metadata": {
      "needs_background": "light"
     },
     "output_type": "display_data"
    }
   ],
   "source": [
    "#plotting psi\n",
    "pyplot.plot(psi)"
   ]
  },
  {
   "cell_type": "markdown",
   "metadata": {},
   "source": [
    "We can see that there is a spike for psi3 due to AR(3) form of time series. "
   ]
  }
 ],
 "metadata": {
  "kernelspec": {
   "display_name": "Python 3",
   "language": "python",
   "name": "python3"
  },
  "language_info": {
   "codemirror_mode": {
    "name": "ipython",
    "version": 3
   },
   "file_extension": ".py",
   "mimetype": "text/x-python",
   "name": "python",
   "nbconvert_exporter": "python",
   "pygments_lexer": "ipython3",
   "version": "3.7.0"
  }
 },
 "nbformat": 4,
 "nbformat_minor": 2
}
