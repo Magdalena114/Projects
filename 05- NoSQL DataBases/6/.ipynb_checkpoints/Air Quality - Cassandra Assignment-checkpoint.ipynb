{
 "cells": [
  {
   "cell_type": "markdown",
   "metadata": {},
   "source": [
    "###  <font color='green' size=5> HW #6: Air Quality - Cassandra  </font> \n",
    "\n",
    "**NoSQL** <br>\n",
    "**ANLT 243** <br>\n",
    "**September 22, 2018** <br>\n",
    "<br>\n",
    "\n",
    "<font color='green' size=4> By: Ali Taheri</font>"
   ]
  },
  {
   "cell_type": "markdown",
   "metadata": {},
   "source": [
    "At first, we prepare environment for access to database:"
   ]
  },
  {
   "cell_type": "code",
   "execution_count": 176,
   "metadata": {},
   "outputs": [],
   "source": [
    "from cassandra.cluster import Cluster\n",
    "import json\n",
    "\n",
    "host = 'ec2-54-67-15-68.us-west-1.compute.amazonaws.com'\n",
    "port = 9220\n",
    "\n",
    "cluster = Cluster([host], port = port)\n",
    "\n",
    "session = cluster.connect()\n",
    "\n",
    "session.set_keyspace('nosql')"
   ]
  },
  {
   "cell_type": "markdown",
   "metadata": {},
   "source": [
    "##  <font color='blue' size=4> 1. How many total records are there in this air_quality table ?  </font>"
   ]
  },
  {
   "cell_type": "code",
   "execution_count": 177,
   "metadata": {},
   "outputs": [
    {
     "name": "stdout",
     "output_type": "stream",
     "text": [
      "Number of records in table of air quality is: 218635\n"
     ]
    }
   ],
   "source": [
    "rows = session.execute('Select count(measureid) from air_quality')\n",
    "\n",
    "for row in rows:\n",
    "    print('Number of records in table of air quality is:', row.system_count_measureid)"
   ]
  },
  {
   "cell_type": "markdown",
   "metadata": {},
   "source": [
    "##  <font color='blue' size=4> 2. What was the air quality metric value for MeasureId 83 in the Sandoval county in the state of New Mexico in 2013 ?  </font>\n",
    "\n"
   ]
  },
  {
   "cell_type": "code",
   "execution_count": 178,
   "metadata": {},
   "outputs": [
    {
     "name": "stdout",
     "output_type": "stream",
     "text": [
      " The air quality metric value for MeasureId 83 in the Sandoval county in the state of New Mexico in 2013 is: 0\n"
     ]
    }
   ],
   "source": [
    "county_stmt = session.prepare(\"Select * from air_quality where measureid=? and countyname=? and statename=? and reportyear=?\")\n",
    "rows = session.execute(county_stmt, [83, 'Sandoval','New Mexico',2013])\n",
    "\n",
    "for row in rows:\n",
    "    print(' The air quality metric value for MeasureId 83 in the Sandoval county in the state of New Mexico in 2013 is:', row.value)\n"
   ]
  },
  {
   "cell_type": "markdown",
   "metadata": {},
   "source": [
    "##  <font color='blue' size=4> 3.Which state and county have the highest recorded air quality value of MeasureId 87 in any year ?  </font>\n"
   ]
  },
  {
   "cell_type": "code",
   "execution_count": 172,
   "metadata": {},
   "outputs": [
    {
     "name": "stdout",
     "output_type": "stream",
     "text": [
      "The county with max of 87 measureid is : Clay\n",
      "The state with max of 87 measureid is  : Alabama\n",
      "The year with max of 87 measureid is   : 1999\n",
      "The max of 87 measureid is             : 51\n"
     ]
    }
   ],
   "source": [
    "rows = session.execute('Select max(value) , countyname, statename, reportyear from air_quality where measureid=87')\n",
    "for row in rows:\n",
    "    print('The county with max of 87 measureid is :', row.countyname)\n",
    "    print('The state with max of 87 measureid is  :', row.statename)\n",
    "    print('The year with max of 87 measureid is   :', row.reportyear)\n",
    "    print('The max of 87 measureid is             :', row.system_max_value)"
   ]
  },
  {
   "cell_type": "markdown",
   "metadata": {},
   "source": [
    "At this point, we try to find other maximums with tha same value of above county."
   ]
  },
  {
   "cell_type": "code",
   "execution_count": 181,
   "metadata": {},
   "outputs": [
    {
     "name": "stdout",
     "output_type": "stream",
     "text": [
      "The county with max of 87 measureid is : Fairbanks North Star\n",
      "The state with max of 87 measureid is  : Alaska\n",
      "The year with max of 87 measureid is   : 2004\n",
      "The max of 87 measureid is             : 51\n"
     ]
    }
   ],
   "source": [
    "rows = session.execute('Select  countyname, statename, reportyear, value from air_quality where measureid=87 and value=51 limit 1 ALLOW FILTERING')\n",
    "for row in rows:\n",
    "    print('The county with max of 87 measureid is :', row.countyname)\n",
    "    print('The state with max of 87 measureid is  :', row.statename)\n",
    "    print('The year with max of 87 measureid is   :', row.reportyear)\n",
    "    print('The max of 87 measureid is             :', row.value)"
   ]
  },
  {
   "cell_type": "code",
   "execution_count": 1,
   "metadata": {},
   "outputs": [
    {
     "ename": "NameError",
     "evalue": "name 'session' is not defined",
     "output_type": "error",
     "traceback": [
      "\u001b[0;31m---------------------------------------------------------------------------\u001b[0m",
      "\u001b[0;31mNameError\u001b[0m                                 Traceback (most recent call last)",
      "\u001b[0;32m<ipython-input-1-58498089bcf6>\u001b[0m in \u001b[0;36m<module>\u001b[0;34m()\u001b[0m\n\u001b[0;32m----> 1\u001b[0;31m \u001b[0mows\u001b[0m \u001b[0;34m=\u001b[0m \u001b[0msession\u001b[0m\u001b[0;34m.\u001b[0m\u001b[0mexecute\u001b[0m\u001b[0;34m(\u001b[0m\u001b[0;34m\"Select  countyname, statename, reportyear, value from air_quality where value=51\"\u001b[0m\u001b[0;34m)\u001b[0m\u001b[0;34m\u001b[0m\u001b[0m\n\u001b[0m\u001b[1;32m      2\u001b[0m \u001b[0;32mfor\u001b[0m \u001b[0mrow\u001b[0m \u001b[0;32min\u001b[0m \u001b[0mrows\u001b[0m\u001b[0;34m:\u001b[0m\u001b[0;34m\u001b[0m\u001b[0m\n\u001b[1;32m      3\u001b[0m     \u001b[0mprint\u001b[0m\u001b[0;34m(\u001b[0m\u001b[0;34m'The county with max of 87 measureid is :'\u001b[0m\u001b[0;34m,\u001b[0m \u001b[0mrow\u001b[0m\u001b[0;34m.\u001b[0m\u001b[0mcountyname\u001b[0m\u001b[0;34m)\u001b[0m\u001b[0;34m\u001b[0m\u001b[0m\n\u001b[1;32m      4\u001b[0m     \u001b[0mprint\u001b[0m\u001b[0;34m(\u001b[0m\u001b[0;34m'The state with max of 87 measureid is  :'\u001b[0m\u001b[0;34m,\u001b[0m \u001b[0mrow\u001b[0m\u001b[0;34m.\u001b[0m\u001b[0mstatename\u001b[0m\u001b[0;34m)\u001b[0m\u001b[0;34m\u001b[0m\u001b[0m\n\u001b[1;32m      5\u001b[0m     \u001b[0mprint\u001b[0m\u001b[0;34m(\u001b[0m\u001b[0;34m'The year with max of 87 measureid is   :'\u001b[0m\u001b[0;34m,\u001b[0m \u001b[0mrow\u001b[0m\u001b[0;34m.\u001b[0m\u001b[0mreportyear\u001b[0m\u001b[0;34m)\u001b[0m\u001b[0;34m\u001b[0m\u001b[0m\n",
      "\u001b[0;31mNameError\u001b[0m: name 'session' is not defined"
     ]
    }
   ],
   "source": [
    "rows = session.execute(\"Select  countyname, statename, reportyear, value from air_quality where value=51\")\n",
    "for row in rows:\n",
    "    print('The county with max of 87 measureid is :', row.countyname)\n",
    "    print('The state with max of 87 measureid is  :', row.statename)\n",
    "    print('The year with max of 87 measureid is   :', row.reportyear)\n",
    "    print('The max of 87 measureid is             :', row.value)"
   ]
  },
  {
   "cell_type": "markdown",
   "metadata": {},
   "source": [
    "##  <font color='blue' size=4> 4-Print the average of air quality value and the unit for MeasureId 84, State - Massachusetts, CountyName - Barnstable, for years between 2002 - 2008 ?  </font>"
   ]
  },
  {
   "cell_type": "code",
   "execution_count": 154,
   "metadata": {},
   "outputs": [
    {
     "name": "stdout",
     "output_type": "stream",
     "text": [
      "The average value of air quality value and the unit for MeasureId 84,    State - Massachusetts, CountyName - Barnstable, for years between 2002 - 2008 is : 2607774 No Units\n"
     ]
    }
   ],
   "source": [
    "rows = session.execute(\"Select avg(value) , unitname from air_quality where measureid = 84 and statename = 'Massachusetts' \\\n",
    "                       and countyname ='Barnstable' and reportyear in (2002,2003,2004,2005,2006,2007,2008) \" )                     \n",
    "for row in rows:\n",
    "    print('The average value of air quality value and the unit for MeasureId 84,\\\n",
    "    State - Massachusetts, CountyName - Barnstable, for years between 2002 - 2008 is :', \\\n",
    "          row.system_avg_value , row.unitname)"
   ]
  }
 ],
 "metadata": {
  "kernelspec": {
   "display_name": "Python 3",
   "language": "python",
   "name": "python3"
  },
  "language_info": {
   "codemirror_mode": {
    "name": "ipython",
    "version": 3
   },
   "file_extension": ".py",
   "mimetype": "text/x-python",
   "name": "python",
   "nbconvert_exporter": "python",
   "pygments_lexer": "ipython3",
   "version": "3.6.4"
  }
 },
 "nbformat": 4,
 "nbformat_minor": 2
}
