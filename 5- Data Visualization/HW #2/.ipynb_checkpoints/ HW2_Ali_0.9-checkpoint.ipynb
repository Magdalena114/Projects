{
 "cells": [
  {
   "cell_type": "code",
   "execution_count": 40,
   "metadata": {},
   "outputs": [],
   "source": [
    "# Import necessary packages\n",
    "#\n",
    "import pandas as pd\n",
    "import random\n",
    "import numpy as np\n",
    "import matplotlib.pyplot as plt\n",
    "import datetime as dt\n",
    "import statsmodels.api as sm\n",
    "from matplotlib import style\n",
    "from sklearn.linear_model import LinearRegression\n",
    "from sklearn.preprocessing import LabelEncoder\n",
    "from sklearn.ensemble import RandomForestClassifier\n",
    "style.use('fivethirtyeight')\n",
    "#\n",
    "import seaborn as sns\n",
    "#\n",
    "import sklearn.metrics as skm\n",
    "from sklearn.metrics import confusion_matrix\n",
    "#\n",
    "from pandas import DataFrame, Series\n",
    "from datetime import datetime\n",
    "from matplotlib.colors import ListedColormap\n",
    "from sklearn import datasets\n",
    "from sklearn.cluster import KMeans\n",
    "from scipy.cluster.hierarchy import dendrogram, linkage, leaves_list\n",
    "#\n",
    "# Pandas settings - initially as per lecture notes - modify as needed\n",
    "#\n",
    "pd.set_option('display.notebook_repr_html', True)\n",
    "pd.set_option('display.max_rows', 100)\n",
    "pd.set_option('display.max_columns', None)\n",
    "pd.set_option('display.width', None)\n",
    "#\n",
    "%matplotlib inline  \n",
    "#\n",
    "import warnings\n",
    "warnings.filterwarnings('ignore')\n",
    "\n",
    "from sklearn.cross_validation import train_test_split\n",
    "from sklearn.linear_model import LogisticRegression\n",
    "from sklearn import metrics\n",
    "from sklearn import model_selection\n",
    "from sklearn.model_selection import cross_val_score"
   ]
  },
  {
   "cell_type": "code",
   "execution_count": 41,
   "metadata": {
    "collapsed": true
   },
   "outputs": [],
   "source": [
    "# Import raw data from .csv files\n",
    "#\n",
    "# Skip the first line of each file as it contains unnecessary text instead of the column/attribute names\n",
    "# Otherwise, this first line would prevent the data to be parsed into pandas data frame properly\n",
    "#\n",
    "# Data 2012 to 2015\n",
    "##d01 = DataFrame(pd.read_csv('LoanStats3a.csv', skiprows=1, low_memory=False))\n",
    "d02 = DataFrame(pd.read_csv('LoanStats3b.csv', skiprows=1, low_memory=False))\n",
    "d03 = DataFrame(pd.read_csv('LoanStats3c.csv', skiprows=1, low_memory=False))\n",
    "d04 = DataFrame(pd.read_csv('LoanStats3d.csv', skiprows=1, low_memory=False))\n",
    "# Data 2016 \n",
    "d05 = DataFrame(pd.read_csv('LoanStats_2016Q1.csv', skiprows=1, low_memory=False))\n",
    "d06 = DataFrame(pd.read_csv('LoanStats_2016Q2.csv', skiprows=1, low_memory=False))\n",
    "d07 = DataFrame(pd.read_csv('LoanStats_2016Q3.csv', skiprows=1, low_memory=False))\n",
    "d08 = DataFrame(pd.read_csv('LoanStats_2016Q4.csv', skiprows=1, low_memory=False))\n",
    "# Data 2017\n",
    "d09 = DataFrame(pd.read_csv('LoanStats_2017Q1.csv', skiprows=1, low_memory=False))\n",
    "d10 = DataFrame(pd.read_csv('LoanStats_2017Q2.csv', skiprows=1, low_memory=False))\n",
    "d11 = DataFrame(pd.read_csv('LoanStats_2017Q3.csv', skiprows=1, low_memory=False))"
   ]
  },
  {
   "cell_type": "code",
   "execution_count": 42,
   "metadata": {
    "collapsed": true
   },
   "outputs": [],
   "source": [
    "# Combine individual data frames into a single data frame\n",
    "#\n",
    "loans_raw = pd.concat([d02, d03, d04, d05, d06, d07, d08, d09, d10])\n",
    "loans_raw['year'] = pd.to_datetime(loans_raw['issue_d']).dt.year\n",
    "loans_raw['month'] = pd.to_datetime(loans_raw['issue_d']).dt.month"
   ]
  },
  {
   "cell_type": "code",
   "execution_count": 43,
   "metadata": {
    "collapsed": true
   },
   "outputs": [],
   "source": [
    "#Selection of important attributes and combination of joint and individual loans\n",
    "loans = loans_raw[['id', 'application_type', 'year', 'month','addr_state','annual_inc','annual_inc_joint', 'dti', \n",
    "                   'dti_joint','home_ownership','grade','loan_amnt','int_rate','loan_status']]\n",
    "\n",
    "loans['annual_inc']=np.where(loans['application_type'] == 'Joint App' , loans['annual_inc_joint'] ,loans['annual_inc'])\n",
    "loans['dti']=np.where(loans['application_type'] == 'Joint App', loans['dti_joint'],loans['dti'])\n",
    "loans.drop(['annual_inc_joint','dti_joint'], axis=1,inplace= True)"
   ]
  },
  {
   "cell_type": "code",
   "execution_count": 44,
   "metadata": {},
   "outputs": [
    {
     "data": {
      "text/plain": [
       "(1481560, 12)"
      ]
     },
     "execution_count": 44,
     "metadata": {},
     "output_type": "execute_result"
    }
   ],
   "source": [
    "# Number of Rows and Columns\n",
    "loans.shape"
   ]
  },
  {
   "cell_type": "code",
   "execution_count": 45,
   "metadata": {
    "scrolled": true
   },
   "outputs": [
    {
     "data": {
      "text/plain": [
       "Individual    1461022\n",
       "Joint App       20520\n",
       "Name: application_type, dtype: int64"
      ]
     },
     "execution_count": 45,
     "metadata": {},
     "output_type": "execute_result"
    }
   ],
   "source": [
    "#Different types of loans\n",
    "loans['application_type'].value_counts()"
   ]
  },
  {
   "cell_type": "code",
   "execution_count": 46,
   "metadata": {},
   "outputs": [
    {
     "data": {
      "text/plain": [
       "Current               645906\n",
       "Fully Paid            630305\n",
       "Charged Off           169284\n",
       "Late (31-120 days)     20729\n",
       "In Grace Period        10404\n",
       "Late (16-30 days)       4795\n",
       "Default                  119\n",
       "Name: loan_status, dtype: int64"
      ]
     },
     "execution_count": 46,
     "metadata": {},
     "output_type": "execute_result"
    }
   ],
   "source": [
    "#Report of loans statuses\n",
    "loans['loan_status'].value_counts()"
   ]
  },
  {
   "cell_type": "code",
   "execution_count": 47,
   "metadata": {},
   "outputs": [
    {
     "data": {
      "text/plain": [
       "Current               15837\n",
       "Fully Paid             2969\n",
       "Charged Off             842\n",
       "Late (31-120 days)      452\n",
       "In Grace Period         304\n",
       "Late (16-30 days)       116\n",
       "Name: loan_status, dtype: int64"
      ]
     },
     "execution_count": 47,
     "metadata": {},
     "output_type": "execute_result"
    }
   ],
   "source": [
    "#Loan statuses of Joint Apps\n",
    "loans[loans['application_type']== 'Joint App']['loan_status'].value_counts()"
   ]
  },
  {
   "cell_type": "code",
   "execution_count": 48,
   "metadata": {},
   "outputs": [
    {
     "data": {
      "text/plain": [
       "Current               630069\n",
       "Fully Paid            627336\n",
       "Charged Off           168442\n",
       "Late (31-120 days)     20277\n",
       "In Grace Period        10100\n",
       "Late (16-30 days)       4679\n",
       "Default                  119\n",
       "Name: loan_status, dtype: int64"
      ]
     },
     "execution_count": 48,
     "metadata": {},
     "output_type": "execute_result"
    }
   ],
   "source": [
    "#Loan statuses of individuals\n",
    "loans[loans['application_type']== 'Individual']['loan_status'].value_counts()\n"
   ]
  },
  {
   "cell_type": "markdown",
   "metadata": {},
   "source": [
    "It seems Joint loans are very rare, so we will focus on individual loans for simplicity."
   ]
  },
  {
   "cell_type": "code",
   "execution_count": 49,
   "metadata": {
    "collapsed": true
   },
   "outputs": [],
   "source": [
    "# Change objects to float type\n",
    "#\n",
    "loans['int_rate'] = loans['int_rate'].astype('str').str.rstrip('%').astype('float')\n",
    "loans['annual_inc'] = loans['annual_inc'].astype('float')\n",
    "loans['loan_amnt'] = loans['loan_amnt'].astype('float')\n",
    "loans['dti'] = loans['dti'].astype('float')\n"
   ]
  },
  {
   "cell_type": "markdown",
   "metadata": {},
   "source": [
    "We changed all above values from string to float for further calculations."
   ]
  },
  {
   "cell_type": "code",
   "execution_count": 50,
   "metadata": {
    "collapsed": true
   },
   "outputs": [],
   "source": [
    "# Convert categorical data to numerical\n",
    "# \n",
    "# Grade\n",
    "number = LabelEncoder()\n",
    "loans['number_grade'] = number.fit_transform(loans['grade'].astype('str'))\n",
    "\n",
    "# Home ownership\n",
    "#\n",
    "loans['number_home_ownership'] = number.fit_transform(loans['home_ownership'].astype('str'))\n",
    "\n",
    "#loan_status\n",
    "loans['number_loan_status'] = np.where((loans['loan_status'] == 'Charged Off') | (loans['loan_status'] == 'Default'), 1 ,0)\n"
   ]
  },
  {
   "cell_type": "code",
   "execution_count": 51,
   "metadata": {},
   "outputs": [
    {
     "data": {
      "text/plain": [
       "0    1312157\n",
       "1     169403\n",
       "Name: number_loan_status, dtype: int64"
      ]
     },
     "execution_count": 51,
     "metadata": {},
     "output_type": "execute_result"
    }
   ],
   "source": [
    "#Number of charged off and non-Charged off loans\n",
    "\n",
    "loans['number_loan_status'].value_counts()"
   ]
  },
  {
   "cell_type": "code",
   "execution_count": 52,
   "metadata": {},
   "outputs": [
    {
     "data": {
      "text/html": [
       "<div>\n",
       "<style>\n",
       "    .dataframe thead tr:only-child th {\n",
       "        text-align: right;\n",
       "    }\n",
       "\n",
       "    .dataframe thead th {\n",
       "        text-align: left;\n",
       "    }\n",
       "\n",
       "    .dataframe tbody tr th {\n",
       "        vertical-align: top;\n",
       "    }\n",
       "</style>\n",
       "<table border=\"1\" class=\"dataframe\">\n",
       "  <thead>\n",
       "    <tr style=\"text-align: right;\">\n",
       "      <th></th>\n",
       "      <th>id</th>\n",
       "      <th>application_type</th>\n",
       "      <th>year</th>\n",
       "      <th>month</th>\n",
       "      <th>addr_state</th>\n",
       "      <th>annual_inc</th>\n",
       "      <th>dti</th>\n",
       "      <th>home_ownership</th>\n",
       "      <th>grade</th>\n",
       "      <th>loan_amnt</th>\n",
       "      <th>int_rate</th>\n",
       "      <th>loan_status</th>\n",
       "      <th>number_grade</th>\n",
       "      <th>number_home_ownership</th>\n",
       "      <th>number_loan_status</th>\n",
       "    </tr>\n",
       "  </thead>\n",
       "  <tbody>\n",
       "    <tr>\n",
       "      <th>0</th>\n",
       "      <td>0</td>\n",
       "      <td>Individual</td>\n",
       "      <td>2013.0</td>\n",
       "      <td>12.0</td>\n",
       "      <td>NM</td>\n",
       "      <td>40000.0</td>\n",
       "      <td>16.94</td>\n",
       "      <td>RENT</td>\n",
       "      <td>B</td>\n",
       "      <td>12000.0</td>\n",
       "      <td>13.53</td>\n",
       "      <td>Fully Paid</td>\n",
       "      <td>1</td>\n",
       "      <td>5</td>\n",
       "      <td>0</td>\n",
       "    </tr>\n",
       "    <tr>\n",
       "      <th>1</th>\n",
       "      <td>1</td>\n",
       "      <td>Individual</td>\n",
       "      <td>2013.0</td>\n",
       "      <td>12.0</td>\n",
       "      <td>NC</td>\n",
       "      <td>88000.0</td>\n",
       "      <td>10.02</td>\n",
       "      <td>RENT</td>\n",
       "      <td>B</td>\n",
       "      <td>14000.0</td>\n",
       "      <td>12.85</td>\n",
       "      <td>Fully Paid</td>\n",
       "      <td>1</td>\n",
       "      <td>5</td>\n",
       "      <td>0</td>\n",
       "    </tr>\n",
       "    <tr>\n",
       "      <th>2</th>\n",
       "      <td>2</td>\n",
       "      <td>Individual</td>\n",
       "      <td>2013.0</td>\n",
       "      <td>12.0</td>\n",
       "      <td>FL</td>\n",
       "      <td>63000.0</td>\n",
       "      <td>16.51</td>\n",
       "      <td>MORTGAGE</td>\n",
       "      <td>A</td>\n",
       "      <td>15000.0</td>\n",
       "      <td>8.90</td>\n",
       "      <td>Fully Paid</td>\n",
       "      <td>0</td>\n",
       "      <td>1</td>\n",
       "      <td>0</td>\n",
       "    </tr>\n",
       "    <tr>\n",
       "      <th>3</th>\n",
       "      <td>3</td>\n",
       "      <td>Individual</td>\n",
       "      <td>2013.0</td>\n",
       "      <td>12.0</td>\n",
       "      <td>MI</td>\n",
       "      <td>100000.0</td>\n",
       "      <td>22.18</td>\n",
       "      <td>MORTGAGE</td>\n",
       "      <td>B</td>\n",
       "      <td>24000.0</td>\n",
       "      <td>13.53</td>\n",
       "      <td>Fully Paid</td>\n",
       "      <td>1</td>\n",
       "      <td>1</td>\n",
       "      <td>0</td>\n",
       "    </tr>\n",
       "    <tr>\n",
       "      <th>4</th>\n",
       "      <td>4</td>\n",
       "      <td>Individual</td>\n",
       "      <td>2013.0</td>\n",
       "      <td>12.0</td>\n",
       "      <td>CA</td>\n",
       "      <td>325000.0</td>\n",
       "      <td>18.55</td>\n",
       "      <td>MORTGAGE</td>\n",
       "      <td>A</td>\n",
       "      <td>28000.0</td>\n",
       "      <td>7.62</td>\n",
       "      <td>Fully Paid</td>\n",
       "      <td>0</td>\n",
       "      <td>1</td>\n",
       "      <td>0</td>\n",
       "    </tr>\n",
       "  </tbody>\n",
       "</table>\n",
       "</div>"
      ],
      "text/plain": [
       "   id application_type    year  month addr_state  annual_inc    dti  \\\n",
       "0   0       Individual  2013.0   12.0         NM     40000.0  16.94   \n",
       "1   1       Individual  2013.0   12.0         NC     88000.0  10.02   \n",
       "2   2       Individual  2013.0   12.0         FL     63000.0  16.51   \n",
       "3   3       Individual  2013.0   12.0         MI    100000.0  22.18   \n",
       "4   4       Individual  2013.0   12.0         CA    325000.0  18.55   \n",
       "\n",
       "  home_ownership grade  loan_amnt  int_rate loan_status  number_grade  \\\n",
       "0           RENT     B    12000.0     13.53  Fully Paid             1   \n",
       "1           RENT     B    14000.0     12.85  Fully Paid             1   \n",
       "2       MORTGAGE     A    15000.0      8.90  Fully Paid             0   \n",
       "3       MORTGAGE     B    24000.0     13.53  Fully Paid             1   \n",
       "4       MORTGAGE     A    28000.0      7.62  Fully Paid             0   \n",
       "\n",
       "   number_home_ownership  number_loan_status  \n",
       "0                      5                   0  \n",
       "1                      5                   0  \n",
       "2                      1                   0  \n",
       "3                      1                   0  \n",
       "4                      1                   0  "
      ]
     },
     "execution_count": 52,
     "metadata": {},
     "output_type": "execute_result"
    }
   ],
   "source": [
    "#Extracting Individual loans\n",
    "\n",
    "loans_ind=loans[loans['application_type'] == 'Individual']\n",
    "loans_ind['id'] = range(0,len(loans_ind.index))\n",
    "\n",
    "\n",
    "loans_ind.head()"
   ]
  },
  {
   "cell_type": "code",
   "execution_count": 53,
   "metadata": {},
   "outputs": [
    {
     "data": {
      "text/html": [
       "<div>\n",
       "<style>\n",
       "    .dataframe thead tr:only-child th {\n",
       "        text-align: right;\n",
       "    }\n",
       "\n",
       "    .dataframe thead th {\n",
       "        text-align: left;\n",
       "    }\n",
       "\n",
       "    .dataframe tbody tr th {\n",
       "        vertical-align: top;\n",
       "    }\n",
       "</style>\n",
       "<table border=\"1\" class=\"dataframe\">\n",
       "  <thead>\n",
       "    <tr style=\"text-align: right;\">\n",
       "      <th></th>\n",
       "      <th>id</th>\n",
       "      <th>application_type</th>\n",
       "      <th>year</th>\n",
       "      <th>month</th>\n",
       "      <th>addr_state</th>\n",
       "      <th>annual_inc</th>\n",
       "      <th>dti</th>\n",
       "      <th>home_ownership</th>\n",
       "      <th>grade</th>\n",
       "      <th>loan_amnt</th>\n",
       "      <th>int_rate</th>\n",
       "      <th>loan_status</th>\n",
       "      <th>number_grade</th>\n",
       "      <th>number_home_ownership</th>\n",
       "      <th>number_loan_status</th>\n",
       "    </tr>\n",
       "  </thead>\n",
       "  <tbody>\n",
       "    <tr>\n",
       "      <th>31</th>\n",
       "      <td>0</td>\n",
       "      <td>Joint App</td>\n",
       "      <td>2015.0</td>\n",
       "      <td>12.0</td>\n",
       "      <td>IL</td>\n",
       "      <td>71000.00</td>\n",
       "      <td>13.85</td>\n",
       "      <td>MORTGAGE</td>\n",
       "      <td>B</td>\n",
       "      <td>20000.0</td>\n",
       "      <td>10.78</td>\n",
       "      <td>Fully Paid</td>\n",
       "      <td>1</td>\n",
       "      <td>1</td>\n",
       "      <td>0</td>\n",
       "    </tr>\n",
       "    <tr>\n",
       "      <th>134</th>\n",
       "      <td>1</td>\n",
       "      <td>Joint App</td>\n",
       "      <td>2015.0</td>\n",
       "      <td>12.0</td>\n",
       "      <td>MT</td>\n",
       "      <td>100000.00</td>\n",
       "      <td>16.40</td>\n",
       "      <td>MORTGAGE</td>\n",
       "      <td>C</td>\n",
       "      <td>20000.0</td>\n",
       "      <td>13.44</td>\n",
       "      <td>Current</td>\n",
       "      <td>2</td>\n",
       "      <td>1</td>\n",
       "      <td>0</td>\n",
       "    </tr>\n",
       "    <tr>\n",
       "      <th>359</th>\n",
       "      <td>2</td>\n",
       "      <td>Joint App</td>\n",
       "      <td>2015.0</td>\n",
       "      <td>12.0</td>\n",
       "      <td>CA</td>\n",
       "      <td>77000.00</td>\n",
       "      <td>15.40</td>\n",
       "      <td>MORTGAGE</td>\n",
       "      <td>C</td>\n",
       "      <td>15000.0</td>\n",
       "      <td>11.99</td>\n",
       "      <td>Fully Paid</td>\n",
       "      <td>2</td>\n",
       "      <td>1</td>\n",
       "      <td>0</td>\n",
       "    </tr>\n",
       "    <tr>\n",
       "      <th>491</th>\n",
       "      <td>3</td>\n",
       "      <td>Joint App</td>\n",
       "      <td>2015.0</td>\n",
       "      <td>12.0</td>\n",
       "      <td>CA</td>\n",
       "      <td>61366.44</td>\n",
       "      <td>19.22</td>\n",
       "      <td>MORTGAGE</td>\n",
       "      <td>C</td>\n",
       "      <td>15000.0</td>\n",
       "      <td>14.85</td>\n",
       "      <td>Current</td>\n",
       "      <td>2</td>\n",
       "      <td>1</td>\n",
       "      <td>0</td>\n",
       "    </tr>\n",
       "    <tr>\n",
       "      <th>608</th>\n",
       "      <td>4</td>\n",
       "      <td>Joint App</td>\n",
       "      <td>2015.0</td>\n",
       "      <td>12.0</td>\n",
       "      <td>TX</td>\n",
       "      <td>113314.00</td>\n",
       "      <td>25.44</td>\n",
       "      <td>MORTGAGE</td>\n",
       "      <td>F</td>\n",
       "      <td>24000.0</td>\n",
       "      <td>23.13</td>\n",
       "      <td>Fully Paid</td>\n",
       "      <td>5</td>\n",
       "      <td>1</td>\n",
       "      <td>0</td>\n",
       "    </tr>\n",
       "  </tbody>\n",
       "</table>\n",
       "</div>"
      ],
      "text/plain": [
       "     id application_type    year  month addr_state  annual_inc    dti  \\\n",
       "31    0        Joint App  2015.0   12.0         IL    71000.00  13.85   \n",
       "134   1        Joint App  2015.0   12.0         MT   100000.00  16.40   \n",
       "359   2        Joint App  2015.0   12.0         CA    77000.00  15.40   \n",
       "491   3        Joint App  2015.0   12.0         CA    61366.44  19.22   \n",
       "608   4        Joint App  2015.0   12.0         TX   113314.00  25.44   \n",
       "\n",
       "    home_ownership grade  loan_amnt  int_rate loan_status  number_grade  \\\n",
       "31        MORTGAGE     B    20000.0     10.78  Fully Paid             1   \n",
       "134       MORTGAGE     C    20000.0     13.44     Current             2   \n",
       "359       MORTGAGE     C    15000.0     11.99  Fully Paid             2   \n",
       "491       MORTGAGE     C    15000.0     14.85     Current             2   \n",
       "608       MORTGAGE     F    24000.0     23.13  Fully Paid             5   \n",
       "\n",
       "     number_home_ownership  number_loan_status  \n",
       "31                       1                   0  \n",
       "134                      1                   0  \n",
       "359                      1                   0  \n",
       "491                      1                   0  \n",
       "608                      1                   0  "
      ]
     },
     "execution_count": 53,
     "metadata": {},
     "output_type": "execute_result"
    }
   ],
   "source": [
    "#Extracting Joint Loans\n",
    "\n",
    "loans_jnt=loans[loans['application_type'] == 'Joint App']\n",
    "loans_jnt['id'] = range(0,len(loans_jnt.index))\n",
    "\n",
    "loans_jnt.head()"
   ]
  },
  {
   "cell_type": "code",
   "execution_count": 54,
   "metadata": {},
   "outputs": [
    {
     "data": {
      "text/plain": [
       "year\n",
       "2012.0     53367\n",
       "2013.0    134814\n",
       "2014.0    235629\n",
       "2015.0    420584\n",
       "2016.0    425618\n",
       "2017.0    191010\n",
       "Name: id, dtype: int64"
      ]
     },
     "execution_count": 54,
     "metadata": {},
     "output_type": "execute_result"
    }
   ],
   "source": [
    "loans_ind.groupby(loans_ind.year)['id'].count()"
   ]
  },
  {
   "cell_type": "code",
   "execution_count": 55,
   "metadata": {
    "collapsed": true
   },
   "outputs": [],
   "source": [
    "#Predicton of Charge off bt Logestic regression\n",
    "\n",
    "# Training set1: year 2012 - 2014\n",
    "#\n",
    "tr_3yrs = loans_ind[loans_ind['year'].between(2012.0, 2014.0)]\n",
    "\n",
    "# Training set2: year 2015 - 2016\n",
    "#\n",
    "tr_2yrs = loans_ind[loans_ind['year'].between(2015.0, 2016.0)]"
   ]
  },
  {
   "cell_type": "code",
   "execution_count": 56,
   "metadata": {
    "scrolled": true
   },
   "outputs": [
    {
     "data": {
      "text/html": [
       "<div>\n",
       "<style>\n",
       "    .dataframe thead tr:only-child th {\n",
       "        text-align: right;\n",
       "    }\n",
       "\n",
       "    .dataframe thead th {\n",
       "        text-align: left;\n",
       "    }\n",
       "\n",
       "    .dataframe tbody tr th {\n",
       "        vertical-align: top;\n",
       "    }\n",
       "</style>\n",
       "<table border=\"1\" class=\"dataframe\">\n",
       "  <thead>\n",
       "    <tr style=\"text-align: right;\">\n",
       "      <th></th>\n",
       "      <th>id</th>\n",
       "      <th>application_type</th>\n",
       "      <th>year</th>\n",
       "      <th>month</th>\n",
       "      <th>addr_state</th>\n",
       "      <th>annual_inc</th>\n",
       "      <th>dti</th>\n",
       "      <th>home_ownership</th>\n",
       "      <th>grade</th>\n",
       "      <th>loan_amnt</th>\n",
       "      <th>int_rate</th>\n",
       "      <th>loan_status</th>\n",
       "      <th>number_grade</th>\n",
       "      <th>number_home_ownership</th>\n",
       "      <th>number_loan_status</th>\n",
       "    </tr>\n",
       "  </thead>\n",
       "  <tbody>\n",
       "    <tr>\n",
       "      <th>0</th>\n",
       "      <td>0</td>\n",
       "      <td>Individual</td>\n",
       "      <td>2013.0</td>\n",
       "      <td>12.0</td>\n",
       "      <td>NM</td>\n",
       "      <td>40000.0</td>\n",
       "      <td>16.94</td>\n",
       "      <td>RENT</td>\n",
       "      <td>B</td>\n",
       "      <td>12000.0</td>\n",
       "      <td>13.53</td>\n",
       "      <td>Fully Paid</td>\n",
       "      <td>1</td>\n",
       "      <td>5</td>\n",
       "      <td>0</td>\n",
       "    </tr>\n",
       "    <tr>\n",
       "      <th>1</th>\n",
       "      <td>1</td>\n",
       "      <td>Individual</td>\n",
       "      <td>2013.0</td>\n",
       "      <td>12.0</td>\n",
       "      <td>NC</td>\n",
       "      <td>88000.0</td>\n",
       "      <td>10.02</td>\n",
       "      <td>RENT</td>\n",
       "      <td>B</td>\n",
       "      <td>14000.0</td>\n",
       "      <td>12.85</td>\n",
       "      <td>Fully Paid</td>\n",
       "      <td>1</td>\n",
       "      <td>5</td>\n",
       "      <td>0</td>\n",
       "    </tr>\n",
       "    <tr>\n",
       "      <th>2</th>\n",
       "      <td>2</td>\n",
       "      <td>Individual</td>\n",
       "      <td>2013.0</td>\n",
       "      <td>12.0</td>\n",
       "      <td>FL</td>\n",
       "      <td>63000.0</td>\n",
       "      <td>16.51</td>\n",
       "      <td>MORTGAGE</td>\n",
       "      <td>A</td>\n",
       "      <td>15000.0</td>\n",
       "      <td>8.90</td>\n",
       "      <td>Fully Paid</td>\n",
       "      <td>0</td>\n",
       "      <td>1</td>\n",
       "      <td>0</td>\n",
       "    </tr>\n",
       "    <tr>\n",
       "      <th>3</th>\n",
       "      <td>3</td>\n",
       "      <td>Individual</td>\n",
       "      <td>2013.0</td>\n",
       "      <td>12.0</td>\n",
       "      <td>MI</td>\n",
       "      <td>100000.0</td>\n",
       "      <td>22.18</td>\n",
       "      <td>MORTGAGE</td>\n",
       "      <td>B</td>\n",
       "      <td>24000.0</td>\n",
       "      <td>13.53</td>\n",
       "      <td>Fully Paid</td>\n",
       "      <td>1</td>\n",
       "      <td>1</td>\n",
       "      <td>0</td>\n",
       "    </tr>\n",
       "    <tr>\n",
       "      <th>4</th>\n",
       "      <td>4</td>\n",
       "      <td>Individual</td>\n",
       "      <td>2013.0</td>\n",
       "      <td>12.0</td>\n",
       "      <td>CA</td>\n",
       "      <td>325000.0</td>\n",
       "      <td>18.55</td>\n",
       "      <td>MORTGAGE</td>\n",
       "      <td>A</td>\n",
       "      <td>28000.0</td>\n",
       "      <td>7.62</td>\n",
       "      <td>Fully Paid</td>\n",
       "      <td>0</td>\n",
       "      <td>1</td>\n",
       "      <td>0</td>\n",
       "    </tr>\n",
       "  </tbody>\n",
       "</table>\n",
       "</div>"
      ],
      "text/plain": [
       "   id application_type    year  month addr_state  annual_inc    dti  \\\n",
       "0   0       Individual  2013.0   12.0         NM     40000.0  16.94   \n",
       "1   1       Individual  2013.0   12.0         NC     88000.0  10.02   \n",
       "2   2       Individual  2013.0   12.0         FL     63000.0  16.51   \n",
       "3   3       Individual  2013.0   12.0         MI    100000.0  22.18   \n",
       "4   4       Individual  2013.0   12.0         CA    325000.0  18.55   \n",
       "\n",
       "  home_ownership grade  loan_amnt  int_rate loan_status  number_grade  \\\n",
       "0           RENT     B    12000.0     13.53  Fully Paid             1   \n",
       "1           RENT     B    14000.0     12.85  Fully Paid             1   \n",
       "2       MORTGAGE     A    15000.0      8.90  Fully Paid             0   \n",
       "3       MORTGAGE     B    24000.0     13.53  Fully Paid             1   \n",
       "4       MORTGAGE     A    28000.0      7.62  Fully Paid             0   \n",
       "\n",
       "   number_home_ownership  number_loan_status  \n",
       "0                      5                   0  \n",
       "1                      5                   0  \n",
       "2                      1                   0  \n",
       "3                      1                   0  \n",
       "4                      1                   0  "
      ]
     },
     "execution_count": 56,
     "metadata": {},
     "output_type": "execute_result"
    }
   ],
   "source": [
    "tr_3yrs.head()"
   ]
  },
  {
   "cell_type": "markdown",
   "metadata": {},
   "source": [
    "One important issue about working with big data (data with high volumes)is selection of a suitable set of data as training for machine learning algorithms. Selection a representative part of data for feeding algorithms is suprer important. \n",
    "For this project, we selected two different subsets of data as training sets. One of them was all loans from 2012 until 2014 as first training set with name of tr_3yrs. Second set is all loans of 2015 and 2016 with name of tr_2yrs.\n",
    "\n",
    "We applied method of logistic regression to both training sets and made two models for evaluation on data of 2017 about loand that would be defaulted. As we know, status of US economy at these years did not have any important change, so results of evaluation by these two models would be approximately the same. We would try to validate our claim by evaluation of both models."
   ]
  },
  {
   "cell_type": "code",
   "execution_count": 57,
   "metadata": {},
   "outputs": [
    {
     "data": {
      "text/plain": [
       "0.8398952360727685"
      ]
     },
     "execution_count": 57,
     "metadata": {},
     "output_type": "execute_result"
    }
   ],
   "source": [
    "# Training set1 independent variables (x)\n",
    "#\n",
    "train_x_3yrs = tr_3yrs[[ 'annual_inc',  'dti', 'number_home_ownership','loan_amnt','int_rate','number_grade']]\n",
    "\n",
    "\n",
    "# Training set1 dependent variables (x)\n",
    "train_y_3yrs = tr_3yrs['number_loan_status']\n",
    "\n",
    "# Model1\n",
    "\n",
    "logistic_regression_model_3yrs = LogisticRegression()\n",
    "logistic_regression_model_3yrs.fit(train_x_3yrs, train_y_3yrs)\n",
    "\n",
    "\n",
    "logistic_regression_model_3yrs.score(train_x_3yrs, train_y_3yrs)"
   ]
  },
  {
   "cell_type": "markdown",
   "metadata": {},
   "source": [
    "We prapared input_vector  and output of 2012 to 2014, then we made our logistic regression model based on that. FInally, we evaluated it's score."
   ]
  },
  {
   "cell_type": "code",
   "execution_count": 58,
   "metadata": {},
   "outputs": [
    {
     "name": "stdout",
     "output_type": "stream",
     "text": [
      "10-fold cross validation average accuracy: 0.840\n"
     ]
    }
   ],
   "source": [
    "kfold = model_selection.KFold(n_splits=10, random_state=7)\n",
    "modelCV = LogisticRegression()\n",
    "scoring = 'accuracy'\n",
    "results = model_selection.cross_val_score(modelCV, train_x_3yrs, train_y_3yrs, cv=kfold, scoring=scoring)\n",
    "print(\"10-fold cross validation average accuracy: %.3f\" % (results.mean()))"
   ]
  },
  {
   "cell_type": "markdown",
   "metadata": {},
   "source": [
    "The average accuracy remains very close to the Logistic Regression model accuracy; therefore we can conclude that our model generalizes well."
   ]
  },
  {
   "cell_type": "code",
   "execution_count": 59,
   "metadata": {},
   "outputs": [
    {
     "data": {
      "text/plain": [
       "0.8855686939997778"
      ]
     },
     "execution_count": 59,
     "metadata": {},
     "output_type": "execute_result"
    }
   ],
   "source": [
    "# Training set2 independent variables (x)\n",
    "#\n",
    "train_x_2yrs = tr_2yrs[[ 'annual_inc',  'dti', 'number_home_ownership','loan_amnt','int_rate','number_grade']]\n",
    "\n",
    "\n",
    "# Training set2 dependent variables (x)\n",
    "train_y_2yrs = tr_2yrs['number_loan_status']\n",
    "\n",
    "# Model2\n",
    "\n",
    "\n",
    "logistic_regression_model_2yrs = LogisticRegression()\n",
    "logistic_regression_model_2yrs.fit(train_x_2yrs, train_y_2yrs)\n",
    "logistic_regression_model_2yrs.score(train_x_2yrs, train_y_2yrs)"
   ]
  },
  {
   "cell_type": "markdown",
   "metadata": {},
   "source": [
    "We prapared input_vector  and output of 2015 and 2016, then we made our logistic regression model based on that. FInally, we evaluated it's score."
   ]
  },
  {
   "cell_type": "code",
   "execution_count": 60,
   "metadata": {
    "collapsed": true
   },
   "outputs": [],
   "source": [
    "# Test data\n",
    "\n",
    "test_ind_2017 = loans_ind[loans_ind['year']== 2017]\n",
    "\n",
    "test_x_ind_2017 = test_ind_2017[['annual_inc',  'dti', 'number_home_ownership','loan_amnt','int_rate','number_grade']]\n",
    "\n",
    "test_y_ind_2017 = test_ind_2017['number_loan_status']\n"
   ]
  },
  {
   "cell_type": "markdown",
   "metadata": {},
   "source": [
    "We prepared input vectors from loans of 2017 and output of loan_status for applying of our models."
   ]
  },
  {
   "cell_type": "code",
   "execution_count": 61,
   "metadata": {},
   "outputs": [
    {
     "data": {
      "text/plain": [
       "0.9797026333699806"
      ]
     },
     "execution_count": 61,
     "metadata": {},
     "output_type": "execute_result"
    }
   ],
   "source": [
    "logistic_regression_model_3yrs.score(test_x_ind_2017, test_y_ind_2017 )"
   ]
  },
  {
   "cell_type": "code",
   "execution_count": 62,
   "metadata": {},
   "outputs": [
    {
     "data": {
      "text/plain": [
       "0.9797131040259672"
      ]
     },
     "execution_count": 62,
     "metadata": {},
     "output_type": "execute_result"
    }
   ],
   "source": [
    "logistic_regression_model_2yrs.score(test_x_ind_2017, test_y_ind_2017 )"
   ]
  },
  {
   "cell_type": "markdown",
   "metadata": {},
   "source": [
    "Above results are scores of applying our logistic regression to testing information of 2017."
   ]
  },
  {
   "cell_type": "code",
   "execution_count": 63,
   "metadata": {},
   "outputs": [
    {
     "name": "stdout",
     "output_type": "stream",
     "text": [
      "[[187133      2]\n",
      " [  3875      0]]\n"
     ]
    }
   ],
   "source": [
    "y_pred_3yrs = logistic_regression_model_3yrs.predict(test_x_ind_2017)\n",
    "confusion_matrix_3yrs = confusion_matrix(test_y_ind_2017, y_pred_3yrs)\n",
    "print(confusion_matrix_3yrs)"
   ]
  },
  {
   "cell_type": "markdown",
   "metadata": {},
   "source": [
    "The result is telling us that we have 187135 correct predictions and 3875+2 incorrect predictions."
   ]
  },
  {
   "cell_type": "code",
   "execution_count": 64,
   "metadata": {
    "scrolled": true
   },
   "outputs": [
    {
     "name": "stdout",
     "output_type": "stream",
     "text": [
      "[[187135      0]\n",
      " [  3875      0]]\n"
     ]
    }
   ],
   "source": [
    "\n",
    "y_pred = logistic_regression_model_2yrs.predict(test_x_ind_2017)\n",
    "confusion_matrix = confusion_matrix(test_y_ind_2017, y_pred)\n",
    "print(confusion_matrix)"
   ]
  },
  {
   "cell_type": "markdown",
   "metadata": {},
   "source": [
    "With comparison of above confusion matrix, we could see that difference is only about 2 loans between two models from about 190,000 loans. It is about 0.001 % that could be ignored easily. <br/>\n",
    "Therefore, our claim was completely valid. <br/>\n",
    "We can select each of them easily for evaluation of further loan applications easily to be aware about chance of defaulting."
   ]
  },
  {
   "cell_type": "code",
   "execution_count": 65,
   "metadata": {},
   "outputs": [
    {
     "data": {
      "text/plain": [
       "(168561, 15)"
      ]
     },
     "execution_count": 65,
     "metadata": {},
     "output_type": "execute_result"
    }
   ],
   "source": [
    "#treemap of default rate of states\n",
    "\n",
    "Charged_of_loans=loans_ind[loans_ind['number_loan_status'] ==1]\n",
    "Charged_of_loans.shape"
   ]
  },
  {
   "cell_type": "code",
   "execution_count": 66,
   "metadata": {
    "collapsed": true
   },
   "outputs": [],
   "source": [
    "#Default Rate of states\n",
    "\n",
    "default_rate=100*(Charged_of_loans.groupby(Charged_of_loans.addr_state)['id'].count())/(loans_ind.groupby(loans_ind.addr_state)['id'].count())"
   ]
  },
  {
   "cell_type": "code",
   "execution_count": 67,
   "metadata": {
    "scrolled": false
   },
   "outputs": [
    {
     "data": {
      "text/plain": [
       "addr_state\n",
       "AK    11.893408\n",
       "AL    14.138577\n",
       "AR    13.597811\n",
       "AZ    11.575242\n",
       "CA    11.897751\n",
       "CO     9.590025\n",
       "CT     9.215859\n",
       "DC     8.261713\n",
       "DE    11.350958\n",
       "FL    12.324990\n",
       "GA    10.309710\n",
       "HI    12.154544\n",
       "IA    50.000000\n",
       "ID     6.393245\n",
       "IL    10.162236\n",
       "IN    11.992477\n",
       "KS     9.286226\n",
       "KY    12.032370\n",
       "LA    13.451317\n",
       "MA    10.835458\n",
       "MD    11.761812\n",
       "ME     4.100041\n",
       "MI    11.527385\n",
       "MN    11.695483\n",
       "MO    12.157765\n",
       "MS    12.015454\n",
       "MT    10.099539\n",
       "NC    12.128929\n",
       "ND     8.145034\n",
       "NE     9.987730\n",
       "NH     7.412587\n",
       "NJ    11.777116\n",
       "NM    13.259739\n",
       "NV    13.956534\n",
       "NY    12.539663\n",
       "OH    12.187538\n",
       "OK    13.516344\n",
       "OR     8.974508\n",
       "PA    11.845288\n",
       "RI    10.517322\n",
       "SC     9.106683\n",
       "SD    12.593094\n",
       "TN    12.053377\n",
       "TX    11.148623\n",
       "UT    11.720093\n",
       "VA    11.892347\n",
       "VT     7.501610\n",
       "WA     9.771296\n",
       "WI     9.455002\n",
       "WV    11.923464\n",
       "WY    10.455259\n",
       "Name: id, dtype: float64"
      ]
     },
     "execution_count": 67,
     "metadata": {},
     "output_type": "execute_result"
    }
   ],
   "source": [
    "default_rate      \n"
   ]
  },
  {
   "cell_type": "markdown",
   "metadata": {},
   "source": [
    "As you could see, we calculated default rate of each state for further calculations."
   ]
  },
  {
   "cell_type": "code",
   "execution_count": 68,
   "metadata": {
    "collapsed": true
   },
   "outputs": [],
   "source": [
    "us_state_abbrev = {\n",
    "'Alabama': 'AL',\n",
    "'Alaska': 'AK',\n",
    "'Arizona': 'AZ',\n",
    "'Arkansas': 'AR',\n",
    "'California': 'CA',\n",
    "'Colorado': 'CO',\n",
    "'Connecticut': 'CT',\n",
    "'Delaware': 'DE',\n",
    "'Florida': 'FL',\n",
    "'Georgia': 'GA',\n",
    "'Hawaii': 'HI',\n",
    "'Idaho': 'ID',\n",
    "'Illinois': 'IL',\n",
    "'Indiana': 'IN',\n",
    "'Iowa': 'IA',\n",
    "'Kansas': 'KS',\n",
    "'Kentucky': 'KY',\n",
    "'Louisiana': 'LA',\n",
    "'Maine': 'ME',\n",
    "'Maryland': 'MD',\n",
    "'Massachusetts': 'MA',\n",
    "'Michigan': 'MI',\n",
    "'Minnesota': 'MN',\n",
    "'Mississippi': 'MS',\n",
    "'Missouri': 'MO',\n",
    "'Montana': 'MT',\n",
    "'Nebraska': 'NE',\n",
    "'Nevada': 'NV',\n",
    "'New Hampshire': 'NH',\n",
    "'New Jersey': 'NJ',\n",
    "'New Mexico': 'NM',\n",
    "'New York': 'NY',\n",
    "'North Carolina': 'NC',\n",
    "'North Dakota': 'ND',\n",
    "'Ohio': 'OH',\n",
    "'Oklahoma': 'OK',\n",
    "'Oregon': 'OR',\n",
    "'Pennsylvania': 'PA',\n",
    "'Rhode Island': 'RI',\n",
    "'South Carolina': 'SC',\n",
    "'South Dakota': 'SD',\n",
    "'Tennessee': 'TN',\n",
    "'Texas': 'TX',\n",
    "'Utah': 'UT',\n",
    "'Vermont': 'VT',\n",
    "'Virginia': 'VA',\n",
    "'Washington': 'WA',\n",
    "'West Virginia': 'WV',\n",
    "'Wisconsin': 'WI',\n",
    "'Wyoming': 'WY',\n",
    "}"
   ]
  },
  {
   "cell_type": "markdown",
   "metadata": {},
   "source": [
    "Above dictionary is for assignment of state's code to each state."
   ]
  },
  {
   "cell_type": "code",
   "execution_count": 69,
   "metadata": {
    "scrolled": false
   },
   "outputs": [
    {
     "data": {
      "text/plain": [
       "{'Alabama': 14.14,\n",
       " 'Alaska': 11.89,\n",
       " 'Arizona': 11.58,\n",
       " 'Arkansas': 13.6,\n",
       " 'California': 11.9,\n",
       " 'Colorado': 9.59,\n",
       " 'Connecticut': 9.22,\n",
       " 'Delaware': 11.35,\n",
       " 'Florida': 12.32,\n",
       " 'Georgia': 10.31,\n",
       " 'Hawaii': 12.15,\n",
       " 'Idaho': 6.39,\n",
       " 'Illinois': 10.16,\n",
       " 'Indiana': 11.99,\n",
       " 'Iowa': 50.0,\n",
       " 'Kansas': 9.29,\n",
       " 'Kentucky': 12.03,\n",
       " 'Louisiana': 13.45,\n",
       " 'Maine': 4.1,\n",
       " 'Maryland': 11.76,\n",
       " 'Massachusetts': 10.84,\n",
       " 'Michigan': 11.53,\n",
       " 'Minnesota': 11.7,\n",
       " 'Mississippi': 12.02,\n",
       " 'Missouri': 12.16,\n",
       " 'Montana': 10.1,\n",
       " 'Nebraska': 9.99,\n",
       " 'Nevada': 13.96,\n",
       " 'New Hampshire': 7.41,\n",
       " 'New Jersey': 11.78,\n",
       " 'New Mexico': 13.26,\n",
       " 'New York': 12.54,\n",
       " 'North Carolina': 12.13,\n",
       " 'North Dakota': 8.15,\n",
       " 'Ohio': 12.19,\n",
       " 'Oklahoma': 13.52,\n",
       " 'Oregon': 8.97,\n",
       " 'Pennsylvania': 11.85,\n",
       " 'Rhode Island': 10.52,\n",
       " 'South Carolina': 9.11,\n",
       " 'South Dakota': 12.59,\n",
       " 'Tennessee': 12.05,\n",
       " 'Texas': 11.15,\n",
       " 'Utah': 11.72,\n",
       " 'Vermont': 7.5,\n",
       " 'Virginia': 11.89,\n",
       " 'Washington': 9.77,\n",
       " 'West Virginia': 11.92,\n",
       " 'Wisconsin': 9.46,\n",
       " 'Wyoming': 10.46}"
      ]
     },
     "execution_count": 69,
     "metadata": {},
     "output_type": "execute_result"
    }
   ],
   "source": [
    "#Preparing a dictionary with key of state and value of default rate\n",
    "state_default_rate={}\n",
    "for state in us_state_abbrev:\n",
    "    state_default_rate[state]=round(default_rate[us_state_abbrev[state]],2)\n",
    "state_default_rate"
   ]
  },
  {
   "cell_type": "markdown",
   "metadata": {},
   "source": [
    "By combination of above serie and dictionary, we made a dictionary that contains default rate of each state."
   ]
  },
  {
   "cell_type": "code",
   "execution_count": 70,
   "metadata": {},
   "outputs": [
    {
     "data": {
      "image/png": "[encoded data removed]",
      "text/plain": [
       "<matplotlib.figure.Figure at 0x1c0f4bf9b0>"
      ]
     },
     "metadata": {},
     "output_type": "display_data"
    }
   ],
   "source": [
    "\n",
    "from mpl_toolkits.basemap import Basemap as Basemap\n",
    "from matplotlib.colors import rgb2hex\n",
    "from matplotlib.patches import Polygon\n",
    "# Lambert Conformal map of lower 48 states.\n",
    "m = Basemap(llcrnrlon=-119,llcrnrlat=22,urcrnrlon=-64,urcrnrlat=49,\n",
    "        projection='lcc',lat_1=33,lat_2=45,lon_0=-95)\n",
    "# draw state boundaries.\n",
    "# data from U.S Census Bureau\n",
    "# http://www.census.gov/geo/www/cob/st2000.html\n",
    "shp_info = m.readshapefile('st99_d00','states',drawbounds=True)\n",
    "\n",
    "# choose a color for each state based on default raفث.\n",
    "colors={}\n",
    "statenames=[]\n",
    "cmap = plt.cm.hot # use 'hot' colormap\n",
    "vmin = 4; vmax = 15 # set range.\n",
    "for shapedict in m.states_info:\n",
    "    statename = shapedict['NAME']\n",
    "    # skip DC and Puerto Rico.\n",
    "    if statename not in ['District of Columbia','Puerto Rico']:\n",
    "        pop = state_default_rate[statename]\n",
    "        # calling colormap with value between 0 and 1 returns\n",
    "        # rgba value.  Invert color range (hot colors are high\n",
    "        # population), take sqrt root to spread out colors more.\n",
    "        colors[statename] = cmap(1.-np.sqrt((pop-vmin)/(vmax-vmin)))[:3]\n",
    "    statenames.append(statename)\n",
    "# cycle through state names, color each one.\n",
    "ax = plt.gca() # get current axes instance\n",
    "for nshape,seg in enumerate(m.states):\n",
    "    # skip DC and Puerto Rico.\n",
    "    if statenames[nshape] not in ['District of Columbia','Puerto Rico']:\n",
    "        color = rgb2hex(colors[statenames[nshape]]) \n",
    "        poly = Polygon(seg,facecolor=color,edgecolor=color)\n",
    "        ax.add_patch(poly)\n",
    "plt.title('Filling State Polygons by default rate')\n",
    "plt.show()\n"
   ]
  },
  {
   "cell_type": "markdown",
   "metadata": {},
   "source": [
    "In above map, yellow means state with the lowest default rate and then orange, red and ... would mention states with higher default rates."
   ]
  }
 ],
 "metadata": {
  "kernelspec": {
   "display_name": "Python 3",
   "language": "python",
   "name": "python3"
  },
  "language_info": {
   "codemirror_mode": {
    "name": "ipython",
    "version": 3
   },
   "file_extension": ".py",
   "mimetype": "text/x-python",
   "name": "python",
   "nbconvert_exporter": "python",
   "pygments_lexer": "ipython3",
   "version": "3.6.3"
  }
 },
 "nbformat": 4,
 "nbformat_minor": 2
}
