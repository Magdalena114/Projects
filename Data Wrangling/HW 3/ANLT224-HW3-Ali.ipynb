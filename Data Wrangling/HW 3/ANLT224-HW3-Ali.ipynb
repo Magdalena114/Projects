{
 "cells": [
  {
   "cell_type": "markdown",
   "metadata": {},
   "source": [
    "\n",
    " ###  <font color='green' size=5> HW #3: Web Scraping (or Protobufs), Addressing Outliers and Missing Data  </font> \n",
    "\n",
    "**Data Wrangling** <br>\n",
    "**ANLT 224** <br>\n",
    "**March 21, 2018** <br>\n",
    "<br>\n",
    "\n",
    "<font color='green' size=4> By: Ali Taheri</font>"
   ]
  },
  {
   "cell_type": "markdown",
   "metadata": {},
   "source": [
    "This is our first experience with protocol buffer. We have a dataset from IMDB movies until 2016 and will try to add some movies from 2017 by potocl buffer. <br>\n",
    "First, we define our required protocl buffer.\n"
   ]
  },
  {
   "cell_type": "code",
   "execution_count": 1,
   "metadata": {
    "collapsed": true
   },
   "outputs": [
    {
     "ename": "SyntaxError",
     "evalue": "invalid syntax (<ipython-input-1-cdf6b2505b67>, line 1)",
     "output_type": "error",
     "traceback": [
      "\u001b[0;36m  File \u001b[0;32m\"<ipython-input-1-cdf6b2505b67>\"\u001b[0;36m, line \u001b[0;32m1\u001b[0m\n\u001b[0;31m    (/, Need, to, specify, whether, using, proto2, or, proto3.)\u001b[0m\n\u001b[0m     ^\u001b[0m\n\u001b[0;31mSyntaxError\u001b[0m\u001b[0;31m:\u001b[0m invalid syntax\n"
     ]
    }
   ],
   "source": [
    "// Need to specify whether using proto2 or proto3.\n",
    "syntax = \"proto2\";\n",
    "\n",
    "\n",
    "// Our main data storage object will be a \"movie\".\n",
    "message Movie {\n",
    "  optional string color=1\n",
    "  optional float num_critic_for_reviews = 2;\n",
    "  optional float duration = 3;\n",
    "  optional float gross = 4;         \n",
    "  optional string genres = 5;      \n",
    "  required string movie_title = 6;    \n",
    "  optional float facenumber_in_poster =7;\n",
    "  optional int64 num_voted_users =8;\n",
    "  optional int64 cast_total_facebook_likes =9;\n",
    "  optional string plot_keywords = 10;  \n",
    "  optional string movie_imdb_link = 11;\n",
    "  optional float num_user_for_reviews =12;\n",
    "  optional string language = 13;\n",
    "  optional string country = 14;\n",
    "  optional string content_rating = 15;\n",
    "  optional float budget = 16;\n",
    "  optional float title_year =17;\n",
    "  optional float imdb_score =18;\n",
    "  optional float aspect_ratio =19;\n",
    "  optional int32 movie_facebook_likes =20;\n",
    "    \n",
    "// Information regarding the Movie people (including director and casts)\n",
    "message Person {\n",
    "  required string name = 1;\n",
    "  optional int32 num_facebook_likes = 2;       \n",
    " \n",
    "  enum role_of_person {\n",
    "      Director = 0;\n",
    "      actor_1 = 1;\n",
    "      actor_2 = 2;\n",
    "      actor_3 = 3;\n",
    "    }\n",
    "  optional role_of_person role = 3 [default = Director];\n",
    "   \n",
    "}\n",
    "  \n",
    "  repeated Person person = 21;    // And, of course, multiple persons are possible\n",
    "}\n",
    "\n",
    "message MovieBase {\n",
    "  repeated Movie movie = 1;          // Finally, our MovieBase can be full of many movie,\n",
    "}\n"
   ]
  },
  {
   "cell_type": "markdown",
   "metadata": {},
   "source": [
    "We run protoc for above file and prepare Movie_pb2.py file as below."
   ]
  },
  {
   "cell_type": "code",
   "execution_count": 252,
   "metadata": {},
   "outputs": [
    {
     "data": {
      "text/plain": [
       "['.DS_Store',\n",
       " '.ipynb_checkpoints',\n",
       " '__pycache__',\n",
       " 'ANLT224-HW-Ali.ipynb',\n",
       " 'ANLT224-HW3-Ali.ipynb',\n",
       " 'First Draft_Not_Finalized.zip',\n",
       " 'Movie.proto',\n",
       " 'movie_metadata.csv',\n",
       " 'Movie_pb2.py']"
      ]
     },
     "execution_count": 252,
     "metadata": {},
     "output_type": "execute_result"
    }
   ],
   "source": [
    "from os import listdir \n",
    "listdir(\"./\")"
   ]
  },
  {
   "cell_type": "markdown",
   "metadata": {},
   "source": [
    "Now, we start to add some movies of 2017."
   ]
  },
  {
   "cell_type": "code",
   "execution_count": 253,
   "metadata": {},
   "outputs": [
    {
     "name": "stdout",
     "output_type": "stream",
     "text": [
      "movie_title: \"Moonlight\"\n",
      "\n"
     ]
    }
   ],
   "source": [
    "import Movie_pb2  \n",
    "my_movies = Movie_pb2.MovieBase()\n",
    "new_movie = my_movies.movie.add()\n",
    "\n",
    "new_movie.movie_title = \"Moonlight\"\n",
    "\n",
    "print(new_movie)"
   ]
  },
  {
   "cell_type": "code",
   "execution_count": 254,
   "metadata": {},
   "outputs": [
    {
     "name": "stdout",
     "output_type": "stream",
     "text": [
      "movie_title: \"Moonlight\"\n",
      "person {\n",
      "  name: \"Barry Jenkins\"\n",
      "  role: Director\n",
      "}\n",
      "\n"
     ]
    }
   ],
   "source": [
    "director=new_movie.person.add()\n",
    "\n",
    "director.name ='Barry Jenkins'\n",
    "director.role = 0\n",
    "\n",
    "print(new_movie)"
   ]
  },
  {
   "cell_type": "code",
   "execution_count": 255,
   "metadata": {},
   "outputs": [
    {
     "name": "stdout",
     "output_type": "stream",
     "text": [
      "num_critic_for_reviews: 489.0\n",
      "movie_title: \"Moonlight\"\n",
      "facenumber_in_poster: 50.0\n",
      "num_user_for_reviews: 667.0\n",
      "language: \"English\"\n",
      "title_year: 2017.0\n",
      "person {\n",
      "  name: \"Barry Jenkins\"\n",
      "  role: Director\n",
      "}\n",
      "person {\n",
      "  name: \"Mahershala Ali\"\n",
      "  role: actor_1\n",
      "}\n",
      "person {\n",
      "  name: \"Naomie Harris\"\n",
      "  role: actor_2\n",
      "}\n",
      "person {\n",
      "  name: \"Trevante Rhodes\"\n",
      "  role: actor_3\n",
      "}\n",
      "\n"
     ]
    }
   ],
   "source": [
    "first_actor = new_movie.person.add()\n",
    "\n",
    "first_actor.name ='Mahershala Ali'\n",
    "first_actor.role = 1\n",
    "\n",
    "second_actor = new_movie.person.add()\n",
    "\n",
    "second_actor.name ='Naomie Harris'\n",
    "second_actor.role = 2\n",
    "\n",
    "third_actor = new_movie.person.add()\n",
    "\n",
    "third_actor.name ='Trevante Rhodes'\n",
    "third_actor.role = 3\n",
    "\n",
    "new_movie.num_critic_for_reviews = 489\n",
    "new_movie.num_user_for_reviews = 667\n",
    "new_movie.facenumber_in_poster = 50 #outlier\n",
    "new_movie.language= 'English'\n",
    "new_movie.title_year = 2017\n",
    "\n",
    "print(new_movie)"
   ]
  },
  {
   "cell_type": "code",
   "execution_count": 256,
   "metadata": {},
   "outputs": [
    {
     "name": "stdout",
     "output_type": "stream",
     "text": [
      "movie_title: \"Lady Macbeth\"\n",
      "facenumber_in_poster: 60.0\n",
      "num_user_for_reviews: 11152.0\n",
      "language: \"English\"\n",
      "title_year: 2017.0\n",
      "person {\n",
      "  name: \"William Oldroyd\"\n",
      "  role: Director\n",
      "}\n",
      "person {\n",
      "  name: \"Florence Pugh\"\n",
      "  role: actor_1\n",
      "}\n",
      "person {\n",
      "  name: \"Cosmo Jarvis\"\n",
      "  role: actor_2\n",
      "}\n",
      "person {\n",
      "  name: \"Paul Hilton\"\n",
      "  role: actor_3\n",
      "}\n",
      "\n"
     ]
    }
   ],
   "source": [
    "new_movie = my_movies.movie.add()\n",
    "\n",
    "new_movie.movie_title = \"Lady Macbeth\"\n",
    "\n",
    "director=new_movie.person.add()\n",
    "\n",
    "director.name ='William Oldroyd'\n",
    "director.role = 0\n",
    "\n",
    "first_actor = new_movie.person.add()\n",
    "\n",
    "first_actor.name ='Florence Pugh'\n",
    "first_actor.role = 1\n",
    "\n",
    "second_actor = new_movie.person.add()\n",
    "\n",
    "second_actor.name ='Cosmo Jarvis'\n",
    "second_actor.role = 2\n",
    "\n",
    "third_actor = new_movie.person.add()\n",
    "\n",
    "third_actor.name ='Paul Hilton'\n",
    "third_actor.role = 3\n",
    "\n",
    "\n",
    "new_movie.num_user_for_reviews = 11152\n",
    "new_movie.facenumber_in_poster = 60   #outlier\n",
    "new_movie.language= 'English'\n",
    "new_movie.title_year = 2017\n",
    "\n",
    "print(new_movie)\n"
   ]
  },
  {
   "cell_type": "code",
   "execution_count": 257,
   "metadata": {},
   "outputs": [
    {
     "name": "stdout",
     "output_type": "stream",
     "text": [
      "num_critic_for_reviews: 53.0\n",
      "movie_title: \"Dunkirk\"\n",
      "facenumber_in_poster: 70.0\n",
      "num_user_for_reviews: 1798.0\n",
      "language: \"English\"\n",
      "title_year: 2017.0\n",
      "person {\n",
      "  name: \"Christopher Nolan\"\n",
      "  role: Director\n",
      "}\n",
      "person {\n",
      "  name: \"Fionn Whitehead\"\n",
      "  role: actor_1\n",
      "}\n",
      "person {\n",
      "  name: \"Damien Bonnard\"\n",
      "  role: actor_2\n",
      "}\n",
      "person {\n",
      "  name: \"Aneurin Barnard\"\n",
      "  role: actor_3\n",
      "}\n",
      "\n"
     ]
    }
   ],
   "source": [
    "new_movie = my_movies.movie.add()\n",
    "\n",
    "new_movie.movie_title = \"Dunkirk\"\n",
    "\n",
    "director=new_movie.person.add()\n",
    "\n",
    "director.name ='Christopher Nolan'\n",
    "director.role = 0\n",
    "\n",
    "first_actor = new_movie.person.add()\n",
    "\n",
    "first_actor.name ='Fionn Whitehead'\n",
    "first_actor.role = 1\n",
    "\n",
    "second_actor = new_movie.person.add()\n",
    "\n",
    "second_actor.name ='Damien Bonnard'\n",
    "second_actor.role = 2\n",
    "\n",
    "third_actor = new_movie.person.add()\n",
    "\n",
    "third_actor.name ='Aneurin Barnard'\n",
    "third_actor.role = 3\n",
    "\n",
    "new_movie.num_critic_for_reviews = 53\n",
    "new_movie.num_user_for_reviews = 1798\n",
    "new_movie.facenumber_in_poster = 70 #outlier\n",
    "new_movie.language= 'English'\n",
    "new_movie.title_year = 2017\n",
    "\n",
    "print(new_movie)\n"
   ]
  },
  {
   "cell_type": "markdown",
   "metadata": {},
   "source": [
    "Below, you can see our set of 3 movies stored as protocol buffer."
   ]
  },
  {
   "cell_type": "code",
   "execution_count": 258,
   "metadata": {},
   "outputs": [
    {
     "name": "stdout",
     "output_type": "stream",
     "text": [
      "movie {\n",
      "  num_critic_for_reviews: 489.0\n",
      "  movie_title: \"Moonlight\"\n",
      "  facenumber_in_poster: 50.0\n",
      "  num_user_for_reviews: 667.0\n",
      "  language: \"English\"\n",
      "  title_year: 2017.0\n",
      "  person {\n",
      "    name: \"Barry Jenkins\"\n",
      "    role: Director\n",
      "  }\n",
      "  person {\n",
      "    name: \"Mahershala Ali\"\n",
      "    role: actor_1\n",
      "  }\n",
      "  person {\n",
      "    name: \"Naomie Harris\"\n",
      "    role: actor_2\n",
      "  }\n",
      "  person {\n",
      "    name: \"Trevante Rhodes\"\n",
      "    role: actor_3\n",
      "  }\n",
      "}\n",
      "movie {\n",
      "  movie_title: \"Lady Macbeth\"\n",
      "  facenumber_in_poster: 60.0\n",
      "  num_user_for_reviews: 11152.0\n",
      "  language: \"English\"\n",
      "  title_year: 2017.0\n",
      "  person {\n",
      "    name: \"William Oldroyd\"\n",
      "    role: Director\n",
      "  }\n",
      "  person {\n",
      "    name: \"Florence Pugh\"\n",
      "    role: actor_1\n",
      "  }\n",
      "  person {\n",
      "    name: \"Cosmo Jarvis\"\n",
      "    role: actor_2\n",
      "  }\n",
      "  person {\n",
      "    name: \"Paul Hilton\"\n",
      "    role: actor_3\n",
      "  }\n",
      "}\n",
      "movie {\n",
      "  num_critic_for_reviews: 53.0\n",
      "  movie_title: \"Dunkirk\"\n",
      "  facenumber_in_poster: 70.0\n",
      "  num_user_for_reviews: 1798.0\n",
      "  language: \"English\"\n",
      "  title_year: 2017.0\n",
      "  person {\n",
      "    name: \"Christopher Nolan\"\n",
      "    role: Director\n",
      "  }\n",
      "  person {\n",
      "    name: \"Fionn Whitehead\"\n",
      "    role: actor_1\n",
      "  }\n",
      "  person {\n",
      "    name: \"Damien Bonnard\"\n",
      "    role: actor_2\n",
      "  }\n",
      "  person {\n",
      "    name: \"Aneurin Barnard\"\n",
      "    role: actor_3\n",
      "  }\n",
      "}\n",
      "\n"
     ]
    }
   ],
   "source": [
    "print(my_movies)"
   ]
  },
  {
   "cell_type": "markdown",
   "metadata": {},
   "source": [
    "We convert above protobuf message to JSON object as below for final conversion to pandas dataframe."
   ]
  },
  {
   "cell_type": "code",
   "execution_count": 259,
   "metadata": {},
   "outputs": [],
   "source": [
    "from google.protobuf.json_format import MessageToJson\n",
    "\n",
    "jsonObj = MessageToJson(my_movies,including_default_value_fields=True,preserving_proto_field_name=True)"
   ]
  },
  {
   "cell_type": "markdown",
   "metadata": {},
   "source": [
    "Now, we normalize this JSON object for saving in a dataframe."
   ]
  },
  {
   "cell_type": "code",
   "execution_count": 260,
   "metadata": {
    "scrolled": true
   },
   "outputs": [
    {
     "data": {
      "text/html": [
       "<div>\n",
       "<style scoped>\n",
       "    .dataframe tbody tr th:only-of-type {\n",
       "        vertical-align: middle;\n",
       "    }\n",
       "\n",
       "    .dataframe tbody tr th {\n",
       "        vertical-align: top;\n",
       "    }\n",
       "\n",
       "    .dataframe thead th {\n",
       "        text-align: right;\n",
       "    }\n",
       "</style>\n",
       "<table border=\"1\" class=\"dataframe\">\n",
       "  <thead>\n",
       "    <tr style=\"text-align: right;\">\n",
       "      <th></th>\n",
       "      <th>name</th>\n",
       "      <th>num_facebook_likes</th>\n",
       "      <th>role</th>\n",
       "    </tr>\n",
       "  </thead>\n",
       "  <tbody>\n",
       "    <tr>\n",
       "      <th>0</th>\n",
       "      <td>Barry Jenkins</td>\n",
       "      <td>0</td>\n",
       "      <td>Director</td>\n",
       "    </tr>\n",
       "    <tr>\n",
       "      <th>1</th>\n",
       "      <td>Mahershala Ali</td>\n",
       "      <td>0</td>\n",
       "      <td>actor_1</td>\n",
       "    </tr>\n",
       "    <tr>\n",
       "      <th>2</th>\n",
       "      <td>Naomie Harris</td>\n",
       "      <td>0</td>\n",
       "      <td>actor_2</td>\n",
       "    </tr>\n",
       "    <tr>\n",
       "      <th>3</th>\n",
       "      <td>Trevante Rhodes</td>\n",
       "      <td>0</td>\n",
       "      <td>actor_3</td>\n",
       "    </tr>\n",
       "    <tr>\n",
       "      <th>4</th>\n",
       "      <td>William Oldroyd</td>\n",
       "      <td>0</td>\n",
       "      <td>Director</td>\n",
       "    </tr>\n",
       "    <tr>\n",
       "      <th>5</th>\n",
       "      <td>Florence Pugh</td>\n",
       "      <td>0</td>\n",
       "      <td>actor_1</td>\n",
       "    </tr>\n",
       "    <tr>\n",
       "      <th>6</th>\n",
       "      <td>Cosmo Jarvis</td>\n",
       "      <td>0</td>\n",
       "      <td>actor_2</td>\n",
       "    </tr>\n",
       "    <tr>\n",
       "      <th>7</th>\n",
       "      <td>Paul Hilton</td>\n",
       "      <td>0</td>\n",
       "      <td>actor_3</td>\n",
       "    </tr>\n",
       "    <tr>\n",
       "      <th>8</th>\n",
       "      <td>Christopher Nolan</td>\n",
       "      <td>0</td>\n",
       "      <td>Director</td>\n",
       "    </tr>\n",
       "    <tr>\n",
       "      <th>9</th>\n",
       "      <td>Fionn Whitehead</td>\n",
       "      <td>0</td>\n",
       "      <td>actor_1</td>\n",
       "    </tr>\n",
       "    <tr>\n",
       "      <th>10</th>\n",
       "      <td>Damien Bonnard</td>\n",
       "      <td>0</td>\n",
       "      <td>actor_2</td>\n",
       "    </tr>\n",
       "    <tr>\n",
       "      <th>11</th>\n",
       "      <td>Aneurin Barnard</td>\n",
       "      <td>0</td>\n",
       "      <td>actor_3</td>\n",
       "    </tr>\n",
       "  </tbody>\n",
       "</table>\n",
       "</div>"
      ],
      "text/plain": [
       "                 name  num_facebook_likes      role\n",
       "0       Barry Jenkins                   0  Director\n",
       "1      Mahershala Ali                   0   actor_1\n",
       "2       Naomie Harris                   0   actor_2\n",
       "3     Trevante Rhodes                   0   actor_3\n",
       "4     William Oldroyd                   0  Director\n",
       "5       Florence Pugh                   0   actor_1\n",
       "6        Cosmo Jarvis                   0   actor_2\n",
       "7         Paul Hilton                   0   actor_3\n",
       "8   Christopher Nolan                   0  Director\n",
       "9     Fionn Whitehead                   0   actor_1\n",
       "10     Damien Bonnard                   0   actor_2\n",
       "11    Aneurin Barnard                   0   actor_3"
      ]
     },
     "execution_count": 260,
     "metadata": {},
     "output_type": "execute_result"
    }
   ],
   "source": [
    "import json\n",
    "from pandas.io.json import json_normalize\n",
    "\n",
    "data=json.loads(jsonObj)\n",
    "\n",
    "person_data = json_normalize(data=data['movie'], record_path='person')\n",
    "\n",
    "person_data"
   ]
  },
  {
   "cell_type": "code",
   "execution_count": 261,
   "metadata": {},
   "outputs": [
    {
     "data": {
      "text/html": [
       "<div>\n",
       "<style scoped>\n",
       "    .dataframe tbody tr th:only-of-type {\n",
       "        vertical-align: middle;\n",
       "    }\n",
       "\n",
       "    .dataframe tbody tr th {\n",
       "        vertical-align: top;\n",
       "    }\n",
       "\n",
       "    .dataframe thead th {\n",
       "        text-align: right;\n",
       "    }\n",
       "</style>\n",
       "<table border=\"1\" class=\"dataframe\">\n",
       "  <thead>\n",
       "    <tr style=\"text-align: right;\">\n",
       "      <th></th>\n",
       "      <th>aspect_ratio</th>\n",
       "      <th>budget</th>\n",
       "      <th>cast_total_facebook_likes</th>\n",
       "      <th>color</th>\n",
       "      <th>content_rating</th>\n",
       "      <th>country</th>\n",
       "      <th>duration</th>\n",
       "      <th>facenumber_in_poster</th>\n",
       "      <th>genres</th>\n",
       "      <th>gross</th>\n",
       "      <th>...</th>\n",
       "      <th>plot_keywords</th>\n",
       "      <th>title_year</th>\n",
       "      <th>director_name</th>\n",
       "      <th>director_facebook_likes</th>\n",
       "      <th>actor_1_name</th>\n",
       "      <th>actor_1_facebook_likes</th>\n",
       "      <th>actor_2_name</th>\n",
       "      <th>actor_2_facebook_likes</th>\n",
       "      <th>actor_3_name</th>\n",
       "      <th>actor_3_facebook_likes</th>\n",
       "    </tr>\n",
       "  </thead>\n",
       "  <tbody>\n",
       "    <tr>\n",
       "      <th>0</th>\n",
       "      <td>0.0</td>\n",
       "      <td>0.0</td>\n",
       "      <td>0</td>\n",
       "      <td></td>\n",
       "      <td></td>\n",
       "      <td></td>\n",
       "      <td>0.0</td>\n",
       "      <td>50.0</td>\n",
       "      <td></td>\n",
       "      <td>0.0</td>\n",
       "      <td>...</td>\n",
       "      <td></td>\n",
       "      <td>2017.0</td>\n",
       "      <td>Barry Jenkins</td>\n",
       "      <td>0</td>\n",
       "      <td>Mahershala Ali</td>\n",
       "      <td>0</td>\n",
       "      <td>Naomie Harris</td>\n",
       "      <td>0</td>\n",
       "      <td>Trevante Rhodes</td>\n",
       "      <td>0</td>\n",
       "    </tr>\n",
       "    <tr>\n",
       "      <th>1</th>\n",
       "      <td>0.0</td>\n",
       "      <td>0.0</td>\n",
       "      <td>0</td>\n",
       "      <td></td>\n",
       "      <td></td>\n",
       "      <td></td>\n",
       "      <td>0.0</td>\n",
       "      <td>60.0</td>\n",
       "      <td></td>\n",
       "      <td>0.0</td>\n",
       "      <td>...</td>\n",
       "      <td></td>\n",
       "      <td>2017.0</td>\n",
       "      <td>William Oldroyd</td>\n",
       "      <td>0</td>\n",
       "      <td>Florence Pugh</td>\n",
       "      <td>0</td>\n",
       "      <td>Cosmo Jarvis</td>\n",
       "      <td>0</td>\n",
       "      <td>Paul Hilton</td>\n",
       "      <td>0</td>\n",
       "    </tr>\n",
       "    <tr>\n",
       "      <th>2</th>\n",
       "      <td>0.0</td>\n",
       "      <td>0.0</td>\n",
       "      <td>0</td>\n",
       "      <td></td>\n",
       "      <td></td>\n",
       "      <td></td>\n",
       "      <td>0.0</td>\n",
       "      <td>70.0</td>\n",
       "      <td></td>\n",
       "      <td>0.0</td>\n",
       "      <td>...</td>\n",
       "      <td></td>\n",
       "      <td>2017.0</td>\n",
       "      <td>Christopher Nolan</td>\n",
       "      <td>0</td>\n",
       "      <td>Fionn Whitehead</td>\n",
       "      <td>0</td>\n",
       "      <td>Damien Bonnard</td>\n",
       "      <td>0</td>\n",
       "      <td>Aneurin Barnard</td>\n",
       "      <td>0</td>\n",
       "    </tr>\n",
       "  </tbody>\n",
       "</table>\n",
       "<p>3 rows × 28 columns</p>\n",
       "</div>"
      ],
      "text/plain": [
       "   aspect_ratio  budget cast_total_facebook_likes color content_rating  \\\n",
       "0           0.0     0.0                         0                        \n",
       "1           0.0     0.0                         0                        \n",
       "2           0.0     0.0                         0                        \n",
       "\n",
       "  country  duration  facenumber_in_poster genres  gross  \\\n",
       "0               0.0                  50.0           0.0   \n",
       "1               0.0                  60.0           0.0   \n",
       "2               0.0                  70.0           0.0   \n",
       "\n",
       "            ...            plot_keywords title_year      director_name  \\\n",
       "0           ...                              2017.0      Barry Jenkins   \n",
       "1           ...                              2017.0    William Oldroyd   \n",
       "2           ...                              2017.0  Christopher Nolan   \n",
       "\n",
       "  director_facebook_likes     actor_1_name  actor_1_facebook_likes  \\\n",
       "0                       0   Mahershala Ali                       0   \n",
       "1                       0    Florence Pugh                       0   \n",
       "2                       0  Fionn Whitehead                       0   \n",
       "\n",
       "     actor_2_name actor_2_facebook_likes     actor_3_name  \\\n",
       "0   Naomie Harris                      0  Trevante Rhodes   \n",
       "1    Cosmo Jarvis                      0      Paul Hilton   \n",
       "2  Damien Bonnard                      0  Aneurin Barnard   \n",
       "\n",
       "   actor_3_facebook_likes  \n",
       "0                       0  \n",
       "1                       0  \n",
       "2                       0  \n",
       "\n",
       "[3 rows x 28 columns]"
      ]
     },
     "execution_count": 261,
     "metadata": {},
     "output_type": "execute_result"
    }
   ],
   "source": [
    "pb_df=json_normalize(data['movie'])\n",
    "\n",
    "pb_df['director_name']=list(person_data.loc[person_data['role']=='Director','name'])\n",
    "pb_df['director_facebook_likes']= list(person_data.loc[person_data['role']=='Director','num_facebook_likes'])\n",
    "\n",
    "for k in range(1,4):\n",
    "    pb_df['actor_'+str(k)+'_name']=list(person_data.loc[person_data['role']=='actor_'+str(k),'name'])\n",
    "    pb_df['actor_'+str(k)+'_facebook_likes']= list(person_data.loc[person_data['role']=='actor_'+str(k),'num_facebook_likes'])\n",
    "\n",
    "pb_df=pb_df.drop(columns=['person'])\n",
    "pb_df"
   ]
  },
  {
   "cell_type": "markdown",
   "metadata": {},
   "source": [
    "\n",
    "Now, we have a CSV file that has been downloaded from IMDB about 5000 movies . We read this CSV file to a pandas dataframe and would have some exploratory analysis on it."
   ]
  },
  {
   "cell_type": "code",
   "execution_count": 262,
   "metadata": {},
   "outputs": [
    {
     "data": {
      "text/html": [
       "<div>\n",
       "<style scoped>\n",
       "    .dataframe tbody tr th:only-of-type {\n",
       "        vertical-align: middle;\n",
       "    }\n",
       "\n",
       "    .dataframe tbody tr th {\n",
       "        vertical-align: top;\n",
       "    }\n",
       "\n",
       "    .dataframe thead th {\n",
       "        text-align: right;\n",
       "    }\n",
       "</style>\n",
       "<table border=\"1\" class=\"dataframe\">\n",
       "  <thead>\n",
       "    <tr style=\"text-align: right;\">\n",
       "      <th></th>\n",
       "      <th>color</th>\n",
       "      <th>director_name</th>\n",
       "      <th>num_critic_for_reviews</th>\n",
       "      <th>duration</th>\n",
       "      <th>director_facebook_likes</th>\n",
       "      <th>actor_3_facebook_likes</th>\n",
       "      <th>actor_2_name</th>\n",
       "      <th>actor_1_facebook_likes</th>\n",
       "      <th>gross</th>\n",
       "      <th>genres</th>\n",
       "      <th>...</th>\n",
       "      <th>num_user_for_reviews</th>\n",
       "      <th>language</th>\n",
       "      <th>country</th>\n",
       "      <th>content_rating</th>\n",
       "      <th>budget</th>\n",
       "      <th>title_year</th>\n",
       "      <th>actor_2_facebook_likes</th>\n",
       "      <th>imdb_score</th>\n",
       "      <th>aspect_ratio</th>\n",
       "      <th>movie_facebook_likes</th>\n",
       "    </tr>\n",
       "  </thead>\n",
       "  <tbody>\n",
       "    <tr>\n",
       "      <th>0</th>\n",
       "      <td>Color</td>\n",
       "      <td>James Cameron</td>\n",
       "      <td>723.0</td>\n",
       "      <td>178.0</td>\n",
       "      <td>0.0</td>\n",
       "      <td>855.0</td>\n",
       "      <td>Joel David Moore</td>\n",
       "      <td>1000.0</td>\n",
       "      <td>760505847.0</td>\n",
       "      <td>Action|Adventure|Fantasy|Sci-Fi</td>\n",
       "      <td>...</td>\n",
       "      <td>3054.0</td>\n",
       "      <td>English</td>\n",
       "      <td>USA</td>\n",
       "      <td>PG-13</td>\n",
       "      <td>237000000.0</td>\n",
       "      <td>2009.0</td>\n",
       "      <td>936.0</td>\n",
       "      <td>7.9</td>\n",
       "      <td>1.78</td>\n",
       "      <td>33000</td>\n",
       "    </tr>\n",
       "    <tr>\n",
       "      <th>1</th>\n",
       "      <td>Color</td>\n",
       "      <td>Gore Verbinski</td>\n",
       "      <td>302.0</td>\n",
       "      <td>169.0</td>\n",
       "      <td>563.0</td>\n",
       "      <td>1000.0</td>\n",
       "      <td>Orlando Bloom</td>\n",
       "      <td>40000.0</td>\n",
       "      <td>309404152.0</td>\n",
       "      <td>Action|Adventure|Fantasy</td>\n",
       "      <td>...</td>\n",
       "      <td>1238.0</td>\n",
       "      <td>English</td>\n",
       "      <td>USA</td>\n",
       "      <td>PG-13</td>\n",
       "      <td>300000000.0</td>\n",
       "      <td>2007.0</td>\n",
       "      <td>5000.0</td>\n",
       "      <td>7.1</td>\n",
       "      <td>2.35</td>\n",
       "      <td>0</td>\n",
       "    </tr>\n",
       "    <tr>\n",
       "      <th>2</th>\n",
       "      <td>Color</td>\n",
       "      <td>Sam Mendes</td>\n",
       "      <td>602.0</td>\n",
       "      <td>148.0</td>\n",
       "      <td>0.0</td>\n",
       "      <td>161.0</td>\n",
       "      <td>Rory Kinnear</td>\n",
       "      <td>11000.0</td>\n",
       "      <td>200074175.0</td>\n",
       "      <td>Action|Adventure|Thriller</td>\n",
       "      <td>...</td>\n",
       "      <td>994.0</td>\n",
       "      <td>English</td>\n",
       "      <td>UK</td>\n",
       "      <td>PG-13</td>\n",
       "      <td>245000000.0</td>\n",
       "      <td>2015.0</td>\n",
       "      <td>393.0</td>\n",
       "      <td>6.8</td>\n",
       "      <td>2.35</td>\n",
       "      <td>85000</td>\n",
       "    </tr>\n",
       "    <tr>\n",
       "      <th>3</th>\n",
       "      <td>Color</td>\n",
       "      <td>Christopher Nolan</td>\n",
       "      <td>813.0</td>\n",
       "      <td>164.0</td>\n",
       "      <td>22000.0</td>\n",
       "      <td>23000.0</td>\n",
       "      <td>Christian Bale</td>\n",
       "      <td>27000.0</td>\n",
       "      <td>448130642.0</td>\n",
       "      <td>Action|Thriller</td>\n",
       "      <td>...</td>\n",
       "      <td>2701.0</td>\n",
       "      <td>English</td>\n",
       "      <td>USA</td>\n",
       "      <td>PG-13</td>\n",
       "      <td>250000000.0</td>\n",
       "      <td>2012.0</td>\n",
       "      <td>23000.0</td>\n",
       "      <td>8.5</td>\n",
       "      <td>2.35</td>\n",
       "      <td>164000</td>\n",
       "    </tr>\n",
       "    <tr>\n",
       "      <th>4</th>\n",
       "      <td>NaN</td>\n",
       "      <td>Doug Walker</td>\n",
       "      <td>NaN</td>\n",
       "      <td>NaN</td>\n",
       "      <td>131.0</td>\n",
       "      <td>NaN</td>\n",
       "      <td>Rob Walker</td>\n",
       "      <td>131.0</td>\n",
       "      <td>NaN</td>\n",
       "      <td>Documentary</td>\n",
       "      <td>...</td>\n",
       "      <td>NaN</td>\n",
       "      <td>NaN</td>\n",
       "      <td>NaN</td>\n",
       "      <td>NaN</td>\n",
       "      <td>NaN</td>\n",
       "      <td>NaN</td>\n",
       "      <td>12.0</td>\n",
       "      <td>7.1</td>\n",
       "      <td>NaN</td>\n",
       "      <td>0</td>\n",
       "    </tr>\n",
       "  </tbody>\n",
       "</table>\n",
       "<p>5 rows × 28 columns</p>\n",
       "</div>"
      ],
      "text/plain": [
       "   color      director_name  num_critic_for_reviews  duration  \\\n",
       "0  Color      James Cameron                   723.0     178.0   \n",
       "1  Color     Gore Verbinski                   302.0     169.0   \n",
       "2  Color         Sam Mendes                   602.0     148.0   \n",
       "3  Color  Christopher Nolan                   813.0     164.0   \n",
       "4    NaN        Doug Walker                     NaN       NaN   \n",
       "\n",
       "   director_facebook_likes  actor_3_facebook_likes      actor_2_name  \\\n",
       "0                      0.0                   855.0  Joel David Moore   \n",
       "1                    563.0                  1000.0     Orlando Bloom   \n",
       "2                      0.0                   161.0      Rory Kinnear   \n",
       "3                  22000.0                 23000.0    Christian Bale   \n",
       "4                    131.0                     NaN        Rob Walker   \n",
       "\n",
       "   actor_1_facebook_likes        gross                           genres  \\\n",
       "0                  1000.0  760505847.0  Action|Adventure|Fantasy|Sci-Fi   \n",
       "1                 40000.0  309404152.0         Action|Adventure|Fantasy   \n",
       "2                 11000.0  200074175.0        Action|Adventure|Thriller   \n",
       "3                 27000.0  448130642.0                  Action|Thriller   \n",
       "4                   131.0          NaN                      Documentary   \n",
       "\n",
       "          ...          num_user_for_reviews language  country  content_rating  \\\n",
       "0         ...                        3054.0  English      USA           PG-13   \n",
       "1         ...                        1238.0  English      USA           PG-13   \n",
       "2         ...                         994.0  English       UK           PG-13   \n",
       "3         ...                        2701.0  English      USA           PG-13   \n",
       "4         ...                           NaN      NaN      NaN             NaN   \n",
       "\n",
       "        budget  title_year actor_2_facebook_likes imdb_score  aspect_ratio  \\\n",
       "0  237000000.0      2009.0                  936.0        7.9          1.78   \n",
       "1  300000000.0      2007.0                 5000.0        7.1          2.35   \n",
       "2  245000000.0      2015.0                  393.0        6.8          2.35   \n",
       "3  250000000.0      2012.0                23000.0        8.5          2.35   \n",
       "4          NaN         NaN                   12.0        7.1           NaN   \n",
       "\n",
       "  movie_facebook_likes  \n",
       "0                33000  \n",
       "1                    0  \n",
       "2                85000  \n",
       "3               164000  \n",
       "4                    0  \n",
       "\n",
       "[5 rows x 28 columns]"
      ]
     },
     "execution_count": 262,
     "metadata": {},
     "output_type": "execute_result"
    }
   ],
   "source": [
    "import pandas as pd\n",
    "\n",
    "#import data into a pandas dataframe and view the first 5 rows\n",
    "csv_df = pd.read_csv('movie_metadata.csv')\n",
    "csv_df.head()"
   ]
  },
  {
   "cell_type": "code",
   "execution_count": 263,
   "metadata": {},
   "outputs": [
    {
     "data": {
      "text/plain": [
       "(5043, 28)"
      ]
     },
     "execution_count": 263,
     "metadata": {},
     "output_type": "execute_result"
    }
   ],
   "source": [
    "csv_df.shape"
   ]
  },
  {
   "cell_type": "markdown",
   "metadata": {},
   "source": [
    "Now we compare columns of two dataframes to check equality."
   ]
  },
  {
   "cell_type": "code",
   "execution_count": 264,
   "metadata": {},
   "outputs": [
    {
     "data": {
      "text/plain": [
       "set()"
      ]
     },
     "execution_count": 264,
     "metadata": {},
     "output_type": "execute_result"
    }
   ],
   "source": [
    "set(pb_df.columns) - set(csv_df.columns)"
   ]
  },
  {
   "cell_type": "markdown",
   "metadata": {},
   "source": [
    "Now, we concat these two dataframes for further analysis."
   ]
  },
  {
   "cell_type": "code",
   "execution_count": 265,
   "metadata": {},
   "outputs": [
    {
     "data": {
      "text/html": [
       "<div>\n",
       "<style scoped>\n",
       "    .dataframe tbody tr th:only-of-type {\n",
       "        vertical-align: middle;\n",
       "    }\n",
       "\n",
       "    .dataframe tbody tr th {\n",
       "        vertical-align: top;\n",
       "    }\n",
       "\n",
       "    .dataframe thead th {\n",
       "        text-align: right;\n",
       "    }\n",
       "</style>\n",
       "<table border=\"1\" class=\"dataframe\">\n",
       "  <thead>\n",
       "    <tr style=\"text-align: right;\">\n",
       "      <th></th>\n",
       "      <th>actor_1_facebook_likes</th>\n",
       "      <th>actor_1_name</th>\n",
       "      <th>actor_2_facebook_likes</th>\n",
       "      <th>actor_2_name</th>\n",
       "      <th>actor_3_facebook_likes</th>\n",
       "      <th>actor_3_name</th>\n",
       "      <th>aspect_ratio</th>\n",
       "      <th>budget</th>\n",
       "      <th>cast_total_facebook_likes</th>\n",
       "      <th>color</th>\n",
       "      <th>...</th>\n",
       "      <th>imdb_score</th>\n",
       "      <th>language</th>\n",
       "      <th>movie_facebook_likes</th>\n",
       "      <th>movie_imdb_link</th>\n",
       "      <th>movie_title</th>\n",
       "      <th>num_critic_for_reviews</th>\n",
       "      <th>num_user_for_reviews</th>\n",
       "      <th>num_voted_users</th>\n",
       "      <th>plot_keywords</th>\n",
       "      <th>title_year</th>\n",
       "    </tr>\n",
       "  </thead>\n",
       "  <tbody>\n",
       "    <tr>\n",
       "      <th>0</th>\n",
       "      <td>0.0</td>\n",
       "      <td>Mahershala Ali</td>\n",
       "      <td>0.0</td>\n",
       "      <td>Naomie Harris</td>\n",
       "      <td>0.0</td>\n",
       "      <td>Trevante Rhodes</td>\n",
       "      <td>0.00</td>\n",
       "      <td>0.0</td>\n",
       "      <td>0</td>\n",
       "      <td></td>\n",
       "      <td>...</td>\n",
       "      <td>0.0</td>\n",
       "      <td>English</td>\n",
       "      <td>0</td>\n",
       "      <td></td>\n",
       "      <td>Moonlight</td>\n",
       "      <td>489.0</td>\n",
       "      <td>667.0</td>\n",
       "      <td>0</td>\n",
       "      <td></td>\n",
       "      <td>2017.0</td>\n",
       "    </tr>\n",
       "    <tr>\n",
       "      <th>1</th>\n",
       "      <td>0.0</td>\n",
       "      <td>Florence Pugh</td>\n",
       "      <td>0.0</td>\n",
       "      <td>Cosmo Jarvis</td>\n",
       "      <td>0.0</td>\n",
       "      <td>Paul Hilton</td>\n",
       "      <td>0.00</td>\n",
       "      <td>0.0</td>\n",
       "      <td>0</td>\n",
       "      <td></td>\n",
       "      <td>...</td>\n",
       "      <td>0.0</td>\n",
       "      <td>English</td>\n",
       "      <td>0</td>\n",
       "      <td></td>\n",
       "      <td>Lady Macbeth</td>\n",
       "      <td>0.0</td>\n",
       "      <td>11152.0</td>\n",
       "      <td>0</td>\n",
       "      <td></td>\n",
       "      <td>2017.0</td>\n",
       "    </tr>\n",
       "    <tr>\n",
       "      <th>2</th>\n",
       "      <td>0.0</td>\n",
       "      <td>Fionn Whitehead</td>\n",
       "      <td>0.0</td>\n",
       "      <td>Damien Bonnard</td>\n",
       "      <td>0.0</td>\n",
       "      <td>Aneurin Barnard</td>\n",
       "      <td>0.00</td>\n",
       "      <td>0.0</td>\n",
       "      <td>0</td>\n",
       "      <td></td>\n",
       "      <td>...</td>\n",
       "      <td>0.0</td>\n",
       "      <td>English</td>\n",
       "      <td>0</td>\n",
       "      <td></td>\n",
       "      <td>Dunkirk</td>\n",
       "      <td>53.0</td>\n",
       "      <td>1798.0</td>\n",
       "      <td>0</td>\n",
       "      <td></td>\n",
       "      <td>2017.0</td>\n",
       "    </tr>\n",
       "    <tr>\n",
       "      <th>3</th>\n",
       "      <td>1000.0</td>\n",
       "      <td>CCH Pounder</td>\n",
       "      <td>936.0</td>\n",
       "      <td>Joel David Moore</td>\n",
       "      <td>855.0</td>\n",
       "      <td>Wes Studi</td>\n",
       "      <td>1.78</td>\n",
       "      <td>237000000.0</td>\n",
       "      <td>4834</td>\n",
       "      <td>Color</td>\n",
       "      <td>...</td>\n",
       "      <td>7.9</td>\n",
       "      <td>English</td>\n",
       "      <td>33000</td>\n",
       "      <td>http://www.imdb.com/title/tt0499549/?ref_=fn_t...</td>\n",
       "      <td>Avatar</td>\n",
       "      <td>723.0</td>\n",
       "      <td>3054.0</td>\n",
       "      <td>886204</td>\n",
       "      <td>avatar|future|marine|native|paraplegic</td>\n",
       "      <td>2009.0</td>\n",
       "    </tr>\n",
       "    <tr>\n",
       "      <th>4</th>\n",
       "      <td>40000.0</td>\n",
       "      <td>Johnny Depp</td>\n",
       "      <td>5000.0</td>\n",
       "      <td>Orlando Bloom</td>\n",
       "      <td>1000.0</td>\n",
       "      <td>Jack Davenport</td>\n",
       "      <td>2.35</td>\n",
       "      <td>300000000.0</td>\n",
       "      <td>48350</td>\n",
       "      <td>Color</td>\n",
       "      <td>...</td>\n",
       "      <td>7.1</td>\n",
       "      <td>English</td>\n",
       "      <td>0</td>\n",
       "      <td>http://www.imdb.com/title/tt0449088/?ref_=fn_t...</td>\n",
       "      <td>Pirates of the Caribbean: At World's End</td>\n",
       "      <td>302.0</td>\n",
       "      <td>1238.0</td>\n",
       "      <td>471220</td>\n",
       "      <td>goddess|marriage ceremony|marriage proposal|pi...</td>\n",
       "      <td>2007.0</td>\n",
       "    </tr>\n",
       "  </tbody>\n",
       "</table>\n",
       "<p>5 rows × 28 columns</p>\n",
       "</div>"
      ],
      "text/plain": [
       "   actor_1_facebook_likes     actor_1_name  actor_2_facebook_likes  \\\n",
       "0                     0.0   Mahershala Ali                     0.0   \n",
       "1                     0.0    Florence Pugh                     0.0   \n",
       "2                     0.0  Fionn Whitehead                     0.0   \n",
       "3                  1000.0      CCH Pounder                   936.0   \n",
       "4                 40000.0      Johnny Depp                  5000.0   \n",
       "\n",
       "       actor_2_name  actor_3_facebook_likes     actor_3_name  aspect_ratio  \\\n",
       "0     Naomie Harris                     0.0  Trevante Rhodes          0.00   \n",
       "1      Cosmo Jarvis                     0.0      Paul Hilton          0.00   \n",
       "2    Damien Bonnard                     0.0  Aneurin Barnard          0.00   \n",
       "3  Joel David Moore                   855.0        Wes Studi          1.78   \n",
       "4     Orlando Bloom                  1000.0   Jack Davenport          2.35   \n",
       "\n",
       "        budget cast_total_facebook_likes  color    ...     imdb_score  \\\n",
       "0          0.0                         0           ...            0.0   \n",
       "1          0.0                         0           ...            0.0   \n",
       "2          0.0                         0           ...            0.0   \n",
       "3  237000000.0                      4834  Color    ...            7.9   \n",
       "4  300000000.0                     48350  Color    ...            7.1   \n",
       "\n",
       "  language  movie_facebook_likes  \\\n",
       "0  English                     0   \n",
       "1  English                     0   \n",
       "2  English                     0   \n",
       "3  English                 33000   \n",
       "4  English                     0   \n",
       "\n",
       "                                     movie_imdb_link  \\\n",
       "0                                                      \n",
       "1                                                      \n",
       "2                                                      \n",
       "3  http://www.imdb.com/title/tt0499549/?ref_=fn_t...   \n",
       "4  http://www.imdb.com/title/tt0449088/?ref_=fn_t...   \n",
       "\n",
       "                                 movie_title  num_critic_for_reviews  \\\n",
       "0                                  Moonlight                   489.0   \n",
       "1                               Lady Macbeth                     0.0   \n",
       "2                                    Dunkirk                    53.0   \n",
       "3                                    Avatar                    723.0   \n",
       "4  Pirates of the Caribbean: At World's End                    302.0   \n",
       "\n",
       "  num_user_for_reviews  num_voted_users  \\\n",
       "0                667.0                0   \n",
       "1              11152.0                0   \n",
       "2               1798.0                0   \n",
       "3               3054.0           886204   \n",
       "4               1238.0           471220   \n",
       "\n",
       "                                       plot_keywords title_year  \n",
       "0                                                        2017.0  \n",
       "1                                                        2017.0  \n",
       "2                                                        2017.0  \n",
       "3             avatar|future|marine|native|paraplegic     2009.0  \n",
       "4  goddess|marriage ceremony|marriage proposal|pi...     2007.0  \n",
       "\n",
       "[5 rows x 28 columns]"
      ]
     },
     "execution_count": 265,
     "metadata": {},
     "output_type": "execute_result"
    }
   ],
   "source": [
    "movies_df=pd.concat([pb_df,csv_df])\n",
    "movies_df=movies_df.reset_index()\n",
    "movies_df=movies_df.drop(columns=['index'])\n",
    "movies_df.head()"
   ]
  },
  {
   "cell_type": "code",
   "execution_count": 266,
   "metadata": {},
   "outputs": [
    {
     "data": {
      "text/plain": [
       "(5046, 28)"
      ]
     },
     "execution_count": 266,
     "metadata": {},
     "output_type": "execute_result"
    }
   ],
   "source": [
    "#Dimension of dataset\n",
    "movies_df.shape"
   ]
  },
  {
   "cell_type": "markdown",
   "metadata": {},
   "source": [
    "We can see that this new dataframe has 5046 rows that each row represents 28 features of a movie. <br>\n"
   ]
  },
  {
   "cell_type": "code",
   "execution_count": 267,
   "metadata": {},
   "outputs": [
    {
     "data": {
      "text/plain": [
       "actor_1_facebook_likes       float64\n",
       "actor_1_name                  object\n",
       "actor_2_facebook_likes       float64\n",
       "actor_2_name                  object\n",
       "actor_3_facebook_likes       float64\n",
       "actor_3_name                  object\n",
       "aspect_ratio                 float64\n",
       "budget                       float64\n",
       "cast_total_facebook_likes     object\n",
       "color                         object\n",
       "content_rating                object\n",
       "country                       object\n",
       "director_facebook_likes      float64\n",
       "director_name                 object\n",
       "duration                     float64\n",
       "facenumber_in_poster         float64\n",
       "genres                        object\n",
       "gross                        float64\n",
       "imdb_score                   float64\n",
       "language                      object\n",
       "movie_facebook_likes           int64\n",
       "movie_imdb_link               object\n",
       "movie_title                   object\n",
       "num_critic_for_reviews       float64\n",
       "num_user_for_reviews         float64\n",
       "num_voted_users               object\n",
       "plot_keywords                 object\n",
       "title_year                   float64\n",
       "dtype: object"
      ]
     },
     "execution_count": 267,
     "metadata": {},
     "output_type": "execute_result"
    }
   ],
   "source": [
    "movies_df.dtypes"
   ]
  },
  {
   "cell_type": "markdown",
   "metadata": {},
   "source": [
    "Now, we would do some wrangling processes."
   ]
  },
  {
   "cell_type": "code",
   "execution_count": 268,
   "metadata": {},
   "outputs": [],
   "source": [
    "#replacing character of '|' with ' '\n",
    "\n",
    "movies_df['genres'] = movies_df['genres'].str.replace('|',' ')\n",
    "movies_df['plot_keywords'] = movies_df['plot_keywords'].str.replace('|',' ')"
   ]
  },
  {
   "cell_type": "code",
   "execution_count": 269,
   "metadata": {},
   "outputs": [],
   "source": [
    "#removing duplicated rows\n",
    "movies_df=movies_df.drop_duplicates(['movie_title'], keep= 'last')"
   ]
  },
  {
   "cell_type": "code",
   "execution_count": 270,
   "metadata": {},
   "outputs": [
    {
     "data": {
      "text/plain": [
       "(4920, 28)"
      ]
     },
     "execution_count": 270,
     "metadata": {},
     "output_type": "execute_result"
    }
   ],
   "source": [
    "movies_df.shape"
   ]
  },
  {
   "cell_type": "markdown",
   "metadata": {},
   "source": [
    "It shows that some rows have been removed. "
   ]
  },
  {
   "cell_type": "markdown",
   "metadata": {},
   "source": [
    "It is obvious that 0 facebook likes are not truthful values, so we convert them to NaN."
   ]
  },
  {
   "cell_type": "code",
   "execution_count": 271,
   "metadata": {},
   "outputs": [],
   "source": [
    "#setting 0 likes to null for consistendy\n",
    "for col_oi in movies_df.columns:\n",
    "    if ('like' in col_oi):\n",
    "        movies_df.loc[movies_df[col_oi] == 0,col_oi] = None        "
   ]
  },
  {
   "cell_type": "code",
   "execution_count": 272,
   "metadata": {},
   "outputs": [],
   "source": [
    "#Changing type of some columns to category\n",
    "categ_cols = [\"color\",\"language\", \"country\",\"content_rating\"]\n",
    "for categ_col in categ_cols:\n",
    "    movies_df[categ_col] = movies_df[categ_col].astype('category') "
   ]
  },
  {
   "cell_type": "code",
   "execution_count": 273,
   "metadata": {},
   "outputs": [
    {
     "data": {
      "text/plain": [
       "actor_1_facebook_likes        float64\n",
       "actor_1_name                   object\n",
       "actor_2_facebook_likes        float64\n",
       "actor_2_name                   object\n",
       "actor_3_facebook_likes        float64\n",
       "actor_3_name                   object\n",
       "aspect_ratio                  float64\n",
       "budget                        float64\n",
       "cast_total_facebook_likes      object\n",
       "color                        category\n",
       "content_rating               category\n",
       "country                      category\n",
       "director_facebook_likes       float64\n",
       "director_name                  object\n",
       "duration                      float64\n",
       "facenumber_in_poster          float64\n",
       "genres                         object\n",
       "gross                         float64\n",
       "imdb_score                    float64\n",
       "language                     category\n",
       "movie_facebook_likes          float64\n",
       "movie_imdb_link                object\n",
       "movie_title                    object\n",
       "num_critic_for_reviews        float64\n",
       "num_user_for_reviews          float64\n",
       "num_voted_users                object\n",
       "plot_keywords                  object\n",
       "title_year                    float64\n",
       "dtype: object"
      ]
     },
     "execution_count": 273,
     "metadata": {},
     "output_type": "execute_result"
    }
   ],
   "source": [
    "movies_df.dtypes "
   ]
  },
  {
   "cell_type": "code",
   "execution_count": 274,
   "metadata": {},
   "outputs": [
    {
     "data": {
      "text/plain": [
       "[, PG-13, NaN, PG, G, ..., TV-Y7, GP, Passed, M, X]\n",
       "Length: 20\n",
       "Categories (19, object): [, PG-13, PG, G, ..., GP, Passed, M, X]"
      ]
     },
     "execution_count": 274,
     "metadata": {},
     "output_type": "execute_result"
    }
   ],
   "source": [
    "#viewing different categories of content_rating\n",
    "movies_df.content_rating.unique()"
   ]
  },
  {
   "cell_type": "markdown",
   "metadata": {},
   "source": [
    "Next, we try to know about all rows with NaN value, then we would see statistics per columns."
   ]
  },
  {
   "cell_type": "code",
   "execution_count": 275,
   "metadata": {},
   "outputs": [
    {
     "name": "stdout",
     "output_type": "stream",
     "text": [
      "3353 rows have missing values in the  data\n"
     ]
    }
   ],
   "source": [
    "nans = movies_df.shape[0] - movies_df.dropna().shape[0]\n",
    "print (\"%d rows have missing values in the  data\" %nans)"
   ]
  },
  {
   "cell_type": "code",
   "execution_count": 276,
   "metadata": {},
   "outputs": [
    {
     "name": "stdout",
     "output_type": "stream",
     "text": [
      "\n",
      "\n",
      "Column: actor_1_facebook_likes \n",
      "True     4884\n",
      "False      36\n",
      "Name: actor_1_facebook_likes, dtype: int64\n",
      "\n",
      "\n",
      "Column: actor_1_name \n",
      "True     4913\n",
      "False       7\n",
      "Name: actor_1_name, dtype: int64\n",
      "\n",
      "\n",
      "Column: actor_2_facebook_likes \n",
      "True     4849\n",
      "False      71\n",
      "Name: actor_2_facebook_likes, dtype: int64\n",
      "\n",
      "\n",
      "Column: actor_2_name \n",
      "True     4907\n",
      "False      13\n",
      "Name: actor_2_name, dtype: int64\n",
      "\n",
      "\n",
      "Column: actor_3_facebook_likes \n",
      "True     4805\n",
      "False     115\n",
      "Name: actor_3_facebook_likes, dtype: int64\n",
      "\n",
      "\n",
      "Column: actor_3_name \n",
      "True     4897\n",
      "False      23\n",
      "Name: actor_3_name, dtype: int64\n",
      "\n",
      "\n",
      "Column: aspect_ratio \n",
      "True     4594\n",
      "False     326\n",
      "Name: aspect_ratio, dtype: int64\n",
      "\n",
      "\n",
      "Column: budget \n",
      "True     4436\n",
      "False     484\n",
      "Name: budget, dtype: int64\n",
      "\n",
      "\n",
      "Column: cast_total_facebook_likes \n",
      "True     4887\n",
      "False      33\n",
      "Name: cast_total_facebook_likes, dtype: int64\n",
      "\n",
      "\n",
      "Column: color \n",
      "True     4901\n",
      "False      19\n",
      "Name: color, dtype: int64\n",
      "\n",
      "\n",
      "Column: content_rating \n",
      "True     4619\n",
      "False     301\n",
      "Name: content_rating, dtype: int64\n",
      "\n",
      "\n",
      "Column: country \n",
      "True     4915\n",
      "False       5\n",
      "Name: country, dtype: int64\n",
      "\n",
      "\n",
      "Column: director_facebook_likes \n",
      "True     3937\n",
      "False     983\n",
      "Name: director_facebook_likes, dtype: int64\n",
      "\n",
      "\n",
      "Column: director_name \n",
      "True     4818\n",
      "False     102\n",
      "Name: director_name, dtype: int64\n",
      "\n",
      "\n",
      "Column: duration \n",
      "True     4905\n",
      "False      15\n",
      "Name: duration, dtype: int64\n",
      "\n",
      "\n",
      "Column: facenumber_in_poster \n",
      "True     4907\n",
      "False      13\n",
      "Name: facenumber_in_poster, dtype: int64\n",
      "\n",
      "\n",
      "Column: genres \n",
      "True    4920\n",
      "Name: genres, dtype: int64\n",
      "\n",
      "\n",
      "Column: gross \n",
      "True     4058\n",
      "False     862\n",
      "Name: gross, dtype: int64\n",
      "\n",
      "\n",
      "Column: imdb_score \n",
      "True    4920\n",
      "Name: imdb_score, dtype: int64\n",
      "\n",
      "\n",
      "Column: language \n",
      "True     4908\n",
      "False      12\n",
      "Name: language, dtype: int64\n",
      "\n",
      "\n",
      "Column: movie_facebook_likes \n",
      "True     2786\n",
      "False    2134\n",
      "Name: movie_facebook_likes, dtype: int64\n",
      "\n",
      "\n",
      "Column: movie_imdb_link \n",
      "True    4920\n",
      "Name: movie_imdb_link, dtype: int64\n",
      "\n",
      "\n",
      "Column: movie_title \n",
      "True    4920\n",
      "Name: movie_title, dtype: int64\n",
      "\n",
      "\n",
      "Column: num_critic_for_reviews \n",
      "True     4871\n",
      "False      49\n",
      "Name: num_critic_for_reviews, dtype: int64\n",
      "\n",
      "\n",
      "Column: num_user_for_reviews \n",
      "True     4899\n",
      "False      21\n",
      "Name: num_user_for_reviews, dtype: int64\n",
      "\n",
      "\n",
      "Column: num_voted_users \n",
      "True    4920\n",
      "Name: num_voted_users, dtype: int64\n",
      "\n",
      "\n",
      "Column: plot_keywords \n",
      "True     4769\n",
      "False     151\n",
      "Name: plot_keywords, dtype: int64\n",
      "\n",
      "\n",
      "Column: title_year \n",
      "True     4814\n",
      "False     106\n",
      "Name: title_year, dtype: int64\n"
     ]
    }
   ],
   "source": [
    "for col_oi in movies_df.columns:\n",
    "    print('\\n\\nColumn: %s \\n%s' % (col_oi, movies_df[col_oi].notnull().value_counts() ))"
   ]
  },
  {
   "cell_type": "markdown",
   "metadata": {},
   "source": [
    "Below, we can see sorting directors by imdb_score of their movies."
   ]
  },
  {
   "cell_type": "code",
   "execution_count": 277,
   "metadata": {},
   "outputs": [
    {
     "data": {
      "text/html": [
       "<div>\n",
       "<style scoped>\n",
       "    .dataframe tbody tr th:only-of-type {\n",
       "        vertical-align: middle;\n",
       "    }\n",
       "\n",
       "    .dataframe tbody tr th {\n",
       "        vertical-align: top;\n",
       "    }\n",
       "\n",
       "    .dataframe thead th {\n",
       "        text-align: right;\n",
       "    }\n",
       "</style>\n",
       "<table border=\"1\" class=\"dataframe\">\n",
       "  <thead>\n",
       "    <tr style=\"text-align: right;\">\n",
       "      <th></th>\n",
       "      <th>imdb_score</th>\n",
       "    </tr>\n",
       "    <tr>\n",
       "      <th>director_name</th>\n",
       "      <th></th>\n",
       "    </tr>\n",
       "  </thead>\n",
       "  <tbody>\n",
       "    <tr>\n",
       "      <th>John Blanchard</th>\n",
       "      <td>9.5</td>\n",
       "    </tr>\n",
       "    <tr>\n",
       "      <th>Mitchell Altieri</th>\n",
       "      <td>8.7</td>\n",
       "    </tr>\n",
       "    <tr>\n",
       "      <th>Cary Bell</th>\n",
       "      <td>8.7</td>\n",
       "    </tr>\n",
       "    <tr>\n",
       "      <th>Sadyk Sher-Niyaz</th>\n",
       "      <td>8.7</td>\n",
       "    </tr>\n",
       "    <tr>\n",
       "      <th>Mike Mayhall</th>\n",
       "      <td>8.6</td>\n",
       "    </tr>\n",
       "  </tbody>\n",
       "</table>\n",
       "</div>"
      ],
      "text/plain": [
       "                  imdb_score\n",
       "director_name               \n",
       "John Blanchard           9.5\n",
       "Mitchell Altieri         8.7\n",
       "Cary Bell                8.7\n",
       "Sadyk Sher-Niyaz         8.7\n",
       "Mike Mayhall             8.6"
      ]
     },
     "execution_count": 277,
     "metadata": {},
     "output_type": "execute_result"
    }
   ],
   "source": [
    "import numpy as np\n",
    "\n",
    "(pd.pivot_table(movies_df[['director_name','imdb_score']],\n",
    "               values='imdb_score', index = 'director_name', aggfunc= np.mean).\n",
    "    sort_values(by=['imdb_score'], ascending=False).head())"
   ]
  },
  {
   "cell_type": "markdown",
   "metadata": {},
   "source": [
    "Now, we go to find outliers."
   ]
  },
  {
   "cell_type": "code",
   "execution_count": 278,
   "metadata": {},
   "outputs": [],
   "source": [
    "def upper_outlier(x):\n",
    "    if len(x[x.notnull()]) < 4:\n",
    "        return(np.nan)\n",
    "    (q1, q3) = x.quantile(q=[0.25, 0.75])\n",
    "    return(2.5 * q3 - 1.5 * q1)\n",
    "\n",
    "def lower_outlier(x):\n",
    "    if len(x[x.notnull()]) < 4:\n",
    "        return(np.nan)\n",
    "    (q1, q3) = x.quantile(q=[0.25, 0.75])\n",
    "    return(2.5 * q1 - 1.5 * q3)"
   ]
  },
  {
   "cell_type": "markdown",
   "metadata": {},
   "source": [
    "We will remove outliers of 'facenumber_in_poster' columns that we injected for test."
   ]
  },
  {
   "cell_type": "code",
   "execution_count": 279,
   "metadata": {},
   "outputs": [
    {
     "data": {
      "text/plain": [
       "5.0"
      ]
     },
     "execution_count": 279,
     "metadata": {},
     "output_type": "execute_result"
    }
   ],
   "source": [
    "up=upper_outlier(movies_df['facenumber_in_poster'])\n",
    "up"
   ]
  },
  {
   "cell_type": "code",
   "execution_count": 280,
   "metadata": {},
   "outputs": [
    {
     "data": {
      "text/plain": [
       "-3.0"
      ]
     },
     "execution_count": 280,
     "metadata": {},
     "output_type": "execute_result"
    }
   ],
   "source": [
    "down=lower_outlier(movies_df.facenumber_in_poster)\n",
    "down"
   ]
  },
  {
   "cell_type": "code",
   "execution_count": 281,
   "metadata": {},
   "outputs": [
    {
     "data": {
      "text/plain": [
       "0    50.0\n",
       "1    60.0\n",
       "2    70.0\n",
       "Name: facenumber_in_poster, dtype: float64"
      ]
     },
     "execution_count": 281,
     "metadata": {},
     "output_type": "execute_result"
    }
   ],
   "source": [
    "movies_df.loc[0:2,'facenumber_in_poster']"
   ]
  },
  {
   "cell_type": "code",
   "execution_count": 282,
   "metadata": {},
   "outputs": [],
   "source": [
    "for col in movies_df.columns:\n",
    "    if  (movies_df.dtypes[col] == 'float64'):\n",
    "        up = upper_outlier(movies_df[col])\n",
    "        down = lower_outlier(movies_df[col])\n",
    "        movies_df.loc[movies_df[col] > up,col] = None\n",
    "        movies_df.loc[movies_df[col] < down,col] = None"
   ]
  },
  {
   "cell_type": "code",
   "execution_count": 283,
   "metadata": {},
   "outputs": [
    {
     "data": {
      "text/plain": [
       "0   NaN\n",
       "1   NaN\n",
       "2   NaN\n",
       "Name: facenumber_in_poster, dtype: float64"
      ]
     },
     "execution_count": 283,
     "metadata": {},
     "output_type": "execute_result"
    }
   ],
   "source": [
    "movies_df.loc[0:2,'facenumber_in_poster']"
   ]
  },
  {
   "cell_type": "markdown",
   "metadata": {},
   "source": [
    "For some explanatory analysis, we try to see numbers of movies per each year."
   ]
  },
  {
   "cell_type": "code",
   "execution_count": 284,
   "metadata": {
    "scrolled": false
   },
   "outputs": [
    {
     "data": {
      "text/plain": [
       "Text(0.5,1,'Movie Count by Year')"
      ]
     },
     "execution_count": 284,
     "metadata": {},
     "output_type": "execute_result"
    },
    {
     "data": {
      "image/png": "[encoded data removed]",
      "text/plain": [
       "<matplotlib.figure.Figure at 0x1a214acf28>"
      ]
     },
     "metadata": {},
     "output_type": "display_data"
    }
   ],
   "source": [
    "#Determine number of movies that were produced each year\n",
    "recent_movies=movies_df[movies_df['title_year'] >= 1990]\n",
    "movie_yearly_count = recent_movies['title_year'].value_counts().sort_index().plot(kind='bar', color='r', alpha=0.5, grid=False, rot=90)\n",
    "movie_yearly_count.set_xlabel('title_year')\n",
    "movie_yearly_count.set_ylabel('Movie Count')\n",
    "movie_yearly_count.set_title('Movie Count by Year')"
   ]
  },
  {
   "cell_type": "markdown",
   "metadata": {},
   "source": [
    "Now, we find all columns with float values and make a new dataframe for making a KNN classification model.We try to estimate IMDB Score of movie by other parameters, so try to remove not related columns."
   ]
  },
  {
   "cell_type": "code",
   "execution_count": 285,
   "metadata": {
    "scrolled": true
   },
   "outputs": [
    {
     "data": {
      "text/plain": [
       "['actor_1_facebook_likes',\n",
       " 'actor_2_facebook_likes',\n",
       " 'actor_3_facebook_likes',\n",
       " 'aspect_ratio',\n",
       " 'budget',\n",
       " 'director_facebook_likes',\n",
       " 'duration',\n",
       " 'facenumber_in_poster',\n",
       " 'gross',\n",
       " 'imdb_score',\n",
       " 'movie_facebook_likes',\n",
       " 'num_critic_for_reviews',\n",
       " 'num_user_for_reviews',\n",
       " 'title_year']"
      ]
     },
     "execution_count": 285,
     "metadata": {},
     "output_type": "execute_result"
    }
   ],
   "source": [
    "float_columns= [col for col in movies_df.columns if movies_df.dtypes[col] == 'float64']\n",
    "float_columns"
   ]
  },
  {
   "cell_type": "code",
   "execution_count": 286,
   "metadata": {},
   "outputs": [
    {
     "data": {
      "text/html": [
       "<div>\n",
       "<style scoped>\n",
       "    .dataframe tbody tr th:only-of-type {\n",
       "        vertical-align: middle;\n",
       "    }\n",
       "\n",
       "    .dataframe tbody tr th {\n",
       "        vertical-align: top;\n",
       "    }\n",
       "\n",
       "    .dataframe thead th {\n",
       "        text-align: right;\n",
       "    }\n",
       "</style>\n",
       "<table border=\"1\" class=\"dataframe\">\n",
       "  <thead>\n",
       "    <tr style=\"text-align: right;\">\n",
       "      <th></th>\n",
       "      <th>actor_1_facebook_likes</th>\n",
       "      <th>actor_2_facebook_likes</th>\n",
       "      <th>actor_3_facebook_likes</th>\n",
       "      <th>budget</th>\n",
       "      <th>director_facebook_likes</th>\n",
       "      <th>facenumber_in_poster</th>\n",
       "      <th>gross</th>\n",
       "      <th>imdb_score</th>\n",
       "      <th>movie_facebook_likes</th>\n",
       "    </tr>\n",
       "  </thead>\n",
       "  <tbody>\n",
       "    <tr>\n",
       "      <th>0</th>\n",
       "      <td>NaN</td>\n",
       "      <td>NaN</td>\n",
       "      <td>NaN</td>\n",
       "      <td>0.0</td>\n",
       "      <td>NaN</td>\n",
       "      <td>NaN</td>\n",
       "      <td>0.0</td>\n",
       "      <td>NaN</td>\n",
       "      <td>NaN</td>\n",
       "    </tr>\n",
       "    <tr>\n",
       "      <th>1</th>\n",
       "      <td>NaN</td>\n",
       "      <td>NaN</td>\n",
       "      <td>NaN</td>\n",
       "      <td>0.0</td>\n",
       "      <td>NaN</td>\n",
       "      <td>NaN</td>\n",
       "      <td>0.0</td>\n",
       "      <td>NaN</td>\n",
       "      <td>NaN</td>\n",
       "    </tr>\n",
       "    <tr>\n",
       "      <th>2</th>\n",
       "      <td>NaN</td>\n",
       "      <td>NaN</td>\n",
       "      <td>NaN</td>\n",
       "      <td>0.0</td>\n",
       "      <td>NaN</td>\n",
       "      <td>NaN</td>\n",
       "      <td>0.0</td>\n",
       "      <td>NaN</td>\n",
       "      <td>NaN</td>\n",
       "    </tr>\n",
       "    <tr>\n",
       "      <th>3</th>\n",
       "      <td>1000.0</td>\n",
       "      <td>936.0</td>\n",
       "      <td>855.0</td>\n",
       "      <td>NaN</td>\n",
       "      <td>NaN</td>\n",
       "      <td>0.0</td>\n",
       "      <td>NaN</td>\n",
       "      <td>7.9</td>\n",
       "      <td>33000.0</td>\n",
       "    </tr>\n",
       "    <tr>\n",
       "      <th>4</th>\n",
       "      <td>NaN</td>\n",
       "      <td>NaN</td>\n",
       "      <td>1000.0</td>\n",
       "      <td>NaN</td>\n",
       "      <td>563.0</td>\n",
       "      <td>0.0</td>\n",
       "      <td>NaN</td>\n",
       "      <td>7.1</td>\n",
       "      <td>NaN</td>\n",
       "    </tr>\n",
       "  </tbody>\n",
       "</table>\n",
       "</div>"
      ],
      "text/plain": [
       "   actor_1_facebook_likes  actor_2_facebook_likes  actor_3_facebook_likes  \\\n",
       "0                     NaN                     NaN                     NaN   \n",
       "1                     NaN                     NaN                     NaN   \n",
       "2                     NaN                     NaN                     NaN   \n",
       "3                  1000.0                   936.0                   855.0   \n",
       "4                     NaN                     NaN                  1000.0   \n",
       "\n",
       "   budget  director_facebook_likes  facenumber_in_poster  gross  imdb_score  \\\n",
       "0     0.0                      NaN                   NaN    0.0         NaN   \n",
       "1     0.0                      NaN                   NaN    0.0         NaN   \n",
       "2     0.0                      NaN                   NaN    0.0         NaN   \n",
       "3     NaN                      NaN                   0.0    NaN         7.9   \n",
       "4     NaN                    563.0                   0.0    NaN         7.1   \n",
       "\n",
       "   movie_facebook_likes  \n",
       "0                   NaN  \n",
       "1                   NaN  \n",
       "2                   NaN  \n",
       "3               33000.0  \n",
       "4                   NaN  "
      ]
     },
     "execution_count": 286,
     "metadata": {},
     "output_type": "execute_result"
    }
   ],
   "source": [
    "#Making new model\n",
    "movie_eval_df=(movies_df[float_columns]).drop(columns=['aspect_ratio','duration',\\\n",
    "                                                       'num_critic_for_reviews', \\\n",
    "                                                       'num_user_for_reviews',\n",
    "                                                       'title_year']) \n",
    "movie_eval_df.head()"
   ]
  },
  {
   "cell_type": "code",
   "execution_count": 287,
   "metadata": {},
   "outputs": [
    {
     "data": {
      "text/html": [
       "<div>\n",
       "<style scoped>\n",
       "    .dataframe tbody tr th:only-of-type {\n",
       "        vertical-align: middle;\n",
       "    }\n",
       "\n",
       "    .dataframe tbody tr th {\n",
       "        vertical-align: top;\n",
       "    }\n",
       "\n",
       "    .dataframe thead th {\n",
       "        text-align: right;\n",
       "    }\n",
       "</style>\n",
       "<table border=\"1\" class=\"dataframe\">\n",
       "  <thead>\n",
       "    <tr style=\"text-align: right;\">\n",
       "      <th></th>\n",
       "      <th>actor_1_facebook_likes</th>\n",
       "      <th>actor_2_facebook_likes</th>\n",
       "      <th>actor_3_facebook_likes</th>\n",
       "      <th>budget</th>\n",
       "      <th>director_facebook_likes</th>\n",
       "      <th>facenumber_in_poster</th>\n",
       "      <th>gross</th>\n",
       "      <th>imdb_score</th>\n",
       "      <th>movie_facebook_likes</th>\n",
       "    </tr>\n",
       "  </thead>\n",
       "  <tbody>\n",
       "    <tr>\n",
       "      <th>284</th>\n",
       "      <td>752.0</td>\n",
       "      <td>631.0</td>\n",
       "      <td>591.0</td>\n",
       "      <td>90000000.0</td>\n",
       "      <td>23.0</td>\n",
       "      <td>0.0</td>\n",
       "      <td>6712451.0</td>\n",
       "      <td>4.4</td>\n",
       "      <td>53.0</td>\n",
       "    </tr>\n",
       "    <tr>\n",
       "      <th>327</th>\n",
       "      <td>623.0</td>\n",
       "      <td>508.0</td>\n",
       "      <td>393.0</td>\n",
       "      <td>10000000.0</td>\n",
       "      <td>342.0</td>\n",
       "      <td>0.0</td>\n",
       "      <td>10200000.0</td>\n",
       "      <td>7.3</td>\n",
       "      <td>578.0</td>\n",
       "    </tr>\n",
       "    <tr>\n",
       "      <th>330</th>\n",
       "      <td>23000.0</td>\n",
       "      <td>196.0</td>\n",
       "      <td>28.0</td>\n",
       "      <td>94000000.0</td>\n",
       "      <td>611.0</td>\n",
       "      <td>2.0</td>\n",
       "      <td>9213.0</td>\n",
       "      <td>7.6</td>\n",
       "      <td>13000.0</td>\n",
       "    </tr>\n",
       "    <tr>\n",
       "      <th>334</th>\n",
       "      <td>8000.0</td>\n",
       "      <td>331.0</td>\n",
       "      <td>329.0</td>\n",
       "      <td>95000000.0</td>\n",
       "      <td>116.0</td>\n",
       "      <td>0.0</td>\n",
       "      <td>86897182.0</td>\n",
       "      <td>6.2</td>\n",
       "      <td>18000.0</td>\n",
       "    </tr>\n",
       "    <tr>\n",
       "      <th>353</th>\n",
       "      <td>1000.0</td>\n",
       "      <td>903.0</td>\n",
       "      <td>810.0</td>\n",
       "      <td>98000000.0</td>\n",
       "      <td>212.0</td>\n",
       "      <td>3.0</td>\n",
       "      <td>11000000.0</td>\n",
       "      <td>5.6</td>\n",
       "      <td>1000.0</td>\n",
       "    </tr>\n",
       "  </tbody>\n",
       "</table>\n",
       "</div>"
      ],
      "text/plain": [
       "     actor_1_facebook_likes  actor_2_facebook_likes  actor_3_facebook_likes  \\\n",
       "284                   752.0                   631.0                   591.0   \n",
       "327                   623.0                   508.0                   393.0   \n",
       "330                 23000.0                   196.0                    28.0   \n",
       "334                  8000.0                   331.0                   329.0   \n",
       "353                  1000.0                   903.0                   810.0   \n",
       "\n",
       "         budget  director_facebook_likes  facenumber_in_poster       gross  \\\n",
       "284  90000000.0                     23.0                   0.0   6712451.0   \n",
       "327  10000000.0                    342.0                   0.0  10200000.0   \n",
       "330  94000000.0                    611.0                   2.0      9213.0   \n",
       "334  95000000.0                    116.0                   0.0  86897182.0   \n",
       "353  98000000.0                    212.0                   3.0  11000000.0   \n",
       "\n",
       "     imdb_score  movie_facebook_likes  \n",
       "284         4.4                  53.0  \n",
       "327         7.3                 578.0  \n",
       "330         7.6               13000.0  \n",
       "334         6.2               18000.0  \n",
       "353         5.6                1000.0  "
      ]
     },
     "execution_count": 287,
     "metadata": {},
     "output_type": "execute_result"
    }
   ],
   "source": [
    "#Removing all rows with NaN value\n",
    "movie_eval_df = movie_eval_df.dropna(how='any',axis=0) \n",
    "movie_eval_df.head()"
   ]
  },
  {
   "cell_type": "code",
   "execution_count": 288,
   "metadata": {},
   "outputs": [
    {
     "data": {
      "text/plain": [
       "(961, 9)"
      ]
     },
     "execution_count": 288,
     "metadata": {},
     "output_type": "execute_result"
    }
   ],
   "source": [
    "movie_eval_df.shape"
   ]
  },
  {
   "cell_type": "markdown",
   "metadata": {},
   "source": [
    "For changing imdb_score to categorical value, we will round it's value."
   ]
  },
  {
   "cell_type": "code",
   "execution_count": 289,
   "metadata": {},
   "outputs": [
    {
     "data": {
      "text/html": [
       "<div>\n",
       "<style scoped>\n",
       "    .dataframe tbody tr th:only-of-type {\n",
       "        vertical-align: middle;\n",
       "    }\n",
       "\n",
       "    .dataframe tbody tr th {\n",
       "        vertical-align: top;\n",
       "    }\n",
       "\n",
       "    .dataframe thead th {\n",
       "        text-align: right;\n",
       "    }\n",
       "</style>\n",
       "<table border=\"1\" class=\"dataframe\">\n",
       "  <thead>\n",
       "    <tr style=\"text-align: right;\">\n",
       "      <th></th>\n",
       "      <th>actor_1_facebook_likes</th>\n",
       "      <th>actor_2_facebook_likes</th>\n",
       "      <th>actor_3_facebook_likes</th>\n",
       "      <th>budget</th>\n",
       "      <th>director_facebook_likes</th>\n",
       "      <th>facenumber_in_poster</th>\n",
       "      <th>gross</th>\n",
       "      <th>imdb_score</th>\n",
       "      <th>movie_facebook_likes</th>\n",
       "    </tr>\n",
       "  </thead>\n",
       "  <tbody>\n",
       "    <tr>\n",
       "      <th>284</th>\n",
       "      <td>752.0</td>\n",
       "      <td>631.0</td>\n",
       "      <td>591.0</td>\n",
       "      <td>90000000.0</td>\n",
       "      <td>23.0</td>\n",
       "      <td>0.0</td>\n",
       "      <td>6712451.0</td>\n",
       "      <td>4</td>\n",
       "      <td>53.0</td>\n",
       "    </tr>\n",
       "    <tr>\n",
       "      <th>327</th>\n",
       "      <td>623.0</td>\n",
       "      <td>508.0</td>\n",
       "      <td>393.0</td>\n",
       "      <td>10000000.0</td>\n",
       "      <td>342.0</td>\n",
       "      <td>0.0</td>\n",
       "      <td>10200000.0</td>\n",
       "      <td>7</td>\n",
       "      <td>578.0</td>\n",
       "    </tr>\n",
       "    <tr>\n",
       "      <th>330</th>\n",
       "      <td>23000.0</td>\n",
       "      <td>196.0</td>\n",
       "      <td>28.0</td>\n",
       "      <td>94000000.0</td>\n",
       "      <td>611.0</td>\n",
       "      <td>2.0</td>\n",
       "      <td>9213.0</td>\n",
       "      <td>8</td>\n",
       "      <td>13000.0</td>\n",
       "    </tr>\n",
       "    <tr>\n",
       "      <th>334</th>\n",
       "      <td>8000.0</td>\n",
       "      <td>331.0</td>\n",
       "      <td>329.0</td>\n",
       "      <td>95000000.0</td>\n",
       "      <td>116.0</td>\n",
       "      <td>0.0</td>\n",
       "      <td>86897182.0</td>\n",
       "      <td>6</td>\n",
       "      <td>18000.0</td>\n",
       "    </tr>\n",
       "    <tr>\n",
       "      <th>353</th>\n",
       "      <td>1000.0</td>\n",
       "      <td>903.0</td>\n",
       "      <td>810.0</td>\n",
       "      <td>98000000.0</td>\n",
       "      <td>212.0</td>\n",
       "      <td>3.0</td>\n",
       "      <td>11000000.0</td>\n",
       "      <td>6</td>\n",
       "      <td>1000.0</td>\n",
       "    </tr>\n",
       "  </tbody>\n",
       "</table>\n",
       "</div>"
      ],
      "text/plain": [
       "     actor_1_facebook_likes  actor_2_facebook_likes  actor_3_facebook_likes  \\\n",
       "284                   752.0                   631.0                   591.0   \n",
       "327                   623.0                   508.0                   393.0   \n",
       "330                 23000.0                   196.0                    28.0   \n",
       "334                  8000.0                   331.0                   329.0   \n",
       "353                  1000.0                   903.0                   810.0   \n",
       "\n",
       "         budget  director_facebook_likes  facenumber_in_poster       gross  \\\n",
       "284  90000000.0                     23.0                   0.0   6712451.0   \n",
       "327  10000000.0                    342.0                   0.0  10200000.0   \n",
       "330  94000000.0                    611.0                   2.0      9213.0   \n",
       "334  95000000.0                    116.0                   0.0  86897182.0   \n",
       "353  98000000.0                    212.0                   3.0  11000000.0   \n",
       "\n",
       "     imdb_score  movie_facebook_likes  \n",
       "284           4                  53.0  \n",
       "327           7                 578.0  \n",
       "330           8               13000.0  \n",
       "334           6               18000.0  \n",
       "353           6                1000.0  "
      ]
     },
     "execution_count": 289,
     "metadata": {},
     "output_type": "execute_result"
    }
   ],
   "source": [
    "movie_eval_df['imdb_score']=movie_eval_df['imdb_score'].apply(lambda x: int(round(x)))\n",
    "movie_eval_df.head()"
   ]
  },
  {
   "cell_type": "code",
   "execution_count": 290,
   "metadata": {},
   "outputs": [
    {
     "data": {
      "text/plain": [
       "array([4, 7, 8, 6, 5, 9])"
      ]
     },
     "execution_count": 290,
     "metadata": {},
     "output_type": "execute_result"
    }
   ],
   "source": [
    "#All value of scores\n",
    "scores = movie_eval_df['imdb_score'].unique()\n",
    "scores"
   ]
  },
  {
   "cell_type": "code",
   "execution_count": 291,
   "metadata": {},
   "outputs": [],
   "source": [
    "#Change to categorical parameter\n",
    "movie_eval_df['imdb_score'] = pd.Categorical(movie_eval_df['imdb_score'], categories=scores)"
   ]
  },
  {
   "cell_type": "markdown",
   "metadata": {},
   "source": [
    "Now, our dataset is ready for KNN classification. Based on size of dataset, k could be about 35. <br>\n",
    "First, we extract 20% of our data as validation set."
   ]
  },
  {
   "cell_type": "code",
   "execution_count": 292,
   "metadata": {},
   "outputs": [],
   "source": [
    "# loading libraries\n",
    "import numpy as np\n",
    "from sklearn.cross_validation import train_test_split\n",
    "\n",
    "# create design matrix X and target vector y\n",
    "X = np.array(movie_eval_df.iloc[:,0:13]) \n",
    "y = np.array(movie_eval_df['imdb_score']) \n",
    "\n",
    "# split into train and test\n",
    "X_train, X_val, y_train, y_val = train_test_split(X, y, test_size=0.2, random_state=42)"
   ]
  },
  {
   "cell_type": "markdown",
   "metadata": {},
   "source": [
    "Now, we apply KNN algorithm and find accuracy rate."
   ]
  },
  {
   "cell_type": "code",
   "execution_count": 293,
   "metadata": {
    "scrolled": true
   },
   "outputs": [
    {
     "name": "stdout",
     "output_type": "stream",
     "text": [
      "45.6\n"
     ]
    }
   ],
   "source": [
    "# loading library\n",
    "from sklearn.neighbors import KNeighborsClassifier\n",
    "\n",
    "# instantiate learning model (k = 35)\n",
    "\n",
    "knn = KNeighborsClassifier(n_neighbors=35)\n",
    "\n",
    "# fitting the model\n",
    "knn.fit(X_train, y_train)\n",
    "\n",
    "# predict the response\n",
    "pred = knn.predict(X_val)\n",
    "\n",
    "# evaluate accuracy\n",
    "print(round(100*sum(pred == y_val)/ pred.size , 2))"
   ]
  },
  {
   "cell_type": "markdown",
   "metadata": {},
   "source": [
    "This accuracy shows that KNN is not a good model and it is better to go for other models."
   ]
  }
 ],
 "metadata": {
  "kernelspec": {
   "display_name": "Python 3",
   "language": "python",
   "name": "python3"
  },
  "language_info": {
   "codemirror_mode": {
    "name": "ipython",
    "version": 3
   },
   "file_extension": ".py",
   "mimetype": "text/x-python",
   "name": "python",
   "nbconvert_exporter": "python",
   "pygments_lexer": "ipython3",
   "version": "3.6.4"
  }
 },
 "nbformat": 4,
 "nbformat_minor": 1
}
